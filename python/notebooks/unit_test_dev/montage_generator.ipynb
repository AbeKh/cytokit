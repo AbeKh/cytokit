{
 "cells": [
  {
   "cell_type": "markdown",
   "metadata": {},
   "source": [
    "# Montage Generator"
   ]
  },
  {
   "cell_type": "code",
   "execution_count": 1,
   "metadata": {},
   "outputs": [],
   "source": [
    "%matplotlib inline\n",
    "import numpy as np\n",
    "import matplotlib.pyplot as plt\n",
    "from codex import config as codex_config\n",
    "from codex import io as codex_io\n",
    "from codex.ops import tile_crop, tile_generator\n",
    "import os.path as osp\n",
    "\n",
    "exp_dir = 'F:\\\\20180424-d16-tcells-DAPI_CD3_CD8'\n",
    "config_dir = osp.join(exp_dir, 'config')\n",
    "output_dir = osp.join(exp_dir, 'output')\n",
    "res_image = osp.join(exp_dir, 'results', 'montage.tif')\n",
    "\n",
    "# exp_dir = 'F:\\\\2018-01-09-Run0-Clean'\n",
    "# config_dir = exp_dir\n",
    "# output_dir = 'F:\\\\2018-01-09-Run0-Clean-out-none\\\\1-Processor'\n",
    "# res_image = 'F:\\\\ComparisonResults\\\\hammerlab_lung_sample\\\\montage.tif'"
   ]
  },
  {
   "cell_type": "code",
   "execution_count": 2,
   "metadata": {},
   "outputs": [
    {
     "data": {
      "text/plain": [
       "['DAPI', 'CD3', 'CD8']"
      ]
     },
     "execution_count": 2,
     "metadata": {},
     "output_type": "execute_result"
    }
   ],
   "source": [
    "config = codex_config.load(config_dir)\n",
    "config.channel_names"
   ]
  },
  {
   "cell_type": "code",
   "execution_count": 3,
   "metadata": {},
   "outputs": [
    {
     "data": {
      "text/plain": [
       "(225, 1344, 1008)"
      ]
     },
     "execution_count": 3,
     "metadata": {},
     "output_type": "execute_result"
    }
   ],
   "source": [
    "config.n_tiles_per_region, config.tile_width, config.tile_height"
   ]
  },
  {
   "cell_type": "code",
   "execution_count": 4,
   "metadata": {},
   "outputs": [],
   "source": [
    "def load_montage(icyc=0, iz=0, ich=0, region=0, bw=1):\n",
    "    tiles = []\n",
    "    tile_indexes = list(range(config.n_tiles_per_region))\n",
    "    tw, th = config.tile_width, config.tile_height\n",
    "    rw, rh = config.region_width, config.region_height\n",
    "    img = np.zeros((rh * th, rw * tw))\n",
    "    for tile_index in tile_indexes:\n",
    "        tx, ty = config.get_tile_coordinates(tile_index)\n",
    "        path = codex_io.get_processor_img_path(region, tx, ty)\n",
    "        \n",
    "        tile = codex_io.read_tile(osp.join(output_dir, path), config)\n",
    "        tile = tile[icyc, iz, ich, :, :]\n",
    "        \n",
    "        # Highlight borders\n",
    "        if bw > 0:\n",
    "            tile[0:bw, :] = 0\n",
    "            tile[-bw:, :] = 0\n",
    "            tile[:, 0:bw] = 0\n",
    "            tile[:, -bw:] = 0\n",
    "        \n",
    "        # Add to montage\n",
    "        img[(ty * th):((ty + 1) * th), (tx * tw):((tx + 1) * tw)] = tile\n",
    "    return img"
   ]
  },
  {
   "cell_type": "code",
   "execution_count": 5,
   "metadata": {},
   "outputs": [
    {
     "data": {
      "text/plain": [
       "(15120, 20160)"
      ]
     },
     "execution_count": 5,
     "metadata": {},
     "output_type": "execute_result"
    }
   ],
   "source": [
    "channel = 0\n",
    "img = load_montage(ich=channel, bw=20)\n",
    "img.shape"
   ]
  },
  {
   "cell_type": "code",
   "execution_count": 6,
   "metadata": {},
   "outputs": [
    {
     "data": {
      "text/plain": [
       "'F:\\\\20180424-d16-tcells-DAPI_CD3_CD8\\\\results\\\\montage.tif'"
      ]
     },
     "execution_count": 6,
     "metadata": {},
     "output_type": "execute_result"
    }
   ],
   "source": [
    "codex_io.save_image(res_image, img.astype(np.float32))\n",
    "res_image"
   ]
  },
  {
   "cell_type": "code",
   "execution_count": 8,
   "metadata": {},
   "outputs": [],
   "source": [
    "# fig, ax = plt.subplots()\n",
    "# fig.set_size_inches(12, 12)\n",
    "# ax.imshow(img)"
   ]
  }
 ],
 "metadata": {
  "kernelspec": {
   "display_name": "Python 3",
   "language": "python",
   "name": "python3"
  },
  "language_info": {
   "codemirror_mode": {
    "name": "ipython",
    "version": 3
   },
   "file_extension": ".py",
   "mimetype": "text/x-python",
   "name": "python",
   "nbconvert_exporter": "python",
   "pygments_lexer": "ipython3",
   "version": "3.6.4"
  }
 },
 "nbformat": 4,
 "nbformat_minor": 2
}
