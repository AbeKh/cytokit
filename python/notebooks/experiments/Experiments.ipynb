{
 "cells": [
  {
   "cell_type": "markdown",
   "metadata": {},
   "source": [
    "## Experiments\n",
    "\n",
    "Pipeline Steps:\n",
    "\n",
    "*from Driffta*\n",
    "\n",
    "- Given region and tile\n",
    "    - load Experiment.json, channelNames.txt, and processingOptions.json\n",
    "    - for each channel + z\n",
    "        - construct input image name\n",
    "        - if not keyence, copy the file first before opening?\n",
    "        - if channel_arrangement is \"color\" do max z-projection\n",
    "        - \\* get explanation on what to do with H&E\n",
    "        - aggregate images into stack\n",
    "    - choose best focus z-plane for each cycle\n",
    "        - currently, the same plane is used for all cycles though\n",
    "    - run drift compensation\n",
    "    - crop off tile overlap \n",
    "        - note that this is different when \"useBleachMinimizingCrop\" is set in processingOptions\n",
    "    - run deconvolution\n",
    "    - set LUTS (for either 3 or 4 channels)\n",
    "    - do background subtraction if set by experiment.bgSub\n",
    "    - save result\n",
    "    - also save single z-stack using best focus plans in separate dir\n",
    "    \n"
   ]
  },
  {
   "cell_type": "code",
   "execution_count": 1,
   "metadata": {},
   "outputs": [],
   "source": [
    "from codex import config"
   ]
  },
  {
   "cell_type": "code",
   "execution_count": 3,
   "metadata": {},
   "outputs": [],
   "source": [
    "from dask.distributed import Client, LocalCluster\n",
    "cluster = LocalCluster(n_workers=3, processes=True)\n",
    "client = Client(cluster)\n",
    "client"
   ]
  },
  {
   "cell_type": "code",
   "execution_count": 5,
   "metadata": {},
   "outputs": [
    {
     "data": {
      "text/html": [
       "<table style=\"border: 2px solid white;\">\n",
       "<tr>\n",
       "<td style=\"vertical-align: top; border: 0px solid white\">\n",
       "<h3>Client</h3>\n",
       "<ul>\n",
       "  <li><b>Scheduler: </b>tcp://127.0.0.1:58463\n",
       "</ul>\n",
       "</td>\n",
       "<td style=\"vertical-align: top; border: 0px solid white\">\n",
       "<h3>Cluster</h3>\n",
       "<ul>\n",
       "  <li><b>Workers: </b>3</li>\n",
       "  <li><b>Cores: </b>9</li>\n",
       "  <li><b>Memory: </b>19.33 GB</li>\n",
       "</ul>\n",
       "</td>\n",
       "</tr>\n",
       "</table>"
      ],
      "text/plain": [
       "<Client: scheduler='tcp://127.0.0.1:58463' processes=3 cores=9>"
      ]
     },
     "execution_count": 5,
     "metadata": {},
     "output_type": "execute_result"
    }
   ],
   "source": [
    "client"
   ]
  },
  {
   "cell_type": "code",
   "execution_count": 11,
   "metadata": {},
   "outputs": [
    {
     "data": {
      "text/plain": [
       "[<Future: status: pending, key: fn-50ac6fd4db73382b2d803f919be8a238>,\n",
       " <Future: status: pending, key: fn-b98761c5920ab097086c24e37aaf27e8>,\n",
       " <Future: status: pending, key: fn-370c033fb5625485f704265759103b71>]"
      ]
     },
     "execution_count": 11,
     "metadata": {},
     "output_type": "execute_result"
    }
   ],
   "source": [
    "import dask.array as da\n",
    "\n",
    "def fn(a):\n",
    "    import time\n",
    "    import numpy as np\n",
    "    for i in range(100):\n",
    "        np.matmul(np.ones((1000, 1000)), np.ones((1000, 1000)))\n",
    "    return a*2\n",
    "res = client.map(fn, [1, 2, 3])\n",
    "res"
   ]
  },
  {
   "cell_type": "code",
   "execution_count": 19,
   "metadata": {},
   "outputs": [
    {
     "data": {
      "text/plain": [
       "[2, 4, 6]"
      ]
     },
     "execution_count": 19,
     "metadata": {},
     "output_type": "execute_result"
    }
   ],
   "source": [
    "[r.result() for r in res]"
   ]
  },
  {
   "cell_type": "code",
   "execution_count": 21,
   "metadata": {},
   "outputs": [],
   "source": [
    "cluster.close()"
   ]
  },
  {
   "cell_type": "code",
   "execution_count": 19,
   "metadata": {},
   "outputs": [
    {
     "data": {
      "text/plain": [
       "[name: \"/device:CPU:0\"\n",
       " device_type: \"CPU\"\n",
       " memory_limit: 268435456\n",
       " locality {\n",
       " }\n",
       " incarnation: 10807682206669945409]"
      ]
     },
     "execution_count": 19,
     "metadata": {},
     "output_type": "execute_result"
    }
   ],
   "source": [
    "from tensorflow.python.client import device_lib\n",
    "device_lib.list_local_devices()"
   ]
  },
  {
   "cell_type": "code",
   "execution_count": 28,
   "metadata": {},
   "outputs": [],
   "source": [
    "from flowdec import restoration as fd_restoration\n",
    "from flowdec import data as fd_data\n",
    "import numpy as np\n",
    "\n",
    "def run_mult(device):\n",
    "    for i in range(1000):\n",
    "        np.matmul(np.ones((1000, 1000)), np.ones((1000, 1000)))\n",
    "    return 1\n",
    "\n",
    "def run_deconvolution(device):\n",
    "    acq = fd_data.bars_25pct()\n",
    "    algo = fd_restoration.RichardsonLucyDeconvolver(3).initialize()\n",
    "    res = algo.run(acq, niter=1000).data\n",
    "    return res"
   ]
  },
  {
   "cell_type": "code",
   "execution_count": 29,
   "metadata": {},
   "outputs": [],
   "source": [
    "from dask.distributed import Client, LocalCluster\n",
    "cluster = LocalCluster(n_workers=3, processes=True)\n",
    "client = Client(cluster)\n",
    "\n",
    "try:\n",
    "    #res = client.map(run_deconvolution, ['/cpu:0']*3)\n",
    "    res = client.map(run_mult, ['/cpu:0']*3)\n",
    "    res = [r.result() for r in res]\n",
    "finally:\n",
    "    client.close()\n",
    "    cluster.close()"
   ]
  },
  {
   "cell_type": "code",
   "execution_count": 17,
   "metadata": {},
   "outputs": [
    {
     "data": {
      "text/plain": [
       "32"
      ]
     },
     "execution_count": 17,
     "metadata": {},
     "output_type": "execute_result"
    }
   ],
   "source": [
    "len(res[0])"
   ]
  },
  {
   "cell_type": "code",
   "execution_count": null,
   "metadata": {},
   "outputs": [],
   "source": []
  }
 ],
 "metadata": {
  "kernelspec": {
   "display_name": "Python 3",
   "language": "python",
   "name": "python3"
  },
  "language_info": {
   "codemirror_mode": {
    "name": "ipython",
    "version": 3
   },
   "file_extension": ".py",
   "mimetype": "text/x-python",
   "name": "python",
   "nbconvert_exporter": "python",
   "pygments_lexer": "ipython3",
   "version": "3.6.5"
  }
 },
 "nbformat": 4,
 "nbformat_minor": 2
}
