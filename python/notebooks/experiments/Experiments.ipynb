{
 "cells": [
  {
   "cell_type": "markdown",
   "metadata": {},
   "source": [
    "## Experiments\n",
    "\n",
    "Pipeline Steps:\n",
    "\n",
    "*from Driffta*\n",
    "\n",
    "- Given region and tile\n",
    "    - load Experiment.json, channelNames.txt, and processingOptions.json\n",
    "    - for each channel + z\n",
    "        - construct input image name\n",
    "        - if not keyence, copy the file first before opening?\n",
    "        - if channel_arrangement is \"color\" do max z-projection\n",
    "        - \\* get explanation on what to do with H&E\n",
    "        - aggregate images into stack\n",
    "    - choose best focus z-plane for each cycle\n",
    "        - currently, the same plane is used for all cycles though\n",
    "    - run drift compensation\n",
    "    - crop off tile overlap \n",
    "        - note that this is different when \"useBleachMinimizingCrop\" is set in processingOptions\n",
    "    - run deconvolution\n",
    "    - set LUTS (for either 3 or 4 channels)\n",
    "    - do background subtraction if set by experiment.bgSub\n",
    "    - save result\n",
    "    - also save single z-stack using best focus plans in separate dir\n",
    "    \n"
   ]
  },
  {
   "cell_type": "code",
   "execution_count": 1,
   "metadata": {},
   "outputs": [],
   "source": [
    "from codex import config"
   ]
  },
  {
   "cell_type": "code",
   "execution_count": null,
   "metadata": {},
   "outputs": [],
   "source": [
    "from skimage import data\n",
    "\n",
    "# Create same image and offset version of that image\n",
    "image = data.camera()\n",
    "shift = (-22.4, 13.32)\n",
    "offset_image = fourier_shift(np.fft.fftn(image), shift)\n",
    "offset_image = np.fft.ifftn(offset_image)\n",
    "\n",
    "\n",
    "def get_tf_config():\n",
    "    return tf.ConfigProto()\n",
    "\n",
    "\n",
    "class OpGraph(object):\n",
    "\n",
    "    def __init__(self, tf_graph, inputs, outputs):\n",
    "        self.tf_graph = tf_graph\n",
    "        self.inputs = inputs\n",
    "        self.outputs = outputs\n",
    "    \n",
    "class TensorFlowOp(object):\n",
    "    \n",
    "    def __init__(self):\n",
    "        self.graph = None\n",
    "        \n",
    "    def initialize(self):\n",
    "        self.graph = self._build_graph()\n",
    "        \n",
    "    def _build_graph(self):\n",
    "        raise NotImplementedError()\n",
    "        \n",
    "    def _run(self, input_kwargs):\n",
    "        if self.graph is None:\n",
    "            raise ValueError('Must initialize operation before running (via `.initialize` method)')\n",
    "\n",
    "        with tf.Session(config=get_tf_config(), graph=self.graph) as sess:\n",
    "            args_dict = {self.graph.inputs[k]:v for k, v in input_kwargs.items() if v is not None}\n",
    "            res = sess.run(self.graph.outputs, feed_dict=args_dict)\n",
    "            return res\n",
    "        \n",
    "class DriftCompensator(object):\n",
    "    \n",
    "    def __init__(self, n_dims):\n",
    "        self.n_dims = n_dims\n",
    "        \n",
    "    def _build_graph(self):\n",
    "        \n",
    "    \n",
    "    def run(reference_image, offset_image):\n",
    "        \n",
    "        \n",
    "def tf_phase_correlation(reference_image, offset_image):\n",
    "    nx, ny = image.shape\n",
    "    g = tf.Graph()\n",
    "    with g.as_default():\n",
    "        # Compute cross-correlation via FFT\n",
    "        image_product = tf.multiply(tf.fft2d(image), tf.conj(tf.fft2d(offset_image)))\n",
    "        cc_image = tf.ifft2d(image_product)\n",
    "        \n",
    "        # Compute maximum intensity pixel location within 2D cross-correlation array\n",
    "        # by first flattening and then using argmax \n",
    "        cc_arr = tf.reshape(tf.real(cc_image), [-1])\n",
    "        idx = tf.argmax(cc_arr, axis=0)\n",
    "        \n",
    "        # Convert flattened max index to original coordinates\n",
    "        iy = tf.cast(tf.floor(idx / ny), tf.int64)\n",
    "        ix = tf.cast((idx % ny) - ny, tf.int64)\n",
    "\n",
    "        with tf.Session(graph=g) as sess:\n",
    "            return sess.run([cc_image, iy, ix])"
   ]
  },
  {
   "cell_type": "code",
   "execution_count": 2,
   "metadata": {},
   "outputs": [
    {
     "name": "stderr",
     "output_type": "stream",
     "text": [
      "Setting device to 0\n",
      "Setting device to 1\n"
     ]
    },
    {
     "name": "stdout",
     "output_type": "stream",
     "text": [
      "Done set device\n"
     ]
    },
    {
     "ename": "KeyboardInterrupt",
     "evalue": "",
     "output_type": "error",
     "traceback": [
      "\u001b[1;31m---------------------------------------------------------------------------\u001b[0m",
      "\u001b[1;31mKeyboardInterrupt\u001b[0m                         Traceback (most recent call last)",
      "\u001b[1;32m<ipython-input-2-b9b427372a06>\u001b[0m in \u001b[0;36m<module>\u001b[1;34m()\u001b[0m\n\u001b[0;32m     11\u001b[0m     \u001b[0mres\u001b[0m \u001b[1;33m=\u001b[0m \u001b[0mclient\u001b[0m\u001b[1;33m.\u001b[0m\u001b[0mmap\u001b[0m\u001b[1;33m(\u001b[0m\u001b[0mrun_deconvolution\u001b[0m\u001b[1;33m,\u001b[0m \u001b[1;33m[\u001b[0m\u001b[1;34m'/gpu:0'\u001b[0m\u001b[1;33m,\u001b[0m \u001b[1;34m'/gpu:1'\u001b[0m\u001b[1;33m]\u001b[0m\u001b[1;33m)\u001b[0m\u001b[1;33m\u001b[0m\u001b[0m\n\u001b[0;32m     12\u001b[0m     \u001b[1;31m#res = client.map(run_mult, ['/cpu:0']*3)\u001b[0m\u001b[1;33m\u001b[0m\u001b[1;33m\u001b[0m\u001b[0m\n\u001b[1;32m---> 13\u001b[1;33m     \u001b[0mres\u001b[0m \u001b[1;33m=\u001b[0m \u001b[1;33m[\u001b[0m\u001b[0mr\u001b[0m\u001b[1;33m.\u001b[0m\u001b[0mresult\u001b[0m\u001b[1;33m(\u001b[0m\u001b[1;33m)\u001b[0m \u001b[1;32mfor\u001b[0m \u001b[0mr\u001b[0m \u001b[1;32min\u001b[0m \u001b[0mres\u001b[0m\u001b[1;33m]\u001b[0m\u001b[1;33m\u001b[0m\u001b[0m\n\u001b[0m\u001b[0;32m     14\u001b[0m     \u001b[0mlogs\u001b[0m \u001b[1;33m=\u001b[0m \u001b[0mclient\u001b[0m\u001b[1;33m.\u001b[0m\u001b[0mget_worker_logs\u001b[0m\u001b[1;33m(\u001b[0m\u001b[1;33m)\u001b[0m\u001b[1;33m\u001b[0m\u001b[0m\n\u001b[0;32m     15\u001b[0m \u001b[1;32mfinally\u001b[0m\u001b[1;33m:\u001b[0m\u001b[1;33m\u001b[0m\u001b[0m\n",
      "\u001b[1;32m<ipython-input-2-b9b427372a06>\u001b[0m in \u001b[0;36m<listcomp>\u001b[1;34m(.0)\u001b[0m\n\u001b[0;32m     11\u001b[0m     \u001b[0mres\u001b[0m \u001b[1;33m=\u001b[0m \u001b[0mclient\u001b[0m\u001b[1;33m.\u001b[0m\u001b[0mmap\u001b[0m\u001b[1;33m(\u001b[0m\u001b[0mrun_deconvolution\u001b[0m\u001b[1;33m,\u001b[0m \u001b[1;33m[\u001b[0m\u001b[1;34m'/gpu:0'\u001b[0m\u001b[1;33m,\u001b[0m \u001b[1;34m'/gpu:1'\u001b[0m\u001b[1;33m]\u001b[0m\u001b[1;33m)\u001b[0m\u001b[1;33m\u001b[0m\u001b[0m\n\u001b[0;32m     12\u001b[0m     \u001b[1;31m#res = client.map(run_mult, ['/cpu:0']*3)\u001b[0m\u001b[1;33m\u001b[0m\u001b[1;33m\u001b[0m\u001b[0m\n\u001b[1;32m---> 13\u001b[1;33m     \u001b[0mres\u001b[0m \u001b[1;33m=\u001b[0m \u001b[1;33m[\u001b[0m\u001b[0mr\u001b[0m\u001b[1;33m.\u001b[0m\u001b[0mresult\u001b[0m\u001b[1;33m(\u001b[0m\u001b[1;33m)\u001b[0m \u001b[1;32mfor\u001b[0m \u001b[0mr\u001b[0m \u001b[1;32min\u001b[0m \u001b[0mres\u001b[0m\u001b[1;33m]\u001b[0m\u001b[1;33m\u001b[0m\u001b[0m\n\u001b[0m\u001b[0;32m     14\u001b[0m     \u001b[0mlogs\u001b[0m \u001b[1;33m=\u001b[0m \u001b[0mclient\u001b[0m\u001b[1;33m.\u001b[0m\u001b[0mget_worker_logs\u001b[0m\u001b[1;33m(\u001b[0m\u001b[1;33m)\u001b[0m\u001b[1;33m\u001b[0m\u001b[0m\n\u001b[0;32m     15\u001b[0m \u001b[1;32mfinally\u001b[0m\u001b[1;33m:\u001b[0m\u001b[1;33m\u001b[0m\u001b[0m\n",
      "\u001b[1;32mc:\\users\\user\\anaconda3\\envs\\codex\\lib\\site-packages\\distributed\\client.py\u001b[0m in \u001b[0;36mresult\u001b[1;34m(self, timeout)\u001b[0m\n\u001b[0;32m    167\u001b[0m         \u001b[1;31m# shorten error traceback\u001b[0m\u001b[1;33m\u001b[0m\u001b[1;33m\u001b[0m\u001b[0m\n\u001b[0;32m    168\u001b[0m         result = self.client.sync(self._result, callback_timeout=timeout,\n\u001b[1;32m--> 169\u001b[1;33m                                   raiseit=False)\n\u001b[0m\u001b[0;32m    170\u001b[0m         \u001b[1;32mif\u001b[0m \u001b[0mself\u001b[0m\u001b[1;33m.\u001b[0m\u001b[0mstatus\u001b[0m \u001b[1;33m==\u001b[0m \u001b[1;34m'error'\u001b[0m\u001b[1;33m:\u001b[0m\u001b[1;33m\u001b[0m\u001b[0m\n\u001b[0;32m    171\u001b[0m             \u001b[0msix\u001b[0m\u001b[1;33m.\u001b[0m\u001b[0mreraise\u001b[0m\u001b[1;33m(\u001b[0m\u001b[1;33m*\u001b[0m\u001b[0mresult\u001b[0m\u001b[1;33m)\u001b[0m\u001b[1;33m\u001b[0m\u001b[0m\n",
      "\u001b[1;32mc:\\users\\user\\anaconda3\\envs\\codex\\lib\\site-packages\\distributed\\client.py\u001b[0m in \u001b[0;36msync\u001b[1;34m(self, func, *args, **kwargs)\u001b[0m\n\u001b[0;32m    613\u001b[0m             \u001b[1;32mreturn\u001b[0m \u001b[0mfuture\u001b[0m\u001b[1;33m\u001b[0m\u001b[0m\n\u001b[0;32m    614\u001b[0m         \u001b[1;32melse\u001b[0m\u001b[1;33m:\u001b[0m\u001b[1;33m\u001b[0m\u001b[0m\n\u001b[1;32m--> 615\u001b[1;33m             \u001b[1;32mreturn\u001b[0m \u001b[0msync\u001b[0m\u001b[1;33m(\u001b[0m\u001b[0mself\u001b[0m\u001b[1;33m.\u001b[0m\u001b[0mloop\u001b[0m\u001b[1;33m,\u001b[0m \u001b[0mfunc\u001b[0m\u001b[1;33m,\u001b[0m \u001b[1;33m*\u001b[0m\u001b[0margs\u001b[0m\u001b[1;33m,\u001b[0m \u001b[1;33m**\u001b[0m\u001b[0mkwargs\u001b[0m\u001b[1;33m)\u001b[0m\u001b[1;33m\u001b[0m\u001b[0m\n\u001b[0m\u001b[0;32m    616\u001b[0m \u001b[1;33m\u001b[0m\u001b[0m\n\u001b[0;32m    617\u001b[0m     \u001b[1;32mdef\u001b[0m \u001b[0m__repr__\u001b[0m\u001b[1;33m(\u001b[0m\u001b[0mself\u001b[0m\u001b[1;33m)\u001b[0m\u001b[1;33m:\u001b[0m\u001b[1;33m\u001b[0m\u001b[0m\n",
      "\u001b[1;32mc:\\users\\user\\anaconda3\\envs\\codex\\lib\\site-packages\\distributed\\utils.py\u001b[0m in \u001b[0;36msync\u001b[1;34m(loop, func, *args, **kwargs)\u001b[0m\n\u001b[0;32m    249\u001b[0m     \u001b[1;32melse\u001b[0m\u001b[1;33m:\u001b[0m\u001b[1;33m\u001b[0m\u001b[0m\n\u001b[0;32m    250\u001b[0m         \u001b[1;32mwhile\u001b[0m \u001b[1;32mnot\u001b[0m \u001b[0me\u001b[0m\u001b[1;33m.\u001b[0m\u001b[0mis_set\u001b[0m\u001b[1;33m(\u001b[0m\u001b[1;33m)\u001b[0m\u001b[1;33m:\u001b[0m\u001b[1;33m\u001b[0m\u001b[0m\n\u001b[1;32m--> 251\u001b[1;33m             \u001b[0me\u001b[0m\u001b[1;33m.\u001b[0m\u001b[0mwait\u001b[0m\u001b[1;33m(\u001b[0m\u001b[1;36m10\u001b[0m\u001b[1;33m)\u001b[0m\u001b[1;33m\u001b[0m\u001b[0m\n\u001b[0m\u001b[0;32m    252\u001b[0m     \u001b[1;32mif\u001b[0m \u001b[0merror\u001b[0m\u001b[1;33m[\u001b[0m\u001b[1;36m0\u001b[0m\u001b[1;33m]\u001b[0m\u001b[1;33m:\u001b[0m\u001b[1;33m\u001b[0m\u001b[0m\n\u001b[0;32m    253\u001b[0m         \u001b[0msix\u001b[0m\u001b[1;33m.\u001b[0m\u001b[0mreraise\u001b[0m\u001b[1;33m(\u001b[0m\u001b[1;33m*\u001b[0m\u001b[0merror\u001b[0m\u001b[1;33m[\u001b[0m\u001b[1;36m0\u001b[0m\u001b[1;33m]\u001b[0m\u001b[1;33m)\u001b[0m\u001b[1;33m\u001b[0m\u001b[0m\n",
      "\u001b[1;32mc:\\users\\user\\anaconda3\\envs\\codex\\lib\\threading.py\u001b[0m in \u001b[0;36mwait\u001b[1;34m(self, timeout)\u001b[0m\n\u001b[0;32m    549\u001b[0m             \u001b[0msignaled\u001b[0m \u001b[1;33m=\u001b[0m \u001b[0mself\u001b[0m\u001b[1;33m.\u001b[0m\u001b[0m_flag\u001b[0m\u001b[1;33m\u001b[0m\u001b[0m\n\u001b[0;32m    550\u001b[0m             \u001b[1;32mif\u001b[0m \u001b[1;32mnot\u001b[0m \u001b[0msignaled\u001b[0m\u001b[1;33m:\u001b[0m\u001b[1;33m\u001b[0m\u001b[0m\n\u001b[1;32m--> 551\u001b[1;33m                 \u001b[0msignaled\u001b[0m \u001b[1;33m=\u001b[0m \u001b[0mself\u001b[0m\u001b[1;33m.\u001b[0m\u001b[0m_cond\u001b[0m\u001b[1;33m.\u001b[0m\u001b[0mwait\u001b[0m\u001b[1;33m(\u001b[0m\u001b[0mtimeout\u001b[0m\u001b[1;33m)\u001b[0m\u001b[1;33m\u001b[0m\u001b[0m\n\u001b[0m\u001b[0;32m    552\u001b[0m             \u001b[1;32mreturn\u001b[0m \u001b[0msignaled\u001b[0m\u001b[1;33m\u001b[0m\u001b[0m\n\u001b[0;32m    553\u001b[0m \u001b[1;33m\u001b[0m\u001b[0m\n",
      "\u001b[1;32mc:\\users\\user\\anaconda3\\envs\\codex\\lib\\threading.py\u001b[0m in \u001b[0;36mwait\u001b[1;34m(self, timeout)\u001b[0m\n\u001b[0;32m    297\u001b[0m             \u001b[1;32melse\u001b[0m\u001b[1;33m:\u001b[0m\u001b[1;33m\u001b[0m\u001b[0m\n\u001b[0;32m    298\u001b[0m                 \u001b[1;32mif\u001b[0m \u001b[0mtimeout\u001b[0m \u001b[1;33m>\u001b[0m \u001b[1;36m0\u001b[0m\u001b[1;33m:\u001b[0m\u001b[1;33m\u001b[0m\u001b[0m\n\u001b[1;32m--> 299\u001b[1;33m                     \u001b[0mgotit\u001b[0m \u001b[1;33m=\u001b[0m \u001b[0mwaiter\u001b[0m\u001b[1;33m.\u001b[0m\u001b[0macquire\u001b[0m\u001b[1;33m(\u001b[0m\u001b[1;32mTrue\u001b[0m\u001b[1;33m,\u001b[0m \u001b[0mtimeout\u001b[0m\u001b[1;33m)\u001b[0m\u001b[1;33m\u001b[0m\u001b[0m\n\u001b[0m\u001b[0;32m    300\u001b[0m                 \u001b[1;32melse\u001b[0m\u001b[1;33m:\u001b[0m\u001b[1;33m\u001b[0m\u001b[0m\n\u001b[0;32m    301\u001b[0m                     \u001b[0mgotit\u001b[0m \u001b[1;33m=\u001b[0m \u001b[0mwaiter\u001b[0m\u001b[1;33m.\u001b[0m\u001b[0macquire\u001b[0m\u001b[1;33m(\u001b[0m\u001b[1;32mFalse\u001b[0m\u001b[1;33m)\u001b[0m\u001b[1;33m\u001b[0m\u001b[0m\n",
      "\u001b[1;31mKeyboardInterrupt\u001b[0m: "
     ]
    }
   ],
   "source": [
    "from dask.distributed import Client, LocalCluster\n",
    "cluster = LocalCluster(n_workers=2, threads_per_worker=1,\n",
    "                       processes=True, memory_limit=16e9)\n",
    "client = Client(cluster)\n",
    "\n",
    "try:\n",
    "    workers = cluster.workers\n",
    "    client.run(init_logging)\n",
    "    client.run(set_device, '0', workers=[workers[0].address])\n",
    "    client.run(set_device, '1', workers=[workers[1].address])\n",
    "    print('Done set device')\n",
    "    res = client.map(run_deconvolution, ['/gpu:0', '/gpu:1'])\n",
    "    #res = client.map(run_mult, ['/cpu:0']*3)\n",
    "    res = [r.result() for r in res]\n",
    "    logs = client.get_worker_logs()\n",
    "finally:\n",
    "    client.close()\n",
    "    cluster.close()"
   ]
  },
  {
   "cell_type": "code",
   "execution_count": 40,
   "metadata": {},
   "outputs": [
    {
     "data": {
      "text/plain": [
       "[['INFO',\n",
       "  'distributed.worker - INFO -       Start worker at:      tcp://127.0.0.1:52195'],\n",
       " ['INFO',\n",
       "  'distributed.worker - INFO -          Listening to:      tcp://127.0.0.1:52195'],\n",
       " ['INFO',\n",
       "  'distributed.worker - INFO -              nanny at:            127.0.0.1:52188'],\n",
       " ['INFO',\n",
       "  'distributed.worker - INFO - Waiting to connect to:      tcp://127.0.0.1:52186'],\n",
       " ['INFO',\n",
       "  'distributed.worker - INFO - -------------------------------------------------'],\n",
       " ['INFO',\n",
       "  'distributed.worker - INFO -               Threads:                          1'],\n",
       " ['INFO',\n",
       "  'distributed.worker - INFO -                Memory:                   16.00 GB'],\n",
       " ['INFO',\n",
       "  'distributed.worker - INFO -       Local Directory: C:\\\\Users\\\\User\\\\repos\\\\codex\\\\python\\\\notebooks\\\\experiments\\\\dask-worker-space\\\\worker-v3f83e63'],\n",
       " ['INFO',\n",
       "  'distributed.worker - INFO - -------------------------------------------------'],\n",
       " ['INFO',\n",
       "  'distributed.worker - INFO -         Registered to:      tcp://127.0.0.1:52186'],\n",
       " ['INFO',\n",
       "  'distributed.worker - INFO - -------------------------------------------------']]"
      ]
     },
     "execution_count": 40,
     "metadata": {},
     "output_type": "execute_result"
    }
   ],
   "source": [
    "logs[list(logs.keys())[0]]"
   ]
  },
  {
   "cell_type": "code",
   "execution_count": null,
   "metadata": {},
   "outputs": [],
   "source": []
  }
 ],
 "metadata": {
  "kernelspec": {
   "display_name": "Python 3",
   "language": "python",
   "name": "python3"
  },
  "language_info": {
   "codemirror_mode": {
    "name": "ipython",
    "version": 3
   },
   "file_extension": ".py",
   "mimetype": "text/x-python",
   "name": "python",
   "nbconvert_exporter": "python",
   "pygments_lexer": "ipython3",
   "version": "3.6.5"
  }
 },
 "nbformat": 4,
 "nbformat_minor": 2
}
