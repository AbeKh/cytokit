{
 "cells": [
  {
   "cell_type": "code",
   "execution_count": 11,
   "metadata": {},
   "outputs": [],
   "source": [
    "import json\n",
    "import numpy as np\n",
    "import os.path as osp\n",
    "import codex\n",
    "from codex import simulation as codex_sim\n",
    "from codex import config as codex_config\n",
    "from codex import io as codex_io\n",
    "from flowdec.nb import utils as nb_utils\n",
    "from flowdec import data as fd_data"
   ]
  },
  {
   "cell_type": "code",
   "execution_count": 2,
   "metadata": {},
   "outputs": [],
   "source": [
    "src_config = codex_config.load_example_config('ex1')"
   ]
  },
  {
   "cell_type": "code",
   "execution_count": 34,
   "metadata": {},
   "outputs": [
    {
     "data": {
      "text/plain": [
       "{'x': {1: 2}}"
      ]
     },
     "execution_count": 34,
     "metadata": {},
     "output_type": "execute_result"
    }
   ],
   "source": [
    "dict(x={1:2})"
   ]
  },
  {
   "cell_type": "code",
   "execution_count": 46,
   "metadata": {},
   "outputs": [
    {
     "data": {
      "text/plain": [
       "True"
      ]
     },
     "execution_count": 46,
     "metadata": {},
     "output_type": "execute_result"
    }
   ],
   "source": [
    "x = dict(x={1:3}, y={3:4, 5:6})\n",
    "eval(str(x)) == x"
   ]
  },
  {
   "cell_type": "code",
   "execution_count": 26,
   "metadata": {},
   "outputs": [
    {
     "data": {
      "text/plain": [
       "(5, 712, 672)"
      ]
     },
     "execution_count": 26,
     "metadata": {},
     "output_type": "execute_result"
    }
   ],
   "source": [
    "img = fd_data.load_celegans_channel('FITC').data\n",
    "img = img[slice(0, 160, 25)]\n",
    "img.shape"
   ]
  },
  {
   "cell_type": "code",
   "execution_count": 27,
   "metadata": {},
   "outputs": [
    {
     "data": {
      "text/plain": [
       "(3, 2, 5, 237, 336)"
      ]
     },
     "execution_count": 27,
     "metadata": {},
     "output_type": "execute_result"
    }
   ],
   "source": [
    "def split(img, nrows, ncols):\n",
    "    nz, nh, nw = img.shape\n",
    "    ih = nh // nrows\n",
    "    iw = nw // ncols\n",
    "    res = []\n",
    "    for i in range(nrows):\n",
    "        row = []\n",
    "        for j in range(ncols):\n",
    "            start_row = ih * i\n",
    "            stop_row = ih * (i+1)\n",
    "            start_col = iw * j\n",
    "            stop_col = iw * (j + 1)\n",
    "            row.append(img[:, start_row:stop_row, start_col:stop_col])\n",
    "        res.append(row)\n",
    "    # Return result as (rows, cols, nz, nh, nw)\n",
    "    return np.array(res)\n",
    "\n",
    "img_split = split(img, 3, 2)\n",
    "img_split.shape"
   ]
  },
  {
   "cell_type": "code",
   "execution_count": 28,
   "metadata": {},
   "outputs": [],
   "source": [
    "tile, config, info = codex_sim.experiment_from_img(img_split[0, 0], src_config=src_config, nch=2, ncyc=2)"
   ]
  },
  {
   "cell_type": "code",
   "execution_count": 29,
   "metadata": {},
   "outputs": [],
   "source": [
    "def save_simulation_experiment(data_dir, img, region=0, nch=2, ncyc=2):\n",
    "    nrows, ncols, nz = img.shape[0], img.shape[1], img.shape[2]\n",
    "    first_config = None\n",
    "    for irow in range(nrows):\n",
    "        for icol in range(ncols):\n",
    "            itile = irow * ncols + icol\n",
    "            # Tile will be 5D stack shaped like (cycles, z, channel, height, width)\n",
    "            tile, config, info = codex_sim.experiment_from_img(img[irow, icol], src_config=src_config, nch=nch, ncyc=ncyc)\n",
    "            if first_config is None:\n",
    "                first_config = config\n",
    "            for icyc in range(ncyc):\n",
    "                for ich in range(nch):\n",
    "                    for iz in range(nz):\n",
    "                        # Select height x width image\n",
    "                        img_patch = tile[icyc, iz, ich]\n",
    "                        path = codex_io.get_raw_img_path(region, itile, icyc, ich, iz)\n",
    "                        print('Saving tile to path {}'.format(path))\n",
    "                        codex_io.save_tile(osp.join(data_dir, path), img_patch)\n",
    "                        \n",
    "    conf_data = dict(first_config._conf)\n",
    "    conf_data['region_width'] = ncols\n",
    "    conf_data['region_height'] = nrows\n",
    "    all_channel_names = conf_data['all_channel_names']\n",
    "    del conf_data['all_channel_names']\n",
    "    \n",
    "    conf_path = osp.join(data_dir, 'Experiment.json')\n",
    "    with open(conf_path, 'w') as fd:\n",
    "        print('Saving experiment config to path {}'.format(conf_path))\n",
    "        json.dump(conf_data, fd)\n",
    "        \n",
    "    conf_path = osp.join(data_dir, 'channelNames.txt')\n",
    "    with open(conf_path, 'w') as fd:\n",
    "        print('Saving channel names to path {}'.format(conf_path))\n",
    "        fd.write('\\n'.join(all_channel_names))"
   ]
  },
  {
   "cell_type": "code",
   "execution_count": 31,
   "metadata": {},
   "outputs": [
    {
     "name": "stdout",
     "output_type": "stream",
     "text": [
      "Saving tile to path Cyc1_reg1/1_00001_Z001_CH1.tif\n",
      "Saving tile to path Cyc1_reg1/1_00001_Z002_CH1.tif\n",
      "Saving tile to path Cyc1_reg1/1_00001_Z003_CH1.tif\n",
      "Saving tile to path Cyc1_reg1/1_00001_Z004_CH1.tif\n",
      "Saving tile to path Cyc1_reg1/1_00001_Z005_CH1.tif\n",
      "Saving tile to path Cyc1_reg1/1_00001_Z001_CH2.tif\n",
      "Saving tile to path Cyc1_reg1/1_00001_Z002_CH2.tif\n",
      "Saving tile to path Cyc1_reg1/1_00001_Z003_CH2.tif\n",
      "Saving tile to path Cyc1_reg1/1_00001_Z004_CH2.tif\n",
      "Saving tile to path Cyc1_reg1/1_00001_Z005_CH2.tif\n",
      "Saving tile to path Cyc2_reg1/1_00001_Z001_CH1.tif\n",
      "Saving tile to path Cyc2_reg1/1_00001_Z002_CH1.tif\n",
      "Saving tile to path Cyc2_reg1/1_00001_Z003_CH1.tif\n",
      "Saving tile to path Cyc2_reg1/1_00001_Z004_CH1.tif\n",
      "Saving tile to path Cyc2_reg1/1_00001_Z005_CH1.tif\n",
      "Saving tile to path Cyc2_reg1/1_00001_Z001_CH2.tif\n",
      "Saving tile to path Cyc2_reg1/1_00001_Z002_CH2.tif\n",
      "Saving tile to path Cyc2_reg1/1_00001_Z003_CH2.tif\n",
      "Saving tile to path Cyc2_reg1/1_00001_Z004_CH2.tif\n",
      "Saving tile to path Cyc2_reg1/1_00001_Z005_CH2.tif\n",
      "Saving tile to path Cyc1_reg1/1_00002_Z001_CH1.tif\n",
      "Saving tile to path Cyc1_reg1/1_00002_Z002_CH1.tif\n",
      "Saving tile to path Cyc1_reg1/1_00002_Z003_CH1.tif\n",
      "Saving tile to path Cyc1_reg1/1_00002_Z004_CH1.tif\n",
      "Saving tile to path Cyc1_reg1/1_00002_Z005_CH1.tif\n",
      "Saving tile to path Cyc1_reg1/1_00002_Z001_CH2.tif\n",
      "Saving tile to path Cyc1_reg1/1_00002_Z002_CH2.tif\n",
      "Saving tile to path Cyc1_reg1/1_00002_Z003_CH2.tif\n",
      "Saving tile to path Cyc1_reg1/1_00002_Z004_CH2.tif\n",
      "Saving tile to path Cyc1_reg1/1_00002_Z005_CH2.tif\n",
      "Saving tile to path Cyc2_reg1/1_00002_Z001_CH1.tif\n",
      "Saving tile to path Cyc2_reg1/1_00002_Z002_CH1.tif\n",
      "Saving tile to path Cyc2_reg1/1_00002_Z003_CH1.tif\n",
      "Saving tile to path Cyc2_reg1/1_00002_Z004_CH1.tif\n",
      "Saving tile to path Cyc2_reg1/1_00002_Z005_CH1.tif\n",
      "Saving tile to path Cyc2_reg1/1_00002_Z001_CH2.tif\n",
      "Saving tile to path Cyc2_reg1/1_00002_Z002_CH2.tif\n",
      "Saving tile to path Cyc2_reg1/1_00002_Z003_CH2.tif\n",
      "Saving tile to path Cyc2_reg1/1_00002_Z004_CH2.tif\n",
      "Saving tile to path Cyc2_reg1/1_00002_Z005_CH2.tif\n",
      "Saving tile to path Cyc1_reg1/1_00003_Z001_CH1.tif\n",
      "Saving tile to path Cyc1_reg1/1_00003_Z002_CH1.tif\n",
      "Saving tile to path Cyc1_reg1/1_00003_Z003_CH1.tif\n",
      "Saving tile to path Cyc1_reg1/1_00003_Z004_CH1.tif\n",
      "Saving tile to path Cyc1_reg1/1_00003_Z005_CH1.tif\n",
      "Saving tile to path Cyc1_reg1/1_00003_Z001_CH2.tif\n",
      "Saving tile to path Cyc1_reg1/1_00003_Z002_CH2.tif\n",
      "Saving tile to path Cyc1_reg1/1_00003_Z003_CH2.tif\n",
      "Saving tile to path Cyc1_reg1/1_00003_Z004_CH2.tif\n",
      "Saving tile to path Cyc1_reg1/1_00003_Z005_CH2.tif\n",
      "Saving tile to path Cyc2_reg1/1_00003_Z001_CH1.tif\n",
      "Saving tile to path Cyc2_reg1/1_00003_Z002_CH1.tif\n",
      "Saving tile to path Cyc2_reg1/1_00003_Z003_CH1.tif\n",
      "Saving tile to path Cyc2_reg1/1_00003_Z004_CH1.tif\n",
      "Saving tile to path Cyc2_reg1/1_00003_Z005_CH1.tif\n",
      "Saving tile to path Cyc2_reg1/1_00003_Z001_CH2.tif\n",
      "Saving tile to path Cyc2_reg1/1_00003_Z002_CH2.tif\n",
      "Saving tile to path Cyc2_reg1/1_00003_Z003_CH2.tif\n",
      "Saving tile to path Cyc2_reg1/1_00003_Z004_CH2.tif\n",
      "Saving tile to path Cyc2_reg1/1_00003_Z005_CH2.tif\n",
      "Saving tile to path Cyc1_reg1/1_00004_Z001_CH1.tif\n",
      "Saving tile to path Cyc1_reg1/1_00004_Z002_CH1.tif\n",
      "Saving tile to path Cyc1_reg1/1_00004_Z003_CH1.tif\n",
      "Saving tile to path Cyc1_reg1/1_00004_Z004_CH1.tif\n",
      "Saving tile to path Cyc1_reg1/1_00004_Z005_CH1.tif\n",
      "Saving tile to path Cyc1_reg1/1_00004_Z001_CH2.tif\n",
      "Saving tile to path Cyc1_reg1/1_00004_Z002_CH2.tif\n",
      "Saving tile to path Cyc1_reg1/1_00004_Z003_CH2.tif\n",
      "Saving tile to path Cyc1_reg1/1_00004_Z004_CH2.tif\n",
      "Saving tile to path Cyc1_reg1/1_00004_Z005_CH2.tif\n",
      "Saving tile to path Cyc2_reg1/1_00004_Z001_CH1.tif\n",
      "Saving tile to path Cyc2_reg1/1_00004_Z002_CH1.tif\n",
      "Saving tile to path Cyc2_reg1/1_00004_Z003_CH1.tif\n",
      "Saving tile to path Cyc2_reg1/1_00004_Z004_CH1.tif\n",
      "Saving tile to path Cyc2_reg1/1_00004_Z005_CH1.tif\n",
      "Saving tile to path Cyc2_reg1/1_00004_Z001_CH2.tif\n",
      "Saving tile to path Cyc2_reg1/1_00004_Z002_CH2.tif\n",
      "Saving tile to path Cyc2_reg1/1_00004_Z003_CH2.tif\n",
      "Saving tile to path Cyc2_reg1/1_00004_Z004_CH2.tif\n",
      "Saving tile to path Cyc2_reg1/1_00004_Z005_CH2.tif\n",
      "Saving tile to path Cyc1_reg1/1_00005_Z001_CH1.tif\n",
      "Saving tile to path Cyc1_reg1/1_00005_Z002_CH1.tif\n",
      "Saving tile to path Cyc1_reg1/1_00005_Z003_CH1.tif\n",
      "Saving tile to path Cyc1_reg1/1_00005_Z004_CH1.tif\n",
      "Saving tile to path Cyc1_reg1/1_00005_Z005_CH1.tif\n",
      "Saving tile to path Cyc1_reg1/1_00005_Z001_CH2.tif\n",
      "Saving tile to path Cyc1_reg1/1_00005_Z002_CH2.tif\n",
      "Saving tile to path Cyc1_reg1/1_00005_Z003_CH2.tif\n",
      "Saving tile to path Cyc1_reg1/1_00005_Z004_CH2.tif\n",
      "Saving tile to path Cyc1_reg1/1_00005_Z005_CH2.tif\n",
      "Saving tile to path Cyc2_reg1/1_00005_Z001_CH1.tif\n",
      "Saving tile to path Cyc2_reg1/1_00005_Z002_CH1.tif\n",
      "Saving tile to path Cyc2_reg1/1_00005_Z003_CH1.tif\n",
      "Saving tile to path Cyc2_reg1/1_00005_Z004_CH1.tif\n",
      "Saving tile to path Cyc2_reg1/1_00005_Z005_CH1.tif\n",
      "Saving tile to path Cyc2_reg1/1_00005_Z001_CH2.tif\n",
      "Saving tile to path Cyc2_reg1/1_00005_Z002_CH2.tif\n",
      "Saving tile to path Cyc2_reg1/1_00005_Z003_CH2.tif\n",
      "Saving tile to path Cyc2_reg1/1_00005_Z004_CH2.tif\n",
      "Saving tile to path Cyc2_reg1/1_00005_Z005_CH2.tif\n",
      "Saving tile to path Cyc1_reg1/1_00006_Z001_CH1.tif\n",
      "Saving tile to path Cyc1_reg1/1_00006_Z002_CH1.tif\n",
      "Saving tile to path Cyc1_reg1/1_00006_Z003_CH1.tif\n",
      "Saving tile to path Cyc1_reg1/1_00006_Z004_CH1.tif\n",
      "Saving tile to path Cyc1_reg1/1_00006_Z005_CH1.tif\n",
      "Saving tile to path Cyc1_reg1/1_00006_Z001_CH2.tif\n",
      "Saving tile to path Cyc1_reg1/1_00006_Z002_CH2.tif\n",
      "Saving tile to path Cyc1_reg1/1_00006_Z003_CH2.tif\n",
      "Saving tile to path Cyc1_reg1/1_00006_Z004_CH2.tif\n",
      "Saving tile to path Cyc1_reg1/1_00006_Z005_CH2.tif\n",
      "Saving tile to path Cyc2_reg1/1_00006_Z001_CH1.tif\n",
      "Saving tile to path Cyc2_reg1/1_00006_Z002_CH1.tif\n",
      "Saving tile to path Cyc2_reg1/1_00006_Z003_CH1.tif\n",
      "Saving tile to path Cyc2_reg1/1_00006_Z004_CH1.tif\n",
      "Saving tile to path Cyc2_reg1/1_00006_Z005_CH1.tif\n",
      "Saving tile to path Cyc2_reg1/1_00006_Z001_CH2.tif\n",
      "Saving tile to path Cyc2_reg1/1_00006_Z002_CH2.tif\n",
      "Saving tile to path Cyc2_reg1/1_00006_Z003_CH2.tif\n",
      "Saving tile to path Cyc2_reg1/1_00006_Z004_CH2.tif\n",
      "Saving tile to path Cyc2_reg1/1_00006_Z005_CH2.tif\n",
      "Saving experiment config to path /Users/eczech/data/research/hammer/codex/simulations/sim-exp-01/Experiment.json\n",
      "Saving channel names to path /Users/eczech/data/research/hammer/codex/simulations/sim-exp-01/channelNames.txt\n"
     ]
    }
   ],
   "source": [
    "data_dir = osp.expanduser('~/data/research/hammer/codex/simulations/sim-exp-01')\n",
    "save_simulation_experiment(data_dir, img_split)"
   ]
  }
 ],
 "metadata": {
  "kernelspec": {
   "display_name": "Python 3",
   "language": "python",
   "name": "python3"
  },
  "language_info": {
   "codemirror_mode": {
    "name": "ipython",
    "version": 3
   },
   "file_extension": ".py",
   "mimetype": "text/x-python",
   "name": "python",
   "nbconvert_exporter": "python",
   "pygments_lexer": "ipython3",
   "version": "3.6.5"
  }
 },
 "nbformat": 4,
 "nbformat_minor": 2
}
