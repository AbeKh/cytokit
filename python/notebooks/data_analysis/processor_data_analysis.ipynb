{
 "cells": [
  {
   "cell_type": "markdown",
   "metadata": {},
   "source": [
    "# Processor Data Analysis Notebook"
   ]
  },
  {
   "cell_type": "code",
   "execution_count": 1,
   "metadata": {
    "tags": [
     "parameters"
    ]
   },
   "outputs": [],
   "source": [
    "processor_data_path = None"
   ]
  },
  {
   "cell_type": "code",
   "execution_count": 43,
   "metadata": {},
   "outputs": [],
   "source": [
    "# Validate parameters\n",
    "assert processor_data_path is not None, 'Must set parameter for path to processor data json file'"
   ]
  },
  {
   "cell_type": "markdown",
   "metadata": {},
   "source": [
    "## Load Processor Data"
   ]
  },
  {
   "cell_type": "code",
   "execution_count": 42,
   "metadata": {},
   "outputs": [],
   "source": [
    "from codex.ops import op, best_focus, deconvolution, drift_compensation, tile_summary\n",
    "from IPython import display\n",
    "import plotnine as pn\n",
    "import pandas as pd\n",
    "import json\n",
    "\n",
    "# Set expected keys for operations dynamically based on class names (to avoid\n",
    "# future refactoring synchronization problems)\n",
    "drift_comp_op = op.CodexOp.get_op_for_class(drift_compensation.CodexDriftCompensator)\n",
    "best_focus_op = op.CodexOp.get_op_for_class(best_focus.CodexFocalPlaneSelector)\n",
    "tile_summary_op = op.CodexOp.get_op_for_class(tile_summary.CodexTileSummary)\n",
    "\n",
    "# Load processor data as a dict of data frames, separated by operation type\n",
    "with open(processor_data_path, 'r') as fd:\n",
    "    data = json.load(fd)\n",
    "    data = {k: pd.DataFrame(v) for k, v in data.items()}"
   ]
  },
  {
   "cell_type": "code",
   "execution_count": 6,
   "metadata": {},
   "outputs": [
    {
     "data": {
      "text/html": [
       "<style  type=\"text/css\" >\n",
       "</style>  \n",
       "<table id=\"T_546aac52_5788_11e8_b04c_8c8590d4447f\" ><caption>drift_compensator</caption> \n",
       "<thead>    <tr> \n",
       "        <th class=\"blank level0\" ></th> \n",
       "        <th class=\"col_heading level0 col0\" >region</th> \n",
       "        <th class=\"col_heading level0 col1\" >target_cycle</th> \n",
       "        <th class=\"col_heading level0 col2\" >tile</th> \n",
       "        <th class=\"col_heading level0 col3\" >tile_x</th> \n",
       "        <th class=\"col_heading level0 col4\" >tile_y</th> \n",
       "        <th class=\"col_heading level0 col5\" >time</th> \n",
       "        <th class=\"col_heading level0 col6\" >translation</th> \n",
       "    </tr></thead> \n",
       "<tbody>    <tr> \n",
       "        <th id=\"T_546aac52_5788_11e8_b04c_8c8590d4447flevel0_row0\" class=\"row_heading level0 row0\" >0</th> \n",
       "        <td id=\"T_546aac52_5788_11e8_b04c_8c8590d4447frow0_col0\" class=\"data row0 col0\" >0</td> \n",
       "        <td id=\"T_546aac52_5788_11e8_b04c_8c8590d4447frow0_col1\" class=\"data row0 col1\" >1</td> \n",
       "        <td id=\"T_546aac52_5788_11e8_b04c_8c8590d4447frow0_col2\" class=\"data row0 col2\" >0</td> \n",
       "        <td id=\"T_546aac52_5788_11e8_b04c_8c8590d4447frow0_col3\" class=\"data row0 col3\" >0</td> \n",
       "        <td id=\"T_546aac52_5788_11e8_b04c_8c8590d4447frow0_col4\" class=\"data row0 col4\" >0</td> \n",
       "        <td id=\"T_546aac52_5788_11e8_b04c_8c8590d4447frow0_col5\" class=\"data row0 col5\" >0.867208</td> \n",
       "        <td id=\"T_546aac52_5788_11e8_b04c_8c8590d4447frow0_col6\" class=\"data row0 col6\" >[-1, -1, -6]</td> \n",
       "    </tr>    <tr> \n",
       "        <th id=\"T_546aac52_5788_11e8_b04c_8c8590d4447flevel0_row1\" class=\"row_heading level0 row1\" >1</th> \n",
       "        <td id=\"T_546aac52_5788_11e8_b04c_8c8590d4447frow1_col0\" class=\"data row1 col0\" >0</td> \n",
       "        <td id=\"T_546aac52_5788_11e8_b04c_8c8590d4447frow1_col1\" class=\"data row1 col1\" >1</td> \n",
       "        <td id=\"T_546aac52_5788_11e8_b04c_8c8590d4447frow1_col2\" class=\"data row1 col2\" >1</td> \n",
       "        <td id=\"T_546aac52_5788_11e8_b04c_8c8590d4447frow1_col3\" class=\"data row1 col3\" >1</td> \n",
       "        <td id=\"T_546aac52_5788_11e8_b04c_8c8590d4447frow1_col4\" class=\"data row1 col4\" >0</td> \n",
       "        <td id=\"T_546aac52_5788_11e8_b04c_8c8590d4447frow1_col5\" class=\"data row1 col5\" >0.871387</td> \n",
       "        <td id=\"T_546aac52_5788_11e8_b04c_8c8590d4447frow1_col6\" class=\"data row1 col6\" >[-1, -1, -6]</td> \n",
       "    </tr>    <tr> \n",
       "        <th id=\"T_546aac52_5788_11e8_b04c_8c8590d4447flevel0_row2\" class=\"row_heading level0 row2\" >2</th> \n",
       "        <td id=\"T_546aac52_5788_11e8_b04c_8c8590d4447frow2_col0\" class=\"data row2 col0\" >0</td> \n",
       "        <td id=\"T_546aac52_5788_11e8_b04c_8c8590d4447frow2_col1\" class=\"data row2 col1\" >1</td> \n",
       "        <td id=\"T_546aac52_5788_11e8_b04c_8c8590d4447frow2_col2\" class=\"data row2 col2\" >2</td> \n",
       "        <td id=\"T_546aac52_5788_11e8_b04c_8c8590d4447frow2_col3\" class=\"data row2 col3\" >1</td> \n",
       "        <td id=\"T_546aac52_5788_11e8_b04c_8c8590d4447frow2_col4\" class=\"data row2 col4\" >1</td> \n",
       "        <td id=\"T_546aac52_5788_11e8_b04c_8c8590d4447frow2_col5\" class=\"data row2 col5\" >0.839781</td> \n",
       "        <td id=\"T_546aac52_5788_11e8_b04c_8c8590d4447frow2_col6\" class=\"data row2 col6\" >[-1, -1, -6]</td> \n",
       "    </tr>    <tr> \n",
       "        <th id=\"T_546aac52_5788_11e8_b04c_8c8590d4447flevel0_row3\" class=\"row_heading level0 row3\" >3</th> \n",
       "        <td id=\"T_546aac52_5788_11e8_b04c_8c8590d4447frow3_col0\" class=\"data row3 col0\" >0</td> \n",
       "        <td id=\"T_546aac52_5788_11e8_b04c_8c8590d4447frow3_col1\" class=\"data row3 col1\" >1</td> \n",
       "        <td id=\"T_546aac52_5788_11e8_b04c_8c8590d4447frow3_col2\" class=\"data row3 col2\" >3</td> \n",
       "        <td id=\"T_546aac52_5788_11e8_b04c_8c8590d4447frow3_col3\" class=\"data row3 col3\" >0</td> \n",
       "        <td id=\"T_546aac52_5788_11e8_b04c_8c8590d4447frow3_col4\" class=\"data row3 col4\" >1</td> \n",
       "        <td id=\"T_546aac52_5788_11e8_b04c_8c8590d4447frow3_col5\" class=\"data row3 col5\" >0.82163</td> \n",
       "        <td id=\"T_546aac52_5788_11e8_b04c_8c8590d4447frow3_col6\" class=\"data row3 col6\" >[-1, -1, -6]</td> \n",
       "    </tr>    <tr> \n",
       "        <th id=\"T_546aac52_5788_11e8_b04c_8c8590d4447flevel0_row4\" class=\"row_heading level0 row4\" >4</th> \n",
       "        <td id=\"T_546aac52_5788_11e8_b04c_8c8590d4447frow4_col0\" class=\"data row4 col0\" >0</td> \n",
       "        <td id=\"T_546aac52_5788_11e8_b04c_8c8590d4447frow4_col1\" class=\"data row4 col1\" >1</td> \n",
       "        <td id=\"T_546aac52_5788_11e8_b04c_8c8590d4447frow4_col2\" class=\"data row4 col2\" >4</td> \n",
       "        <td id=\"T_546aac52_5788_11e8_b04c_8c8590d4447frow4_col3\" class=\"data row4 col3\" >0</td> \n",
       "        <td id=\"T_546aac52_5788_11e8_b04c_8c8590d4447frow4_col4\" class=\"data row4 col4\" >2</td> \n",
       "        <td id=\"T_546aac52_5788_11e8_b04c_8c8590d4447frow4_col5\" class=\"data row4 col5\" >0.83794</td> \n",
       "        <td id=\"T_546aac52_5788_11e8_b04c_8c8590d4447frow4_col6\" class=\"data row4 col6\" >[-1, -1, -6]</td> \n",
       "    </tr></tbody> \n",
       "</table> "
      ],
      "text/plain": [
       "<pandas.io.formats.style.Styler at 0x1173bc940>"
      ]
     },
     "metadata": {},
     "output_type": "display_data"
    },
    {
     "data": {
      "text/html": [
       "<style  type=\"text/css\" >\n",
       "</style>  \n",
       "<table id=\"T_546d1c94_5788_11e8_baf5_8c8590d4447f\" ><caption>focal_plane_selector</caption> \n",
       "<thead>    <tr> \n",
       "        <th class=\"blank level0\" ></th> \n",
       "        <th class=\"col_heading level0 col0\" >best_z</th> \n",
       "        <th class=\"col_heading level0 col1\" >classifications</th> \n",
       "        <th class=\"col_heading level0 col2\" >region</th> \n",
       "        <th class=\"col_heading level0 col3\" >tile</th> \n",
       "        <th class=\"col_heading level0 col4\" >tile_x</th> \n",
       "        <th class=\"col_heading level0 col5\" >tile_y</th> \n",
       "        <th class=\"col_heading level0 col6\" >time</th> \n",
       "    </tr></thead> \n",
       "<tbody>    <tr> \n",
       "        <th id=\"T_546d1c94_5788_11e8_baf5_8c8590d4447flevel0_row0\" class=\"row_heading level0 row0\" >0</th> \n",
       "        <td id=\"T_546d1c94_5788_11e8_baf5_8c8590d4447frow0_col0\" class=\"data row0 col0\" >2</td> \n",
       "        <td id=\"T_546d1c94_5788_11e8_baf5_8c8590d4447frow0_col1\" class=\"data row0 col1\" >[10, 10, 2, 2, 10]</td> \n",
       "        <td id=\"T_546d1c94_5788_11e8_baf5_8c8590d4447frow0_col2\" class=\"data row0 col2\" >0</td> \n",
       "        <td id=\"T_546d1c94_5788_11e8_baf5_8c8590d4447frow0_col3\" class=\"data row0 col3\" >0</td> \n",
       "        <td id=\"T_546d1c94_5788_11e8_baf5_8c8590d4447frow0_col4\" class=\"data row0 col4\" >0</td> \n",
       "        <td id=\"T_546d1c94_5788_11e8_baf5_8c8590d4447frow0_col5\" class=\"data row0 col5\" >0</td> \n",
       "        <td id=\"T_546d1c94_5788_11e8_baf5_8c8590d4447frow0_col6\" class=\"data row0 col6\" >0.339087</td> \n",
       "    </tr>    <tr> \n",
       "        <th id=\"T_546d1c94_5788_11e8_baf5_8c8590d4447flevel0_row1\" class=\"row_heading level0 row1\" >1</th> \n",
       "        <td id=\"T_546d1c94_5788_11e8_baf5_8c8590d4447frow1_col0\" class=\"data row1 col0\" >2</td> \n",
       "        <td id=\"T_546d1c94_5788_11e8_baf5_8c8590d4447frow1_col1\" class=\"data row1 col1\" >[10, 10, 2, 10, 10]</td> \n",
       "        <td id=\"T_546d1c94_5788_11e8_baf5_8c8590d4447frow1_col2\" class=\"data row1 col2\" >0</td> \n",
       "        <td id=\"T_546d1c94_5788_11e8_baf5_8c8590d4447frow1_col3\" class=\"data row1 col3\" >1</td> \n",
       "        <td id=\"T_546d1c94_5788_11e8_baf5_8c8590d4447frow1_col4\" class=\"data row1 col4\" >1</td> \n",
       "        <td id=\"T_546d1c94_5788_11e8_baf5_8c8590d4447frow1_col5\" class=\"data row1 col5\" >0</td> \n",
       "        <td id=\"T_546d1c94_5788_11e8_baf5_8c8590d4447frow1_col6\" class=\"data row1 col6\" >0.323714</td> \n",
       "    </tr>    <tr> \n",
       "        <th id=\"T_546d1c94_5788_11e8_baf5_8c8590d4447flevel0_row2\" class=\"row_heading level0 row2\" >2</th> \n",
       "        <td id=\"T_546d1c94_5788_11e8_baf5_8c8590d4447frow2_col0\" class=\"data row2 col0\" >1</td> \n",
       "        <td id=\"T_546d1c94_5788_11e8_baf5_8c8590d4447frow2_col1\" class=\"data row2 col1\" >[2, 2, 9, 2, 2]</td> \n",
       "        <td id=\"T_546d1c94_5788_11e8_baf5_8c8590d4447frow2_col2\" class=\"data row2 col2\" >0</td> \n",
       "        <td id=\"T_546d1c94_5788_11e8_baf5_8c8590d4447frow2_col3\" class=\"data row2 col3\" >2</td> \n",
       "        <td id=\"T_546d1c94_5788_11e8_baf5_8c8590d4447frow2_col4\" class=\"data row2 col4\" >1</td> \n",
       "        <td id=\"T_546d1c94_5788_11e8_baf5_8c8590d4447frow2_col5\" class=\"data row2 col5\" >1</td> \n",
       "        <td id=\"T_546d1c94_5788_11e8_baf5_8c8590d4447frow2_col6\" class=\"data row2 col6\" >0.328956</td> \n",
       "    </tr>    <tr> \n",
       "        <th id=\"T_546d1c94_5788_11e8_baf5_8c8590d4447flevel0_row3\" class=\"row_heading level0 row3\" >3</th> \n",
       "        <td id=\"T_546d1c94_5788_11e8_baf5_8c8590d4447frow3_col0\" class=\"data row3 col0\" >2</td> \n",
       "        <td id=\"T_546d1c94_5788_11e8_baf5_8c8590d4447frow3_col1\" class=\"data row3 col1\" >[2, 2, 2, 2, 2]</td> \n",
       "        <td id=\"T_546d1c94_5788_11e8_baf5_8c8590d4447frow3_col2\" class=\"data row3 col2\" >0</td> \n",
       "        <td id=\"T_546d1c94_5788_11e8_baf5_8c8590d4447frow3_col3\" class=\"data row3 col3\" >3</td> \n",
       "        <td id=\"T_546d1c94_5788_11e8_baf5_8c8590d4447frow3_col4\" class=\"data row3 col4\" >0</td> \n",
       "        <td id=\"T_546d1c94_5788_11e8_baf5_8c8590d4447frow3_col5\" class=\"data row3 col5\" >1</td> \n",
       "        <td id=\"T_546d1c94_5788_11e8_baf5_8c8590d4447frow3_col6\" class=\"data row3 col6\" >0.300774</td> \n",
       "    </tr>    <tr> \n",
       "        <th id=\"T_546d1c94_5788_11e8_baf5_8c8590d4447flevel0_row4\" class=\"row_heading level0 row4\" >4</th> \n",
       "        <td id=\"T_546d1c94_5788_11e8_baf5_8c8590d4447frow4_col0\" class=\"data row4 col0\" >2</td> \n",
       "        <td id=\"T_546d1c94_5788_11e8_baf5_8c8590d4447frow4_col1\" class=\"data row4 col1\" >[9, 2, 2, 2, 9]</td> \n",
       "        <td id=\"T_546d1c94_5788_11e8_baf5_8c8590d4447frow4_col2\" class=\"data row4 col2\" >0</td> \n",
       "        <td id=\"T_546d1c94_5788_11e8_baf5_8c8590d4447frow4_col3\" class=\"data row4 col3\" >4</td> \n",
       "        <td id=\"T_546d1c94_5788_11e8_baf5_8c8590d4447frow4_col4\" class=\"data row4 col4\" >0</td> \n",
       "        <td id=\"T_546d1c94_5788_11e8_baf5_8c8590d4447frow4_col5\" class=\"data row4 col5\" >2</td> \n",
       "        <td id=\"T_546d1c94_5788_11e8_baf5_8c8590d4447frow4_col6\" class=\"data row4 col6\" >0.307659</td> \n",
       "    </tr></tbody> \n",
       "</table> "
      ],
      "text/plain": [
       "<pandas.io.formats.style.Styler at 0x113ca2400>"
      ]
     },
     "metadata": {},
     "output_type": "display_data"
    },
    {
     "data": {
      "text/html": [
       "<style  type=\"text/css\" >\n",
       "</style>  \n",
       "<table id=\"T_546da290_5788_11e8_a0c5_8c8590d4447f\" ><caption>tile_crop</caption> \n",
       "<thead>    <tr> \n",
       "        <th class=\"blank level0\" ></th> \n",
       "        <th class=\"col_heading level0 col0\" >region</th> \n",
       "        <th class=\"col_heading level0 col1\" >slice</th> \n",
       "        <th class=\"col_heading level0 col2\" >tile</th> \n",
       "        <th class=\"col_heading level0 col3\" >tile_x</th> \n",
       "        <th class=\"col_heading level0 col4\" >tile_y</th> \n",
       "        <th class=\"col_heading level0 col5\" >time</th> \n",
       "    </tr></thead> \n",
       "<tbody>    <tr> \n",
       "        <th id=\"T_546da290_5788_11e8_a0c5_8c8590d4447flevel0_row0\" class=\"row_heading level0 row0\" >0</th> \n",
       "        <td id=\"T_546da290_5788_11e8_a0c5_8c8590d4447frow0_col0\" class=\"data row0 col0\" >0</td> \n",
       "        <td id=\"T_546da290_5788_11e8_a0c5_8c8590d4447frow0_col1\" class=\"data row0 col1\" >['slice(30, 267, None)', 'slice(15, 351, None)']</td> \n",
       "        <td id=\"T_546da290_5788_11e8_a0c5_8c8590d4447frow0_col2\" class=\"data row0 col2\" >0</td> \n",
       "        <td id=\"T_546da290_5788_11e8_a0c5_8c8590d4447frow0_col3\" class=\"data row0 col3\" >0</td> \n",
       "        <td id=\"T_546da290_5788_11e8_a0c5_8c8590d4447frow0_col4\" class=\"data row0 col4\" >0</td> \n",
       "        <td id=\"T_546da290_5788_11e8_a0c5_8c8590d4447frow0_col5\" class=\"data row0 col5\" >3.4899e-05</td> \n",
       "    </tr>    <tr> \n",
       "        <th id=\"T_546da290_5788_11e8_a0c5_8c8590d4447flevel0_row1\" class=\"row_heading level0 row1\" >1</th> \n",
       "        <td id=\"T_546da290_5788_11e8_a0c5_8c8590d4447frow1_col0\" class=\"data row1 col0\" >0</td> \n",
       "        <td id=\"T_546da290_5788_11e8_a0c5_8c8590d4447frow1_col1\" class=\"data row1 col1\" >['slice(30, 267, None)', 'slice(15, 351, None)']</td> \n",
       "        <td id=\"T_546da290_5788_11e8_a0c5_8c8590d4447frow1_col2\" class=\"data row1 col2\" >1</td> \n",
       "        <td id=\"T_546da290_5788_11e8_a0c5_8c8590d4447frow1_col3\" class=\"data row1 col3\" >1</td> \n",
       "        <td id=\"T_546da290_5788_11e8_a0c5_8c8590d4447frow1_col4\" class=\"data row1 col4\" >0</td> \n",
       "        <td id=\"T_546da290_5788_11e8_a0c5_8c8590d4447frow1_col5\" class=\"data row1 col5\" >3.67169e-05</td> \n",
       "    </tr>    <tr> \n",
       "        <th id=\"T_546da290_5788_11e8_a0c5_8c8590d4447flevel0_row2\" class=\"row_heading level0 row2\" >2</th> \n",
       "        <td id=\"T_546da290_5788_11e8_a0c5_8c8590d4447frow2_col0\" class=\"data row2 col0\" >0</td> \n",
       "        <td id=\"T_546da290_5788_11e8_a0c5_8c8590d4447frow2_col1\" class=\"data row2 col1\" >['slice(30, 267, None)', 'slice(15, 351, None)']</td> \n",
       "        <td id=\"T_546da290_5788_11e8_a0c5_8c8590d4447frow2_col2\" class=\"data row2 col2\" >2</td> \n",
       "        <td id=\"T_546da290_5788_11e8_a0c5_8c8590d4447frow2_col3\" class=\"data row2 col3\" >1</td> \n",
       "        <td id=\"T_546da290_5788_11e8_a0c5_8c8590d4447frow2_col4\" class=\"data row2 col4\" >1</td> \n",
       "        <td id=\"T_546da290_5788_11e8_a0c5_8c8590d4447frow2_col5\" class=\"data row2 col5\" >2.799e-05</td> \n",
       "    </tr>    <tr> \n",
       "        <th id=\"T_546da290_5788_11e8_a0c5_8c8590d4447flevel0_row3\" class=\"row_heading level0 row3\" >3</th> \n",
       "        <td id=\"T_546da290_5788_11e8_a0c5_8c8590d4447frow3_col0\" class=\"data row3 col0\" >0</td> \n",
       "        <td id=\"T_546da290_5788_11e8_a0c5_8c8590d4447frow3_col1\" class=\"data row3 col1\" >['slice(30, 267, None)', 'slice(15, 351, None)']</td> \n",
       "        <td id=\"T_546da290_5788_11e8_a0c5_8c8590d4447frow3_col2\" class=\"data row3 col2\" >3</td> \n",
       "        <td id=\"T_546da290_5788_11e8_a0c5_8c8590d4447frow3_col3\" class=\"data row3 col3\" >0</td> \n",
       "        <td id=\"T_546da290_5788_11e8_a0c5_8c8590d4447frow3_col4\" class=\"data row3 col4\" >1</td> \n",
       "        <td id=\"T_546da290_5788_11e8_a0c5_8c8590d4447frow3_col5\" class=\"data row3 col5\" >2.51001e-05</td> \n",
       "    </tr>    <tr> \n",
       "        <th id=\"T_546da290_5788_11e8_a0c5_8c8590d4447flevel0_row4\" class=\"row_heading level0 row4\" >4</th> \n",
       "        <td id=\"T_546da290_5788_11e8_a0c5_8c8590d4447frow4_col0\" class=\"data row4 col0\" >0</td> \n",
       "        <td id=\"T_546da290_5788_11e8_a0c5_8c8590d4447frow4_col1\" class=\"data row4 col1\" >['slice(30, 267, None)', 'slice(15, 351, None)']</td> \n",
       "        <td id=\"T_546da290_5788_11e8_a0c5_8c8590d4447frow4_col2\" class=\"data row4 col2\" >4</td> \n",
       "        <td id=\"T_546da290_5788_11e8_a0c5_8c8590d4447frow4_col3\" class=\"data row4 col3\" >0</td> \n",
       "        <td id=\"T_546da290_5788_11e8_a0c5_8c8590d4447frow4_col4\" class=\"data row4 col4\" >2</td> \n",
       "        <td id=\"T_546da290_5788_11e8_a0c5_8c8590d4447frow4_col5\" class=\"data row4 col5\" >2.88421e-05</td> \n",
       "    </tr></tbody> \n",
       "</table> "
      ],
      "text/plain": [
       "<pandas.io.formats.style.Styler at 0x1174f7550>"
      ]
     },
     "metadata": {},
     "output_type": "display_data"
    },
    {
     "data": {
      "text/html": [
       "<style  type=\"text/css\" >\n",
       "</style>  \n",
       "<table id=\"T_546e2bc0_5788_11e8_a40e_8c8590d4447f\" ><caption>tile_generator</caption> \n",
       "<thead>    <tr> \n",
       "        <th class=\"blank level0\" ></th> \n",
       "        <th class=\"col_heading level0 col0\" >region</th> \n",
       "        <th class=\"col_heading level0 col1\" >tile</th> \n",
       "        <th class=\"col_heading level0 col2\" >tile_x</th> \n",
       "        <th class=\"col_heading level0 col3\" >tile_y</th> \n",
       "        <th class=\"col_heading level0 col4\" >time</th> \n",
       "    </tr></thead> \n",
       "<tbody>    <tr> \n",
       "        <th id=\"T_546e2bc0_5788_11e8_a40e_8c8590d4447flevel0_row0\" class=\"row_heading level0 row0\" >0</th> \n",
       "        <td id=\"T_546e2bc0_5788_11e8_a40e_8c8590d4447frow0_col0\" class=\"data row0 col0\" >0</td> \n",
       "        <td id=\"T_546e2bc0_5788_11e8_a40e_8c8590d4447frow0_col1\" class=\"data row0 col1\" >0</td> \n",
       "        <td id=\"T_546e2bc0_5788_11e8_a40e_8c8590d4447frow0_col2\" class=\"data row0 col2\" >0</td> \n",
       "        <td id=\"T_546e2bc0_5788_11e8_a40e_8c8590d4447frow0_col3\" class=\"data row0 col3\" >0</td> \n",
       "        <td id=\"T_546e2bc0_5788_11e8_a40e_8c8590d4447frow0_col4\" class=\"data row0 col4\" >0.0268947</td> \n",
       "    </tr>    <tr> \n",
       "        <th id=\"T_546e2bc0_5788_11e8_a40e_8c8590d4447flevel0_row1\" class=\"row_heading level0 row1\" >1</th> \n",
       "        <td id=\"T_546e2bc0_5788_11e8_a40e_8c8590d4447frow1_col0\" class=\"data row1 col0\" >0</td> \n",
       "        <td id=\"T_546e2bc0_5788_11e8_a40e_8c8590d4447frow1_col1\" class=\"data row1 col1\" >1</td> \n",
       "        <td id=\"T_546e2bc0_5788_11e8_a40e_8c8590d4447frow1_col2\" class=\"data row1 col2\" >1</td> \n",
       "        <td id=\"T_546e2bc0_5788_11e8_a40e_8c8590d4447frow1_col3\" class=\"data row1 col3\" >0</td> \n",
       "        <td id=\"T_546e2bc0_5788_11e8_a40e_8c8590d4447frow1_col4\" class=\"data row1 col4\" >0.0284198</td> \n",
       "    </tr>    <tr> \n",
       "        <th id=\"T_546e2bc0_5788_11e8_a40e_8c8590d4447flevel0_row2\" class=\"row_heading level0 row2\" >2</th> \n",
       "        <td id=\"T_546e2bc0_5788_11e8_a40e_8c8590d4447frow2_col0\" class=\"data row2 col0\" >0</td> \n",
       "        <td id=\"T_546e2bc0_5788_11e8_a40e_8c8590d4447frow2_col1\" class=\"data row2 col1\" >2</td> \n",
       "        <td id=\"T_546e2bc0_5788_11e8_a40e_8c8590d4447frow2_col2\" class=\"data row2 col2\" >1</td> \n",
       "        <td id=\"T_546e2bc0_5788_11e8_a40e_8c8590d4447frow2_col3\" class=\"data row2 col3\" >1</td> \n",
       "        <td id=\"T_546e2bc0_5788_11e8_a40e_8c8590d4447frow2_col4\" class=\"data row2 col4\" >0.0293807</td> \n",
       "    </tr></tbody> \n",
       "</table> "
      ],
      "text/plain": [
       "<pandas.io.formats.style.Styler at 0x1174dff98>"
      ]
     },
     "metadata": {},
     "output_type": "display_data"
    },
    {
     "data": {
      "text/html": [
       "<style  type=\"text/css\" >\n",
       "</style>  \n",
       "<table id=\"T_546ea56e_5788_11e8_b185_8c8590d4447f\" ><caption>tile_summary</caption> \n",
       "<thead>    <tr> \n",
       "        <th class=\"blank level0\" ></th> \n",
       "        <th class=\"col_heading level0 col0\" >channel</th> \n",
       "        <th class=\"col_heading level0 col1\" >max</th> \n",
       "        <th class=\"col_heading level0 col2\" >mean</th> \n",
       "        <th class=\"col_heading level0 col3\" >min</th> \n",
       "        <th class=\"col_heading level0 col4\" >region</th> \n",
       "        <th class=\"col_heading level0 col5\" >std</th> \n",
       "        <th class=\"col_heading level0 col6\" >tile</th> \n",
       "        <th class=\"col_heading level0 col7\" >tile_x</th> \n",
       "        <th class=\"col_heading level0 col8\" >tile_y</th> \n",
       "        <th class=\"col_heading level0 col9\" >time</th> \n",
       "    </tr></thead> \n",
       "<tbody>    <tr> \n",
       "        <th id=\"T_546ea56e_5788_11e8_b185_8c8590d4447flevel0_row0\" class=\"row_heading level0 row0\" >0</th> \n",
       "        <td id=\"T_546ea56e_5788_11e8_b185_8c8590d4447frow0_col0\" class=\"data row0 col0\" >CH-0-0</td> \n",
       "        <td id=\"T_546ea56e_5788_11e8_b185_8c8590d4447frow0_col1\" class=\"data row0 col1\" >2362</td> \n",
       "        <td id=\"T_546ea56e_5788_11e8_b185_8c8590d4447frow0_col2\" class=\"data row0 col2\" >600.032</td> \n",
       "        <td id=\"T_546ea56e_5788_11e8_b185_8c8590d4447frow0_col3\" class=\"data row0 col3\" >224</td> \n",
       "        <td id=\"T_546ea56e_5788_11e8_b185_8c8590d4447frow0_col4\" class=\"data row0 col4\" >0</td> \n",
       "        <td id=\"T_546ea56e_5788_11e8_b185_8c8590d4447frow0_col5\" class=\"data row0 col5\" >297.338</td> \n",
       "        <td id=\"T_546ea56e_5788_11e8_b185_8c8590d4447frow0_col6\" class=\"data row0 col6\" >0</td> \n",
       "        <td id=\"T_546ea56e_5788_11e8_b185_8c8590d4447frow0_col7\" class=\"data row0 col7\" >0</td> \n",
       "        <td id=\"T_546ea56e_5788_11e8_b185_8c8590d4447frow0_col8\" class=\"data row0 col8\" >0</td> \n",
       "        <td id=\"T_546ea56e_5788_11e8_b185_8c8590d4447frow0_col9\" class=\"data row0 col9\" >0.0121425</td> \n",
       "    </tr>    <tr> \n",
       "        <th id=\"T_546ea56e_5788_11e8_b185_8c8590d4447flevel0_row1\" class=\"row_heading level0 row1\" >1</th> \n",
       "        <td id=\"T_546ea56e_5788_11e8_b185_8c8590d4447frow1_col0\" class=\"data row1 col0\" >CH-0-1</td> \n",
       "        <td id=\"T_546ea56e_5788_11e8_b185_8c8590d4447frow1_col1\" class=\"data row1 col1\" >2362</td> \n",
       "        <td id=\"T_546ea56e_5788_11e8_b185_8c8590d4447frow1_col2\" class=\"data row1 col2\" >600.032</td> \n",
       "        <td id=\"T_546ea56e_5788_11e8_b185_8c8590d4447frow1_col3\" class=\"data row1 col3\" >224</td> \n",
       "        <td id=\"T_546ea56e_5788_11e8_b185_8c8590d4447frow1_col4\" class=\"data row1 col4\" >0</td> \n",
       "        <td id=\"T_546ea56e_5788_11e8_b185_8c8590d4447frow1_col5\" class=\"data row1 col5\" >297.338</td> \n",
       "        <td id=\"T_546ea56e_5788_11e8_b185_8c8590d4447frow1_col6\" class=\"data row1 col6\" >0</td> \n",
       "        <td id=\"T_546ea56e_5788_11e8_b185_8c8590d4447frow1_col7\" class=\"data row1 col7\" >0</td> \n",
       "        <td id=\"T_546ea56e_5788_11e8_b185_8c8590d4447frow1_col8\" class=\"data row1 col8\" >0</td> \n",
       "        <td id=\"T_546ea56e_5788_11e8_b185_8c8590d4447frow1_col9\" class=\"data row1 col9\" >0.0121425</td> \n",
       "    </tr>    <tr> \n",
       "        <th id=\"T_546ea56e_5788_11e8_b185_8c8590d4447flevel0_row2\" class=\"row_heading level0 row2\" >2</th> \n",
       "        <td id=\"T_546ea56e_5788_11e8_b185_8c8590d4447frow2_col0\" class=\"data row2 col0\" >CH-1-0</td> \n",
       "        <td id=\"T_546ea56e_5788_11e8_b185_8c8590d4447frow2_col1\" class=\"data row2 col1\" >0</td> \n",
       "        <td id=\"T_546ea56e_5788_11e8_b185_8c8590d4447frow2_col2\" class=\"data row2 col2\" >0</td> \n",
       "        <td id=\"T_546ea56e_5788_11e8_b185_8c8590d4447frow2_col3\" class=\"data row2 col3\" >0</td> \n",
       "        <td id=\"T_546ea56e_5788_11e8_b185_8c8590d4447frow2_col4\" class=\"data row2 col4\" >0</td> \n",
       "        <td id=\"T_546ea56e_5788_11e8_b185_8c8590d4447frow2_col5\" class=\"data row2 col5\" >0</td> \n",
       "        <td id=\"T_546ea56e_5788_11e8_b185_8c8590d4447frow2_col6\" class=\"data row2 col6\" >0</td> \n",
       "        <td id=\"T_546ea56e_5788_11e8_b185_8c8590d4447frow2_col7\" class=\"data row2 col7\" >0</td> \n",
       "        <td id=\"T_546ea56e_5788_11e8_b185_8c8590d4447frow2_col8\" class=\"data row2 col8\" >0</td> \n",
       "        <td id=\"T_546ea56e_5788_11e8_b185_8c8590d4447frow2_col9\" class=\"data row2 col9\" >0.0121425</td> \n",
       "    </tr>    <tr> \n",
       "        <th id=\"T_546ea56e_5788_11e8_b185_8c8590d4447flevel0_row3\" class=\"row_heading level0 row3\" >3</th> \n",
       "        <td id=\"T_546ea56e_5788_11e8_b185_8c8590d4447frow3_col0\" class=\"data row3 col0\" >CH-1-1</td> \n",
       "        <td id=\"T_546ea56e_5788_11e8_b185_8c8590d4447frow3_col1\" class=\"data row3 col1\" >0</td> \n",
       "        <td id=\"T_546ea56e_5788_11e8_b185_8c8590d4447frow3_col2\" class=\"data row3 col2\" >0</td> \n",
       "        <td id=\"T_546ea56e_5788_11e8_b185_8c8590d4447frow3_col3\" class=\"data row3 col3\" >0</td> \n",
       "        <td id=\"T_546ea56e_5788_11e8_b185_8c8590d4447frow3_col4\" class=\"data row3 col4\" >0</td> \n",
       "        <td id=\"T_546ea56e_5788_11e8_b185_8c8590d4447frow3_col5\" class=\"data row3 col5\" >0</td> \n",
       "        <td id=\"T_546ea56e_5788_11e8_b185_8c8590d4447frow3_col6\" class=\"data row3 col6\" >0</td> \n",
       "        <td id=\"T_546ea56e_5788_11e8_b185_8c8590d4447frow3_col7\" class=\"data row3 col7\" >0</td> \n",
       "        <td id=\"T_546ea56e_5788_11e8_b185_8c8590d4447frow3_col8\" class=\"data row3 col8\" >0</td> \n",
       "        <td id=\"T_546ea56e_5788_11e8_b185_8c8590d4447frow3_col9\" class=\"data row3 col9\" >0.0121425</td> \n",
       "    </tr>    <tr> \n",
       "        <th id=\"T_546ea56e_5788_11e8_b185_8c8590d4447flevel0_row4\" class=\"row_heading level0 row4\" >4</th> \n",
       "        <td id=\"T_546ea56e_5788_11e8_b185_8c8590d4447frow4_col0\" class=\"data row4 col0\" >CH-0-0</td> \n",
       "        <td id=\"T_546ea56e_5788_11e8_b185_8c8590d4447frow4_col1\" class=\"data row4 col1\" >2601</td> \n",
       "        <td id=\"T_546ea56e_5788_11e8_b185_8c8590d4447frow4_col2\" class=\"data row4 col2\" >482.838</td> \n",
       "        <td id=\"T_546ea56e_5788_11e8_b185_8c8590d4447frow4_col3\" class=\"data row4 col3\" >232</td> \n",
       "        <td id=\"T_546ea56e_5788_11e8_b185_8c8590d4447frow4_col4\" class=\"data row4 col4\" >0</td> \n",
       "        <td id=\"T_546ea56e_5788_11e8_b185_8c8590d4447frow4_col5\" class=\"data row4 col5\" >247.791</td> \n",
       "        <td id=\"T_546ea56e_5788_11e8_b185_8c8590d4447frow4_col6\" class=\"data row4 col6\" >1</td> \n",
       "        <td id=\"T_546ea56e_5788_11e8_b185_8c8590d4447frow4_col7\" class=\"data row4 col7\" >1</td> \n",
       "        <td id=\"T_546ea56e_5788_11e8_b185_8c8590d4447frow4_col8\" class=\"data row4 col8\" >0</td> \n",
       "        <td id=\"T_546ea56e_5788_11e8_b185_8c8590d4447frow4_col9\" class=\"data row4 col9\" >0.0133098</td> \n",
       "    </tr></tbody> \n",
       "</table> "
      ],
      "text/plain": [
       "<pandas.io.formats.style.Styler at 0x1174dfe10>"
      ]
     },
     "metadata": {},
     "output_type": "display_data"
    }
   ],
   "source": [
    "# Display the head rows for each operation type\n",
    "for k in data:\n",
    "    display.display(data[k].head().style.set_caption(k))"
   ]
  },
  {
   "cell_type": "markdown",
   "metadata": {},
   "source": [
    "### Drift Compensation Summary"
   ]
  },
  {
   "cell_type": "code",
   "execution_count": 18,
   "metadata": {},
   "outputs": [
    {
     "data": {
      "text/html": [
       "<div>\n",
       "<style scoped>\n",
       "    .dataframe tbody tr th:only-of-type {\n",
       "        vertical-align: middle;\n",
       "    }\n",
       "\n",
       "    .dataframe tbody tr th {\n",
       "        vertical-align: top;\n",
       "    }\n",
       "\n",
       "    .dataframe thead th {\n",
       "        text-align: right;\n",
       "    }\n",
       "</style>\n",
       "<table border=\"1\" class=\"dataframe\">\n",
       "  <thead>\n",
       "    <tr style=\"text-align: right;\">\n",
       "      <th></th>\n",
       "      <th>region</th>\n",
       "      <th>target_cycle</th>\n",
       "      <th>translation</th>\n",
       "      <th>delta_z</th>\n",
       "      <th>delta_y</th>\n",
       "      <th>delta_x</th>\n",
       "    </tr>\n",
       "  </thead>\n",
       "  <tbody>\n",
       "    <tr>\n",
       "      <th>0</th>\n",
       "      <td>0</td>\n",
       "      <td>1</td>\n",
       "      <td>[-1, -1, -6]</td>\n",
       "      <td>-1</td>\n",
       "      <td>-1</td>\n",
       "      <td>-6</td>\n",
       "    </tr>\n",
       "  </tbody>\n",
       "</table>\n",
       "</div>"
      ],
      "text/plain": [
       "   region  target_cycle   translation  delta_z  delta_y  delta_x\n",
       "0       0             1  [-1, -1, -6]       -1       -1       -6"
      ]
     },
     "execution_count": 18,
     "metadata": {},
     "output_type": "execute_result"
    }
   ],
   "source": [
    "df = data[drift_comp_op].copy()\n",
    "df = df.groupby(['region', 'target_cycle'])['translation'].first().reset_index()\n",
    "for i, dim in enumerate(['z', 'y', 'x']):\n",
    "    df['delta_' + dim] = df['translation'].apply(lambda v: v[i])\n",
    "df"
   ]
  },
  {
   "cell_type": "markdown",
   "metadata": {},
   "source": [
    "### Focal Plane Summary"
   ]
  },
  {
   "cell_type": "code",
   "execution_count": 33,
   "metadata": {},
   "outputs": [
    {
     "data": {
      "image/png": "[encoded data removed]",
      "text/plain": [
       "<Figure size 1200x800 with 1 Axes>"
      ]
     },
     "metadata": {},
     "output_type": "display_data"
    },
    {
     "data": {
      "text/plain": [
       "<ggplot: (294691504)>"
      ]
     },
     "execution_count": 33,
     "metadata": {},
     "output_type": "execute_result"
    }
   ],
   "source": [
    "df = data[best_focus_op].copy()\n",
    "(\n",
    "    pn.ggplot(\n",
    "        df.assign(\n",
    "            z=df['best_z'].apply(lambda v: '{}'.format(v)),\n",
    "            region_index=df['region'].apply(lambda v: 'Region {}'.format(v))\n",
    "        ), \n",
    "        pn.aes(x='tile_x', y='tile_y', fill='z')\n",
    "    ) +\n",
    "    pn.scale_y_reverse() +\n",
    "    pn.scale_fill_brewer(palette='YlOrRd') +\n",
    "    pn.facet_wrap('~region_index', ncol=2) +\n",
    "    pn.geom_tile() + \n",
    "    pn.theme(figure_size=(12, 8))\n",
    ")"
   ]
  },
  {
   "cell_type": "markdown",
   "metadata": {},
   "source": [
    "### Tile Summary Statistics"
   ]
  },
  {
   "cell_type": "code",
   "execution_count": 41,
   "metadata": {},
   "outputs": [
    {
     "data": {
      "image/png": "[encoded data removed]",
      "text/plain": [
       "<Figure size 640x480 with 1 Axes>"
      ]
     },
     "metadata": {},
     "output_type": "display_data"
    },
    {
     "data": {
      "text/plain": [
       "<ggplot: (295537556)>"
      ]
     },
     "execution_count": 41,
     "metadata": {},
     "output_type": "execute_result"
    }
   ],
   "source": [
    "df = data[tile_summary_op].copy()\n",
    "(\n",
    "    pn.ggplot(\n",
    "        df.assign(region_index=df['region'].apply(lambda v: 'Region {}'.format(v))), \n",
    "        pn.aes(x='channel', y='mean')\n",
    "    ) + \n",
    "    pn.geom_jitter(pn.aes(color='tile')) +\n",
    "    pn.geom_boxplot(outlier_size=0) +\n",
    "    pn.facet_wrap('~region')\n",
    ")"
   ]
  }
 ],
 "metadata": {
  "kernelspec": {
   "display_name": "Python 3",
   "language": "python",
   "name": "python3"
  },
  "language_info": {
   "codemirror_mode": {
    "name": "ipython",
    "version": 3
   },
   "file_extension": ".py",
   "mimetype": "text/x-python",
   "name": "python",
   "nbconvert_exporter": "python",
   "pygments_lexer": "ipython3",
   "version": "3.6.5"
  }
 },
 "nbformat": 4,
 "nbformat_minor": 2
}
