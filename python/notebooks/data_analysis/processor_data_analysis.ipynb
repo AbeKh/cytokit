{
 "cells": [
  {
   "cell_type": "markdown",
   "metadata": {},
   "source": [
    "# Processor Data Analysis\n",
    "\n",
    "This document contains debugging and exploratory information based on data collected as part of the CODEX processor CLI (saved as ```processor_data.json```) and is often helpful for the following:\n",
    "- Tracking large (and possibly erroneous) drift compensations\n",
    "- Viewing best focal plane selections for each region and tile (often useful for finding bad parts of a sample)\n",
    "- Diagnosing over/under saturation in individual channels\n",
    "- Examining execution times by operation"
   ]
  },
  {
   "cell_type": "markdown",
   "metadata": {},
   "source": [
    "### Parameters"
   ]
  },
  {
   "cell_type": "code",
   "execution_count": null,
   "metadata": {
    "tags": [
     "parameters"
    ]
   },
   "outputs": [],
   "source": [
    "# Parameters\n",
    "processor_data_path = None"
   ]
  },
  {
   "cell_type": "code",
   "execution_count": null,
   "metadata": {},
   "outputs": [],
   "source": [
    "# Validation\n",
    "assert processor_data_path is not None, 'Must set parameter for path to processor data json file'"
   ]
  },
  {
   "cell_type": "markdown",
   "metadata": {},
   "source": [
    "### Load Processor Data"
   ]
  },
  {
   "cell_type": "code",
   "execution_count": null,
   "metadata": {},
   "outputs": [],
   "source": [
    "from codex.ops import op, best_focus, deconvolution, drift_compensation, tile_summary, tile_generator\n",
    "from codex import cli\n",
    "from IPython import display\n",
    "import plotnine as pn\n",
    "import seaborn as sns\n",
    "import matplotlib.pyplot as plt\n",
    "import pandas as pd\n",
    "import json\n",
    "\n",
    "# Set expected keys for operations dynamically based on class names (to avoid\n",
    "# future refactoring synchronization problems)\n",
    "drift_comp_op = op.CodexOp.get_op_for_class(drift_compensation.CodexDriftCompensator)\n",
    "best_focus_op = op.CodexOp.get_op_for_class(best_focus.CodexFocalPlaneSelector)\n",
    "tile_summary_op = op.CodexOp.get_op_for_class(tile_summary.CodexTileSummary)\n",
    "decon_op = op.CodexOp.get_op_for_class(deconvolution.CodexDeconvolution)\n",
    "tile_gen_op = op.CodexOp.get_op_for_class(tile_generator.CodexTileGenerator)\n",
    "\n",
    "# Load processor data as a dict of data frames, separated by operation type\n",
    "data = cli.read_processor_data(processor_data_path)\n",
    "\n",
    "# Explicitly ignore tile generator stats\n",
    "if tile_gen_op in data:\n",
    "    del data[tile_gen_op]"
   ]
  },
  {
   "cell_type": "code",
   "execution_count": null,
   "metadata": {},
   "outputs": [],
   "source": [
    "# Display the head rows for each operation type\n",
    "for k in data:\n",
    "    display.display(data[k].head().style.set_caption(k))"
   ]
  },
  {
   "cell_type": "markdown",
   "metadata": {},
   "source": [
    "### Drift Compensation Summary"
   ]
  },
  {
   "cell_type": "code",
   "execution_count": null,
   "metadata": {},
   "outputs": [],
   "source": [
    "df = data[drift_comp_op].copy()\n",
    "dims = ['z', 'y', 'x'][-len(df['translation'].iloc[0]):]\n",
    "df = df.groupby(['region', 'target_cycle'])['translation'].first().reset_index()\n",
    "for i, dim in enumerate(dims):\n",
    "    df['delta_' + dim] = df['translation'].apply(lambda v: v[i])\n",
    "\n",
    "sns.heatmap(\n",
    "    df.set_index(['region', 'target_cycle']).drop('translation', axis=1),\n",
    "    annot=True, cmap='viridis',\n",
    "    yticklabels=1, cbar=False\n",
    ")\n",
    "plt.gcf().set_size_inches(5, 3 * df['region'].nunique())\n",
    "plt.gca().set_ylabel('Region Index - Target Cycle Index')\n",
    "plt.gca().set_title('Drift Compensation Translation by Region/Cycle')"
   ]
  },
  {
   "cell_type": "markdown",
   "metadata": {},
   "source": [
    "### Focal Plane Summary"
   ]
  },
  {
   "cell_type": "code",
   "execution_count": null,
   "metadata": {},
   "outputs": [],
   "source": [
    "df = data[best_focus_op].copy()\n",
    "(\n",
    "    pn.ggplot(\n",
    "        df.assign(\n",
    "            z=df['best_z'].apply(lambda v: '{}'.format(v)),\n",
    "            region_index=df['region'].apply(lambda v: 'Region {}'.format(v))\n",
    "        ), \n",
    "        pn.aes(x='tile_x', y='tile_y', fill='z', width=.95, height=.95)\n",
    "    ) +\n",
    "    pn.scale_y_reverse() +\n",
    "    pn.scale_fill_brewer(palette='YlOrRd', guide=pn.guide_legend(title='Best Z (0-Based)')) +\n",
    "    pn.facet_wrap('~region_index', ncol=2) +\n",
    "    pn.geom_tile() + \n",
    "    pn.xlab('Tile X Coordinate') +\n",
    "    pn.ylab('Tile Y Coordinate') +\n",
    "    pn.ggtitle('Best Focal Plane by Region/Tile') +\n",
    "    pn.theme(figure_size=(12, 4 * (df['region'].nunique() + 1) // 2))\n",
    ")"
   ]
  },
  {
   "cell_type": "markdown",
   "metadata": {},
   "source": [
    "### Tile Summary Statistics"
   ]
  },
  {
   "cell_type": "code",
   "execution_count": null,
   "metadata": {},
   "outputs": [],
   "source": [
    "df = data[tile_summary_op].copy()\n",
    "(\n",
    "    pn.ggplot(\n",
    "        df.assign(\n",
    "            region=df['region'].apply(lambda v: 'Region {}'.format(v)),\n",
    "            channel=pd.Categorical(\n",
    "                df['channel'],\n",
    "                categories=df.groupby('channel')['mean'].mean().sort_values().index, ordered=True\n",
    "            )\n",
    "        ), \n",
    "        pn.aes(x='channel', y='mean')\n",
    "    ) + \n",
    "    pn.geom_boxplot(outlier_size=0, alpha=.5) +\n",
    "    pn.geom_jitter(pn.aes(color='tile'), width=.1) +\n",
    "    pn.scale_y_log10() +\n",
    "    pn.scale_color_continuous(guide=pn.guide_legend(title='Tile Index')) +\n",
    "    pn.facet_wrap('~region', ncol=2) +\n",
    "    pn.theme(figure_size=(24, 6 * (df['region'].nunique() + 1) // 2), axis_text_x=pn.element_text(rotation=90)) +\n",
    "    pn.ggtitle('Mean Intensity Distributions Across Tiles') +\n",
    "    pn.xlab('Channel Name') +\n",
    "    pn.ylab('Mean Intensity')\n",
    ")"
   ]
  },
  {
   "cell_type": "markdown",
   "metadata": {},
   "source": [
    "### Execution Time Breakdown"
   ]
  },
  {
   "cell_type": "code",
   "execution_count": null,
   "metadata": {},
   "outputs": [],
   "source": [
    "df = pd.concat(\n",
    "    [data[k].groupby(['region', 'tile'])['time'].first().rename(k) for k in data.keys()],\n",
    "    axis=1\n",
    ")\n",
    "df.columns.name = 'operation'\n",
    "df = df.stack().rename('time').reset_index()\n",
    "(\n",
    "    pn.ggplot(\n",
    "        df.assign(operation=pd.Categorical(\n",
    "            df['operation'], \n",
    "            categories=df.groupby('operation')['time'].median().sort_values().index,\n",
    "            ordered=True\n",
    "        )),\n",
    "        pn.aes(x='operation', y='time')\n",
    "    ) +\n",
    "    pn.geom_boxplot() +\n",
    "    pn.geom_jitter(alpha=.1) +\n",
    "    pn.xlab('Operation') + \n",
    "    pn.ylab('Execution Time (Seconds)') +\n",
    "    pn.ggtitle('Execution Time Distrubtions Across Tiles') +\n",
    "    pn.theme(figure_size=(16, 4))\n",
    ")"
   ]
  }
 ],
 "metadata": {
  "kernelspec": {
   "display_name": "Python 3",
   "language": "python",
   "name": "python3"
  },
  "language_info": {
   "codemirror_mode": {
    "name": "ipython",
    "version": 3
   },
   "file_extension": ".py",
   "mimetype": "text/x-python",
   "name": "python",
   "nbconvert_exporter": "python",
   "pygments_lexer": "ipython3",
   "version": "3.6.4"
  }
 },
 "nbformat": 4,
 "nbformat_minor": 2
}
