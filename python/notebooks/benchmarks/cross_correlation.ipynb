{
 "cells": [
  {
   "cell_type": "markdown",
   "metadata": {},
   "source": [
    "## CPU vs GPU Cross Correlation Benchmark"
   ]
  },
  {
   "cell_type": "code",
   "execution_count": 10,
   "metadata": {},
   "outputs": [],
   "source": [
    "%matplotlib inline\n",
    "import matplotlib.pyplot as plt\n",
    "import numpy as np\n",
    "import pandas as pd\n",
    "import plotnine as pn\n",
    "import tqdm\n",
    "from flowdec import data as fd_data\n",
    "from cytokit.ops import drift_compensation\n",
    "from skimage.feature import register_translation\n",
    "from skimage.transform import rescale\n",
    "from skimage.exposure import rescale_intensity"
   ]
  },
  {
   "cell_type": "code",
   "execution_count": 2,
   "metadata": {},
   "outputs": [],
   "source": [
    "acq = fd_data.bead_25pct()"
   ]
  },
  {
   "cell_type": "code",
   "execution_count": 3,
   "metadata": {},
   "outputs": [
    {
     "data": {
      "text/plain": [
       "(64, 64, 64)"
      ]
     },
     "execution_count": 3,
     "metadata": {},
     "output_type": "execute_result"
    }
   ],
   "source": [
    "img = acq.data\n",
    "img = rescale_intensity(img, out_range='uint8').astype(np.uint8)\n",
    "img.shape"
   ]
  },
  {
   "cell_type": "code",
   "execution_count": 4,
   "metadata": {},
   "outputs": [],
   "source": [
    "from timeit import default_timer as timer\n",
    "\n",
    "def run(op):\n",
    "    start = timer()\n",
    "    op()\n",
    "    end = timer()\n",
    "    return end - start\n",
    "\n",
    "def benchmark(img):\n",
    "    op = drift_compensation.TranslationCalculator(3)\n",
    "    op.initialize()\n",
    "    \n",
    "    df = []\n",
    "    for scale_factor in tqdm.tqdm(np.arange(1., 5., .2)):\n",
    "        imgs = rescale(img, scale_factor, anti_aliasing=False, mode='constant', \n",
    "                       multichannel=False, preserve_range=True).astype(np.uint8)\n",
    "        \n",
    "        df.append({\n",
    "            'scale_factor': scale_factor,\n",
    "            'size': imgs.size,\n",
    "            'shape': imgs.shape,\n",
    "            'cpu': run(lambda: register_translation(imgs, imgs)),\n",
    "            'gpu': run(lambda: op.run(imgs, imgs))\n",
    "        })\n",
    "    return pd.DataFrame(df)\n"
   ]
  },
  {
   "cell_type": "code",
   "execution_count": 5,
   "metadata": {},
   "outputs": [
    {
     "name": "stderr",
     "output_type": "stream",
     "text": [
      "100%|██████████| 20/20 [05:49<00:00, 58.68s/it]\n"
     ]
    }
   ],
   "source": [
    "df = benchmark(img)"
   ]
  },
  {
   "cell_type": "code",
   "execution_count": 7,
   "metadata": {},
   "outputs": [
    {
     "data": {
      "text/html": [
       "<div>\n",
       "<style scoped>\n",
       "    .dataframe tbody tr th:only-of-type {\n",
       "        vertical-align: middle;\n",
       "    }\n",
       "\n",
       "    .dataframe tbody tr th {\n",
       "        vertical-align: top;\n",
       "    }\n",
       "\n",
       "    .dataframe thead th {\n",
       "        text-align: right;\n",
       "    }\n",
       "</style>\n",
       "<table border=\"1\" class=\"dataframe\">\n",
       "  <thead>\n",
       "    <tr style=\"text-align: right;\">\n",
       "      <th></th>\n",
       "      <th>cpu</th>\n",
       "      <th>gpu</th>\n",
       "      <th>scale_factor</th>\n",
       "      <th>shape</th>\n",
       "      <th>size</th>\n",
       "    </tr>\n",
       "  </thead>\n",
       "  <tbody>\n",
       "    <tr>\n",
       "      <th>0</th>\n",
       "      <td>0.081813</td>\n",
       "      <td>1.721321</td>\n",
       "      <td>1.0</td>\n",
       "      <td>(64, 64, 64)</td>\n",
       "      <td>262144</td>\n",
       "    </tr>\n",
       "    <tr>\n",
       "      <th>1</th>\n",
       "      <td>0.189963</td>\n",
       "      <td>0.033839</td>\n",
       "      <td>1.2</td>\n",
       "      <td>(77, 77, 77)</td>\n",
       "      <td>456533</td>\n",
       "    </tr>\n",
       "    <tr>\n",
       "      <th>2</th>\n",
       "      <td>0.185364</td>\n",
       "      <td>0.051471</td>\n",
       "      <td>1.4</td>\n",
       "      <td>(90, 90, 90)</td>\n",
       "      <td>729000</td>\n",
       "    </tr>\n",
       "    <tr>\n",
       "      <th>3</th>\n",
       "      <td>0.429476</td>\n",
       "      <td>0.069251</td>\n",
       "      <td>1.6</td>\n",
       "      <td>(102, 102, 102)</td>\n",
       "      <td>1061208</td>\n",
       "    </tr>\n",
       "    <tr>\n",
       "      <th>4</th>\n",
       "      <td>0.669888</td>\n",
       "      <td>0.097829</td>\n",
       "      <td>1.8</td>\n",
       "      <td>(115, 115, 115)</td>\n",
       "      <td>1520875</td>\n",
       "    </tr>\n",
       "    <tr>\n",
       "      <th>5</th>\n",
       "      <td>0.721086</td>\n",
       "      <td>0.117296</td>\n",
       "      <td>2.0</td>\n",
       "      <td>(128, 128, 128)</td>\n",
       "      <td>2097152</td>\n",
       "    </tr>\n",
       "    <tr>\n",
       "      <th>6</th>\n",
       "      <td>2.158388</td>\n",
       "      <td>0.130621</td>\n",
       "      <td>2.2</td>\n",
       "      <td>(141, 141, 141)</td>\n",
       "      <td>2803221</td>\n",
       "    </tr>\n",
       "    <tr>\n",
       "      <th>7</th>\n",
       "      <td>1.782249</td>\n",
       "      <td>0.189182</td>\n",
       "      <td>2.4</td>\n",
       "      <td>(154, 154, 154)</td>\n",
       "      <td>3652264</td>\n",
       "    </tr>\n",
       "    <tr>\n",
       "      <th>8</th>\n",
       "      <td>5.586183</td>\n",
       "      <td>0.268170</td>\n",
       "      <td>2.6</td>\n",
       "      <td>(166, 166, 166)</td>\n",
       "      <td>4574296</td>\n",
       "    </tr>\n",
       "    <tr>\n",
       "      <th>9</th>\n",
       "      <td>15.786713</td>\n",
       "      <td>0.322744</td>\n",
       "      <td>2.8</td>\n",
       "      <td>(179, 179, 179)</td>\n",
       "      <td>5735339</td>\n",
       "    </tr>\n",
       "    <tr>\n",
       "      <th>10</th>\n",
       "      <td>2.685186</td>\n",
       "      <td>0.360519</td>\n",
       "      <td>3.0</td>\n",
       "      <td>(192, 192, 192)</td>\n",
       "      <td>7077888</td>\n",
       "    </tr>\n",
       "    <tr>\n",
       "      <th>11</th>\n",
       "      <td>6.302546</td>\n",
       "      <td>0.448287</td>\n",
       "      <td>3.2</td>\n",
       "      <td>(205, 205, 205)</td>\n",
       "      <td>8615125</td>\n",
       "    </tr>\n",
       "    <tr>\n",
       "      <th>12</th>\n",
       "      <td>16.039431</td>\n",
       "      <td>0.538334</td>\n",
       "      <td>3.4</td>\n",
       "      <td>(218, 218, 218)</td>\n",
       "      <td>10360232</td>\n",
       "    </tr>\n",
       "    <tr>\n",
       "      <th>13</th>\n",
       "      <td>7.086641</td>\n",
       "      <td>0.639292</td>\n",
       "      <td>3.6</td>\n",
       "      <td>(230, 230, 230)</td>\n",
       "      <td>12167000</td>\n",
       "    </tr>\n",
       "    <tr>\n",
       "      <th>14</th>\n",
       "      <td>6.426614</td>\n",
       "      <td>0.692536</td>\n",
       "      <td>3.8</td>\n",
       "      <td>(243, 243, 243)</td>\n",
       "      <td>14348907</td>\n",
       "    </tr>\n",
       "    <tr>\n",
       "      <th>15</th>\n",
       "      <td>7.113928</td>\n",
       "      <td>0.862714</td>\n",
       "      <td>4.0</td>\n",
       "      <td>(256, 256, 256)</td>\n",
       "      <td>16777216</td>\n",
       "    </tr>\n",
       "    <tr>\n",
       "      <th>16</th>\n",
       "      <td>76.534383</td>\n",
       "      <td>1.023897</td>\n",
       "      <td>4.2</td>\n",
       "      <td>(269, 269, 269)</td>\n",
       "      <td>19465109</td>\n",
       "    </tr>\n",
       "    <tr>\n",
       "      <th>17</th>\n",
       "      <td>18.312039</td>\n",
       "      <td>1.194090</td>\n",
       "      <td>4.4</td>\n",
       "      <td>(282, 282, 282)</td>\n",
       "      <td>22425768</td>\n",
       "    </tr>\n",
       "    <tr>\n",
       "      <th>18</th>\n",
       "      <td>14.026595</td>\n",
       "      <td>1.296386</td>\n",
       "      <td>4.6</td>\n",
       "      <td>(294, 294, 294)</td>\n",
       "      <td>25412184</td>\n",
       "    </tr>\n",
       "    <tr>\n",
       "      <th>19</th>\n",
       "      <td>130.778411</td>\n",
       "      <td>1.583504</td>\n",
       "      <td>4.8</td>\n",
       "      <td>(307, 307, 307)</td>\n",
       "      <td>28934443</td>\n",
       "    </tr>\n",
       "  </tbody>\n",
       "</table>\n",
       "</div>"
      ],
      "text/plain": [
       "           cpu       gpu  scale_factor            shape      size\n",
       "0     0.081813  1.721321           1.0     (64, 64, 64)    262144\n",
       "1     0.189963  0.033839           1.2     (77, 77, 77)    456533\n",
       "2     0.185364  0.051471           1.4     (90, 90, 90)    729000\n",
       "3     0.429476  0.069251           1.6  (102, 102, 102)   1061208\n",
       "4     0.669888  0.097829           1.8  (115, 115, 115)   1520875\n",
       "5     0.721086  0.117296           2.0  (128, 128, 128)   2097152\n",
       "6     2.158388  0.130621           2.2  (141, 141, 141)   2803221\n",
       "7     1.782249  0.189182           2.4  (154, 154, 154)   3652264\n",
       "8     5.586183  0.268170           2.6  (166, 166, 166)   4574296\n",
       "9    15.786713  0.322744           2.8  (179, 179, 179)   5735339\n",
       "10    2.685186  0.360519           3.0  (192, 192, 192)   7077888\n",
       "11    6.302546  0.448287           3.2  (205, 205, 205)   8615125\n",
       "12   16.039431  0.538334           3.4  (218, 218, 218)  10360232\n",
       "13    7.086641  0.639292           3.6  (230, 230, 230)  12167000\n",
       "14    6.426614  0.692536           3.8  (243, 243, 243)  14348907\n",
       "15    7.113928  0.862714           4.0  (256, 256, 256)  16777216\n",
       "16   76.534383  1.023897           4.2  (269, 269, 269)  19465109\n",
       "17   18.312039  1.194090           4.4  (282, 282, 282)  22425768\n",
       "18   14.026595  1.296386           4.6  (294, 294, 294)  25412184\n",
       "19  130.778411  1.583504           4.8  (307, 307, 307)  28934443"
      ]
     },
     "execution_count": 7,
     "metadata": {},
     "output_type": "execute_result"
    }
   ],
   "source": [
    "df"
   ]
  },
  {
   "cell_type": "code",
   "execution_count": 13,
   "metadata": {},
   "outputs": [
    {
     "data": {
      "text/html": [
       "<div>\n",
       "<style scoped>\n",
       "    .dataframe tbody tr th:only-of-type {\n",
       "        vertical-align: middle;\n",
       "    }\n",
       "\n",
       "    .dataframe tbody tr th {\n",
       "        vertical-align: top;\n",
       "    }\n",
       "\n",
       "    .dataframe thead th {\n",
       "        text-align: right;\n",
       "    }\n",
       "</style>\n",
       "<table border=\"1\" class=\"dataframe\">\n",
       "  <thead>\n",
       "    <tr style=\"text-align: right;\">\n",
       "      <th></th>\n",
       "      <th>size</th>\n",
       "      <th>variable</th>\n",
       "      <th>value</th>\n",
       "    </tr>\n",
       "  </thead>\n",
       "  <tbody>\n",
       "    <tr>\n",
       "      <th>0</th>\n",
       "      <td>262144</td>\n",
       "      <td>cpu</td>\n",
       "      <td>0.081813</td>\n",
       "    </tr>\n",
       "    <tr>\n",
       "      <th>1</th>\n",
       "      <td>456533</td>\n",
       "      <td>cpu</td>\n",
       "      <td>0.189963</td>\n",
       "    </tr>\n",
       "    <tr>\n",
       "      <th>2</th>\n",
       "      <td>729000</td>\n",
       "      <td>cpu</td>\n",
       "      <td>0.185364</td>\n",
       "    </tr>\n",
       "    <tr>\n",
       "      <th>3</th>\n",
       "      <td>1061208</td>\n",
       "      <td>cpu</td>\n",
       "      <td>0.429476</td>\n",
       "    </tr>\n",
       "    <tr>\n",
       "      <th>4</th>\n",
       "      <td>1520875</td>\n",
       "      <td>cpu</td>\n",
       "      <td>0.669888</td>\n",
       "    </tr>\n",
       "  </tbody>\n",
       "</table>\n",
       "</div>"
      ],
      "text/plain": [
       "      size variable     value\n",
       "0   262144      cpu  0.081813\n",
       "1   456533      cpu  0.189963\n",
       "2   729000      cpu  0.185364\n",
       "3  1061208      cpu  0.429476\n",
       "4  1520875      cpu  0.669888"
      ]
     },
     "execution_count": 13,
     "metadata": {},
     "output_type": "execute_result"
    }
   ],
   "source": [
    "df[['size', 'cpu', 'gpu']].melt(id_vars='size').head()"
   ]
  },
  {
   "cell_type": "code",
   "execution_count": 26,
   "metadata": {},
   "outputs": [
    {
     "name": "stderr",
     "output_type": "stream",
     "text": [
      "/usr/local/lib/python3.5/dist-packages/plotnine/stats/smoothers.py:146: UserWarning: Confidence intervals are not yet implementedfor lowess smoothings.\n",
      "  warnings.warn(\"Confidence intervals are not yet implemented\"\n",
      "/usr/local/lib/python3.5/dist-packages/plotnine/stats/smoothers.py:146: UserWarning: Confidence intervals are not yet implementedfor lowess smoothings.\n",
      "  warnings.warn(\"Confidence intervals are not yet implemented\"\n"
     ]
    },
    {
     "data": {
      "image/png": "[encoded data removed]",
      "text/plain": [
       "<Figure size 640x480 with 1 Axes>"
      ]
     },
     "metadata": {},
     "output_type": "display_data"
    },
    {
     "data": {
      "text/plain": [
       "<ggplot: (8749534668001)>"
      ]
     },
     "execution_count": 26,
     "metadata": {},
     "output_type": "execute_result"
    }
   ],
   "source": [
    "(\n",
    "    pn.ggplot(\n",
    "        df.query('scale_factor > 1.2').assign(mb=lambda df: df['size']/1000000)[['mb', 'cpu', 'gpu']].melt(id_vars='mb'), \n",
    "        pn.aes(x='mb', y='value', color='variable')\n",
    "    ) +\n",
    "    pn.geom_smooth() +\n",
    "    pn.scale_y_log10() + \n",
    "    pn.theme_bw() +\n",
    "    pn.xlab('3D Image Size (MB)') +\n",
    "    pn.ylab('Seconds')\n",
    ")"
   ]
  },
  {
   "cell_type": "code",
   "execution_count": 30,
   "metadata": {},
   "outputs": [
    {
     "data": {
      "text/plain": [
       "(1.354752, 14.902272)"
      ]
     },
     "execution_count": 30,
     "metadata": {},
     "output_type": "execute_result"
    }
   ],
   "source": [
    "(1*1008*1344)/1000000, (11*1008*1344)/1000000"
   ]
  }
 ],
 "metadata": {
  "kernelspec": {
   "display_name": "Python 3",
   "language": "python",
   "name": "python3"
  },
  "language_info": {
   "codemirror_mode": {
    "name": "ipython",
    "version": 3
   },
   "file_extension": ".py",
   "mimetype": "text/x-python",
   "name": "python",
   "nbconvert_exporter": "python",
   "pygments_lexer": "ipython3",
   "version": "3.5.2"
  }
 },
 "nbformat": 4,
 "nbformat_minor": 2
}
