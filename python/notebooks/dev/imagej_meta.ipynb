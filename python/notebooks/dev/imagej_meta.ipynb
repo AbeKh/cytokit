{
 "cells": [
  {
   "cell_type": "markdown",
   "metadata": {},
   "source": [
    "### ImageJ tif formatting and metadata tests\n",
    "\n",
    "**Links**\n",
    "\n",
    "- ImageJ Tiff Decoder: https://imagej.nih.gov/ij/source/ij/io/TiffDecoder.java\n",
    "- Using tifffile metadata: \n",
    "    - https://stackoverflow.com/questions/50258287/how-to-specify-colormap-when-saving-tiff-stack\n",
    "    - https://stackoverflow.com/questions/50948559/how-to-save-imagej-tiff-metadata-using-python?noredirect=1&lq=1"
   ]
  },
  {
   "cell_type": "code",
   "execution_count": 1,
   "metadata": {},
   "outputs": [],
   "source": [
    "import numpy as np\n",
    "import matplotlib.pyplot as plt\n",
    "import os.path\n",
    "import os.path as osp\n",
    "from cytokit import io as cytokit_io\n",
    "from cytokit import config as cytokit_config\n",
    "from cytokit.utils import ij_utils\n",
    "from skimage import io as sk_io\n",
    "plt.gray()\n",
    "None"
   ]
  },
  {
   "cell_type": "code",
   "execution_count": 2,
   "metadata": {},
   "outputs": [
    {
     "data": {
      "text/plain": [
       "(8, 9, 4, 1008, 1344)"
      ]
     },
     "execution_count": 2,
     "metadata": {},
     "output_type": "execute_result"
    }
   ],
   "source": [
    "#path = '/lab/data/20180614_D22_RepA_Tcell_CD4-CD8-DAPI_5by5/output/v01/processor/tile/R001_X001_Y001.tif'\n",
    "path = '/lab/data/7-7-17-multicycle-cytokit/output/v01/processor/tile/R001_X001_Y001.tif'\n",
    "img = cytokit_io.read_tile(path)\n",
    "#img = img[:3, :5]\n",
    "img.shape"
   ]
  },
  {
   "cell_type": "code",
   "execution_count": 6,
   "metadata": {},
   "outputs": [],
   "source": [
    "# Set metadata manually\n",
    "#tags = ij_utils.get_slice_label_tags(['CH1','CH2','CH3','CH4','CH1'])\n",
    "tags = ij_utils.get_channel_label_tags(['CH1','CH2','CH3','CH4'], z=img.shape[1], t=img.shape[0])\n",
    "\n",
    "xy, z = 1. / (377 / 1000.), 1. / (1500 / 1000.)\n",
    "resolution = (xy, xy)\n",
    "metadata = {'spacing': z, 'unit': 'um', 'mode': 'composite'}\n",
    "    \n",
    "cytokit_io.save_tile(\n",
    "    '/lab/data/test.tif', img, \n",
    "    resolution=resolution,\n",
    "    metadata=metadata,\n",
    "    extratags=tags, \n",
    ")"
   ]
  },
  {
   "cell_type": "code",
   "execution_count": 8,
   "metadata": {},
   "outputs": [],
   "source": [
    "# Try inferred parameters from config (note that shape of tile must match shape of experiment)\n",
    "config = cytokit_config.load('/lab/repos/cytokit-analysis/config/experiment/7-7-17-multicycle')\n",
    "cytokit_io.save_tile(\n",
    "    '/lab/data/test.tif', img, \n",
    "    config=config\n",
    ")"
   ]
  },
  {
   "cell_type": "code",
   "execution_count": 3,
   "metadata": {},
   "outputs": [
    {
     "data": {
      "text/plain": [
       "(8, 9, 4, 1008, 1344)"
      ]
     },
     "execution_count": 3,
     "metadata": {},
     "output_type": "execute_result"
    }
   ],
   "source": [
    "cytokit_io.read_tile('/lab/data/test.tif').shape"
   ]
  },
  {
   "cell_type": "code",
   "execution_count": 18,
   "metadata": {},
   "outputs": [],
   "source": [
    "from tifffile import TiffFile\n",
    "tif = TiffFile('/lab/data/test.tif')"
   ]
  },
  {
   "cell_type": "code",
   "execution_count": 19,
   "metadata": {},
   "outputs": [
    {
     "data": {
      "text/plain": [
       "{'ImageJ': '1.11a',\n",
       " 'Labels': ['CH1',\n",
       "  'CH2',\n",
       "  'CH3',\n",
       "  'CH4',\n",
       "  'CH1',\n",
       "  'CH2',\n",
       "  'CH3',\n",
       "  'CH4',\n",
       "  'CH1',\n",
       "  'CH2',\n",
       "  'CH3',\n",
       "  'CH4'],\n",
       " 'axes': 'TZCYX',\n",
       " 'channels': 4,\n",
       " 'frames': 3,\n",
       " 'hyperstack': True,\n",
       " 'images': 60,\n",
       " 'loop': False,\n",
       " 'mode': 'composite',\n",
       " 'slices': 5}"
      ]
     },
     "execution_count": 19,
     "metadata": {},
     "output_type": "execute_result"
    }
   ],
   "source": [
    "tif.imagej_metadata"
   ]
  },
  {
   "cell_type": "code",
   "execution_count": null,
   "metadata": {},
   "outputs": [],
   "source": []
  }
 ],
 "metadata": {
  "kernelspec": {
   "display_name": "Python 3",
   "language": "python",
   "name": "python3"
  },
  "language_info": {
   "codemirror_mode": {
    "name": "ipython",
    "version": 3
   },
   "file_extension": ".py",
   "mimetype": "text/x-python",
   "name": "python",
   "nbconvert_exporter": "python",
   "pygments_lexer": "ipython3",
   "version": "3.5.2"
  }
 },
 "nbformat": 4,
 "nbformat_minor": 2
}
