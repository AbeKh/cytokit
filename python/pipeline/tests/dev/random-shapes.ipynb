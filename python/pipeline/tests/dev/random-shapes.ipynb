{
 "cells": [
  {
   "cell_type": "markdown",
   "metadata": {},
   "source": [
    "## Random Shape Dataset Generation\n",
    "The purpose of this notebook is to generate a dataset/configuration useful for testing cytometry methods against a known ground-truth."
   ]
  },
  {
   "cell_type": "code",
   "execution_count": 1,
   "metadata": {},
   "outputs": [],
   "source": [
    "import numpy as np\n",
    "import pandas as pd\n",
    "import matplotlib.pyplot as plt\n",
    "import matplotlib as mpl\n",
    "from skimage import draw\n",
    "from skimage import util\n",
    "from skimage import morphology\n",
    "from skimage import measure\n",
    "from skimage import segmentation\n",
    "from cytokit.cytometry import cytometer\n",
    "from cytokit import tiling\n",
    "%matplotlib inline"
   ]
  },
  {
   "cell_type": "markdown",
   "metadata": {},
   "source": [
    "### Generate Data"
   ]
  },
  {
   "cell_type": "code",
   "execution_count": 2,
   "metadata": {},
   "outputs": [
    {
     "data": {
      "text/plain": [
       "<matplotlib.colorbar.Colorbar at 0x7f9e9efae588>"
      ]
     },
     "execution_count": 2,
     "metadata": {},
     "output_type": "execute_result"
    },
    {
     "data": {
      "image/png": "[encoded data removed]",
      "text/plain": [
       "<Figure size 432x288 with 2 Axes>"
      ]
     },
     "metadata": {},
     "output_type": "display_data"
    }
   ],
   "source": [
    "# Create 3x3 tile images with random shapes\n",
    "# Ideally there should be some tiles with no shapes,\n",
    "# shapes split across boundaries, and shapes occluding one another\n",
    "shape = (135, 180)\n",
    "nr, nc = 3, 3\n",
    "seed = 1\n",
    "\n",
    "# Build colormap for displaying discrete values\n",
    "np.random.seed(seed)\n",
    "randc = np.random.rand(256,3)\n",
    "randc[0] = np.array([0, 0, 0])\n",
    "cmap = mpl.colors.ListedColormap(randc)\n",
    "\n",
    "# Generate shapes noting that the number of shapes in result may\n",
    "# not equal number in parameters as they can completely occlude one another\n",
    "im, lbls = draw.random_shapes(\n",
    "    (shape[0]*nr, shape[1]*nc), min_shapes=15, max_shapes=15, \n",
    "    min_size=32, max_size=64, allow_overlap=True, multichannel=False,\n",
    "    random_seed=seed)\n",
    "\n",
    "# Set background to 0 and assign a sequential id to each object\n",
    "im[im == 255] = 0\n",
    "im = segmentation.relabel_sequential(im)[0]\n",
    "assert im.max() <= 255\n",
    "im = im.astype(np.uint8)\n",
    "plt.imshow(im, cmap=cmap)\n",
    "plt.axis('off')\n",
    "plt.colorbar()"
   ]
  },
  {
   "cell_type": "code",
   "execution_count": 3,
   "metadata": {},
   "outputs": [],
   "source": [
    "ids = np.unique(im[im > 0])\n",
    "# Ensure that ids only capture non-background objects\n",
    "assert np.array_equal(np.isin(im, ids), im > 0)"
   ]
  },
  {
   "cell_type": "markdown",
   "metadata": {},
   "source": [
    "### Visualize"
   ]
  },
  {
   "cell_type": "code",
   "execution_count": 4,
   "metadata": {},
   "outputs": [
    {
     "data": {
      "image/png": "[encoded data removed]",
      "text/plain": [
       "<Figure size 432x288 with 9 Axes>"
      ]
     },
     "metadata": {},
     "output_type": "display_data"
    }
   ],
   "source": [
    "imgrid = util.view_as_blocks(im, shape)\n",
    "imgrln = imgrid.reshape((-1,)+shape)\n",
    "grid_shape = imgrid.shape[:2]\n",
    "\n",
    "def plot_grid(im, fn=None):\n",
    "    fig, ax = plt.subplots(*grid_shape)\n",
    "    for r, c in np.ndindex(grid_shape):\n",
    "        imv = im[r, c]\n",
    "        if fn is not None:\n",
    "            imv = fn(imv)\n",
    "        ax[r, c].imshow(imv, cmap=cmap)\n",
    "        ax[r, c].axis('off')\n",
    "        ax[r, c].grid(False)\n",
    "plot_grid(imgrid)"
   ]
  },
  {
   "cell_type": "code",
   "execution_count": 5,
   "metadata": {},
   "outputs": [
    {
     "data": {
      "text/plain": [
       "(9, 135, 180)"
      ]
     },
     "execution_count": 5,
     "metadata": {},
     "output_type": "execute_result"
    }
   ],
   "source": [
    "imgrln.shape"
   ]
  },
  {
   "cell_type": "code",
   "execution_count": 6,
   "metadata": {},
   "outputs": [
    {
     "data": {
      "text/plain": [
       "<matplotlib.image.AxesImage at 0x7f9e9ee1f8d0>"
      ]
     },
     "execution_count": 6,
     "metadata": {},
     "output_type": "execute_result"
    },
    {
     "data": {
      "image/png": "[encoded data removed]",
      "text/plain": [
       "<Figure size 864x360 with 2 Axes>"
      ]
     },
     "metadata": {},
     "output_type": "display_data"
    }
   ],
   "source": [
    "# Identify objects on border\n",
    "imgc = util.montage(np.stack([segmentation.clear_border(im) for im in imgrln]))\n",
    "assert imgc.shape == im.shape\n",
    "ids_free = np.unique(imgc)\n",
    "ids_brdr = np.setdiff1d(ids, ids_free)\n",
    "\n",
    "# Visualize original image for free and for boundary objects\n",
    "fig, ax = plt.subplots(1, 2)\n",
    "fig.set_size_inches(12, 5)\n",
    "ax[0].set_title('Free Objects')\n",
    "ax[0].imshow(im * np.isin(im, ids_free), cmap=cmap)\n",
    "ax[1].set_title('Border Objects')\n",
    "ax[1].imshow(im * np.isin(im, ids_brdr), cmap=cmap)"
   ]
  },
  {
   "cell_type": "markdown",
   "metadata": {},
   "source": [
    "### Generate Configuration"
   ]
  },
  {
   "cell_type": "code",
   "execution_count": 7,
   "metadata": {},
   "outputs": [],
   "source": [
    "import cytokit\n",
    "import os.path as osp\n",
    "from cytokit import config as ck_config\n",
    "from cytokit import io as ck_io\n",
    "nchannels = 3\n",
    "path_format = \"T{tile:02d}_C{channel:02d}.tif\"\n",
    "exp_dir = osp.join(cytokit.test_data_dir, 'experiment', 'random-shapes')"
   ]
  },
  {
   "cell_type": "code",
   "execution_count": 8,
   "metadata": {},
   "outputs": [
    {
     "data": {
      "text/plain": [
       "{'acquisition': {'axial_resolution': 1,\n",
       "  'channel_names': ['C1', 'C2', 'C3'],\n",
       "  'emission_wavelengths': [0, 0, 0],\n",
       "  'lateral_resolution': 1,\n",
       "  'magnification': 1,\n",
       "  'num_cycles': 1,\n",
       "  'num_z_planes': 1,\n",
       "  'numerical_aperture': 1,\n",
       "  'objective_type': 'air',\n",
       "  'per_cycle_channel_names': ['CH1', 'CH2', 'CH3'],\n",
       "  'region_height': 3,\n",
       "  'region_names': ['Region1'],\n",
       "  'region_width': 3,\n",
       "  'tile_height': 135,\n",
       "  'tile_overlap_x': 0,\n",
       "  'tile_overlap_y': 0,\n",
       "  'tile_width': 180,\n",
       "  'tiling_mode': 'grid'},\n",
       " 'date': '2019-03-08 15:46:18',\n",
       " 'environment': {'path_formats': 'get_default_path_formats(\"T{tile:02d}_C{channel:02d}.tif\")'},\n",
       " 'name': 'Random Shapes',\n",
       " 'processor': {'tile_generator': {'raw_file_type': 'grayscale'}}}"
      ]
     },
     "execution_count": 8,
     "metadata": {},
     "output_type": "execute_result"
    }
   ],
   "source": [
    "# Pull the template configuration and add properties relevant to this experiment\n",
    "config = ck_config.load_example_config('template')\n",
    "config._conf['environment'] = {'path_formats': 'get_default_path_formats(\"' + path_format + '\")'}\n",
    "config._conf['processor'] = {'tile_generator': {'raw_file_type': 'grayscale'}}\n",
    "config._conf['name'] = 'Random Shapes'\n",
    "config._conf['date'] = str(pd.to_datetime('now'))\n",
    "acq = config._conf['acquisition']\n",
    "acq['per_cycle_channel_names'] = ['CH{}'.format(i) for i in range(1, nchannels + 1)]\n",
    "acq['channel_names'] = ['C{}'.format(i) for i in range(1, nchannels + 1)]\n",
    "acq['emission_wavelengths'] = [0]*nchannels\n",
    "acq['region_height'], acq['region_width'] = grid_shape\n",
    "acq['tile_height'], acq['tile_width'] = shape\n",
    "config._conf"
   ]
  },
  {
   "cell_type": "code",
   "execution_count": 9,
   "metadata": {},
   "outputs": [
    {
     "data": {
      "text/plain": [
       "'/lab/repos/cytokit/python/pipeline/tests/data/experiment/random-shapes/config/experiment.yaml'"
      ]
     },
     "execution_count": 9,
     "metadata": {},
     "output_type": "execute_result"
    }
   ],
   "source": [
    "config_path = osp.join(exp_dir, 'config', 'experiment.yaml')\n",
    "ck_config.save(config_path, config)\n",
    "config_path"
   ]
  },
  {
   "cell_type": "markdown",
   "metadata": {},
   "source": [
    "### Export Images"
   ]
  },
  {
   "cell_type": "code",
   "execution_count": 10,
   "metadata": {},
   "outputs": [
    {
     "name": "stdout",
     "output_type": "stream",
     "text": [
      "/lab/repos/cytokit/python/pipeline/tests/data/experiment/random-shapes/raw/T01_C01.tif\n",
      "/lab/repos/cytokit/python/pipeline/tests/data/experiment/random-shapes/raw/T01_C02.tif\n",
      "/lab/repos/cytokit/python/pipeline/tests/data/experiment/random-shapes/raw/T01_C03.tif\n",
      "/lab/repos/cytokit/python/pipeline/tests/data/experiment/random-shapes/raw/T02_C01.tif\n",
      "/lab/repos/cytokit/python/pipeline/tests/data/experiment/random-shapes/raw/T02_C02.tif\n",
      "/lab/repos/cytokit/python/pipeline/tests/data/experiment/random-shapes/raw/T02_C03.tif\n",
      "/lab/repos/cytokit/python/pipeline/tests/data/experiment/random-shapes/raw/T03_C01.tif\n",
      "/lab/repos/cytokit/python/pipeline/tests/data/experiment/random-shapes/raw/T03_C02.tif\n",
      "/lab/repos/cytokit/python/pipeline/tests/data/experiment/random-shapes/raw/T03_C03.tif\n",
      "/lab/repos/cytokit/python/pipeline/tests/data/experiment/random-shapes/raw/T04_C01.tif\n",
      "/lab/repos/cytokit/python/pipeline/tests/data/experiment/random-shapes/raw/T04_C02.tif\n",
      "/lab/repos/cytokit/python/pipeline/tests/data/experiment/random-shapes/raw/T04_C03.tif\n",
      "/lab/repos/cytokit/python/pipeline/tests/data/experiment/random-shapes/raw/T05_C01.tif\n",
      "/lab/repos/cytokit/python/pipeline/tests/data/experiment/random-shapes/raw/T05_C02.tif\n",
      "/lab/repos/cytokit/python/pipeline/tests/data/experiment/random-shapes/raw/T05_C03.tif\n",
      "/lab/repos/cytokit/python/pipeline/tests/data/experiment/random-shapes/raw/T06_C01.tif\n",
      "/lab/repos/cytokit/python/pipeline/tests/data/experiment/random-shapes/raw/T06_C02.tif\n",
      "/lab/repos/cytokit/python/pipeline/tests/data/experiment/random-shapes/raw/T06_C03.tif\n",
      "/lab/repos/cytokit/python/pipeline/tests/data/experiment/random-shapes/raw/T07_C01.tif\n",
      "/lab/repos/cytokit/python/pipeline/tests/data/experiment/random-shapes/raw/T07_C02.tif\n",
      "/lab/repos/cytokit/python/pipeline/tests/data/experiment/random-shapes/raw/T07_C03.tif\n",
      "/lab/repos/cytokit/python/pipeline/tests/data/experiment/random-shapes/raw/T08_C01.tif\n",
      "/lab/repos/cytokit/python/pipeline/tests/data/experiment/random-shapes/raw/T08_C02.tif\n",
      "/lab/repos/cytokit/python/pipeline/tests/data/experiment/random-shapes/raw/T08_C03.tif\n",
      "/lab/repos/cytokit/python/pipeline/tests/data/experiment/random-shapes/raw/T09_C01.tif\n",
      "/lab/repos/cytokit/python/pipeline/tests/data/experiment/random-shapes/raw/T09_C02.tif\n",
      "/lab/repos/cytokit/python/pipeline/tests/data/experiment/random-shapes/raw/T09_C03.tif\n"
     ]
    }
   ],
   "source": [
    "# Raw tile export\n",
    "\n",
    "def create_tile(im):\n",
    "    # Create tile to quantify as (cyc, z, ch, h, w) w/ channels as multiples of original image\n",
    "    tile = np.stack([im * i for i in range(1, nchannels + 1)])\n",
    "    assert tile.shape[0] == nchannels\n",
    "    # Ensure that the first channel is equal to original, as this channel will be used as object reference\n",
    "    assert np.array_equal(tile[0], im)\n",
    "    # Add tile and z dimensions\n",
    "    tile = tile[np.newaxis, np.newaxis]\n",
    "    assert tile.ndim == 5\n",
    "    return tile\n",
    "\n",
    "tiler = tiling.GridTiling()\n",
    "for r, c in np.ndindex(grid_shape):\n",
    "    tile = create_tile(imgrid[r, c])\n",
    "    idx = tiler.index_from_coordinates(c, r, *grid_shape)\n",
    "    for ich in range(nchannels):\n",
    "        path = osp.join(exp_dir, 'raw', path_format.format(tile=idx+1, channel=ich+1))\n",
    "        image = tile[0, 0, ich]\n",
    "        assert image.ndim == 2\n",
    "        ck_io.save_image(path, image)\n",
    "        print(path)"
   ]
  },
  {
   "cell_type": "code",
   "execution_count": 11,
   "metadata": {},
   "outputs": [
    {
     "data": {
      "text/plain": [
       "'/lab/repos/cytokit/python/pipeline/tests/data/experiment/random-shapes/validation/original_shapes_image.tif'"
      ]
     },
     "execution_count": 11,
     "metadata": {},
     "output_type": "execute_result"
    }
   ],
   "source": [
    "# Validation image export\n",
    "path = osp.join(exp_dir, 'validation', 'original_shapes_image.tif')\n",
    "ck_io.save_image(path, im)\n",
    "path"
   ]
  },
  {
   "cell_type": "markdown",
   "metadata": {},
   "source": [
    "### Test Development\n",
    "\n",
    "**NOTE**: This should not refer to any variables above and should instead assume everything comes off disk"
   ]
  },
  {
   "cell_type": "code",
   "execution_count": 12,
   "metadata": {},
   "outputs": [],
   "source": [
    "config = ck_config.load(config_path)\n",
    "config.register_environment()\n",
    "from cytokit.ops import tile_generator\n",
    "from cytokit.function import core as ck_core"
   ]
  },
  {
   "cell_type": "code",
   "execution_count": 13,
   "metadata": {},
   "outputs": [
    {
     "data": {
      "text/plain": [
       "(3, 3)"
      ]
     },
     "execution_count": 13,
     "metadata": {},
     "output_type": "execute_result"
    }
   ],
   "source": [
    "region_shape = config.region_height, config.region_width\n",
    "region_shape"
   ]
  },
  {
   "cell_type": "code",
   "execution_count": 14,
   "metadata": {},
   "outputs": [
    {
     "data": {
      "text/plain": [
       "(1, 1, 3, 135, 180)"
      ]
     },
     "execution_count": 14,
     "metadata": {},
     "output_type": "execute_result"
    }
   ],
   "source": [
    "tiles = [\n",
    "    tile_generator.CytokitTileGenerator(config, osp.join(exp_dir, 'raw'), region_index=0, tile_index=i).run()\n",
    "    for i in range(config.n_tiles_per_region)\n",
    "]\n",
    "tiles[0].shape"
   ]
  },
  {
   "cell_type": "code",
   "execution_count": 15,
   "metadata": {},
   "outputs": [
    {
     "data": {
      "text/plain": [
       "((405, 540), dtype('uint8'))"
      ]
     },
     "execution_count": 15,
     "metadata": {},
     "output_type": "execute_result"
    }
   ],
   "source": [
    "img_mtv = ck_io.read_image(osp.join(exp_dir, 'validation', 'original_shapes_image.tif'))\n",
    "img_mtv.shape, img_mtv.dtype"
   ]
  },
  {
   "cell_type": "code",
   "execution_count": 16,
   "metadata": {},
   "outputs": [
    {
     "data": {
      "text/plain": [
       "((405, 540), dtype('uint8'))"
      ]
     },
     "execution_count": 16,
     "metadata": {},
     "output_type": "execute_result"
    }
   ],
   "source": [
    "# Create montage from first channel (which contains object ids for reference)\n",
    "img_mtg = ck_core.montage(tiles, config)[0, 0, 0]\n",
    "img_mtg.shape, img_mtg.dtype"
   ]
  },
  {
   "cell_type": "code",
   "execution_count": 17,
   "metadata": {},
   "outputs": [],
   "source": [
    "assert np.array_equal(img_mtv, img_mtg)"
   ]
  },
  {
   "cell_type": "code",
   "execution_count": 29,
   "metadata": {},
   "outputs": [],
   "source": [
    "# Classify objects as either free or on border\n",
    "img_clr = util.montage(np.stack([segmentation.clear_border(t[0, 0, 0]) for t in tiles]))\n",
    "assert img_clr.shape == img_mtg.shape\n",
    "ids = np.unique(img_mtg[img_mtg > 0])\n",
    "ids_free = np.setdiff1d(np.unique(img_clr), [0])\n",
    "ids_brdr = np.setdiff1d(ids, ids_free)\n",
    "assert np.all(ids_free > 0) and np.all(ids_brdr > 0) and np.all(ids > 0)"
   ]
  },
  {
   "cell_type": "code",
   "execution_count": 19,
   "metadata": {},
   "outputs": [],
   "source": [
    "def create_segments(im):\n",
    "    # Create segmentation images as (z, ch, h, w)\n",
    "    imb = segmentation.find_boundaries(im, mode='inner')\n",
    "    segments = np.stack([im, im, imb, imb])[np.newaxis]\n",
    "    assert segments.ndim == 4\n",
    "    return segments\n",
    "\n",
    "df = pd.concat([\n",
    "    cytometer.CytometerBase.quantify(\n",
    "        tiles[i], create_segments(tiles[i][0, 0, 0]),\n",
    "        channel_names=config.channel_names, \n",
    "        cell_intensity=['mean', 'median', 'sum', 'var'], nucleus_intensity=False, \n",
    "        cell_graph=True, border_features=True, morphology_features=True\n",
    "    )\n",
    "    .assign(tile_x=c, tile_y=r, tile_index=i)\n",
    "    for i, (r, c) in enumerate(np.ndindex(region_shape))\n",
    "])"
   ]
  },
  {
   "cell_type": "code",
   "execution_count": 20,
   "metadata": {},
   "outputs": [],
   "source": [
    "#df.info()"
   ]
  },
  {
   "cell_type": "code",
   "execution_count": 82,
   "metadata": {},
   "outputs": [],
   "source": [
    "assert len(np.intersect1d(ids, df['id'].unique())) == len(ids), \\\n",
    "    'Object ids expected do not match those found\\nIds found: {}\\nIds expected: {}'\\\n",
    "    .format(sorted(df['id'].unique()), sorted(ids))\n",
    "\n",
    "# Check that objects classified as on border or not are correct\n",
    "assert np.array_equal(sorted(df[df['cb:on_border'] > 0]['id'].unique()), sorted(ids_brdr))\n",
    "assert np.array_equal(sorted(df[df['cb:on_border'] < 1]['id'].unique()), sorted(ids_free))\n",
    "\n",
    "for i, r in df.iterrows():\n",
    "    # Fetch tile image from tile list and make sure that size of cell returned\n",
    "    # matches that in image\n",
    "    area = (tiles[r['tile_index']][0, 0, 0] == r['id']).sum()\n",
    "    assert r['cm:size'] == area\n",
    "    \n",
    "    # For each channel validate that:\n",
    "    # - mean and median equal the id times channel index (1-based)\n",
    "    # - sum equals area times id times channel index\n",
    "    # - variance is 0\n",
    "    for j, c in enumerate(config.channel_names):\n",
    "        for f in ['mean', 'median']:\n",
    "            assert r['id'] * (j+1) == r['ci:{}:{}'.format(c, f)]\n",
    "        assert r['id'] * (j+1) * area == r['ci:{}:sum'.format(c)]\n",
    "        assert 0 == r['ci:{}:var'.format(c)]\n",
    "    \n",
    "    "
   ]
  }
 ],
 "metadata": {
  "kernelspec": {
   "display_name": "Python 3",
   "language": "python",
   "name": "python3"
  },
  "language_info": {
   "codemirror_mode": {
    "name": "ipython",
    "version": 3
   },
   "file_extension": ".py",
   "mimetype": "text/x-python",
   "name": "python",
   "nbconvert_exporter": "python",
   "pygments_lexer": "ipython3",
   "version": "3.5.2"
  }
 },
 "nbformat": 4,
 "nbformat_minor": 2
}
