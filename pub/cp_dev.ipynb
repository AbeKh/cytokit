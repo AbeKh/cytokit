{
 "cells": [
  {
   "cell_type": "code",
   "execution_count": 1,
   "metadata": {},
   "outputs": [],
   "source": [
    "import numpy as np\n",
    "import glob\n",
    "import os"
   ]
  },
  {
   "cell_type": "code",
   "execution_count": 2,
   "metadata": {},
   "outputs": [
    {
     "name": "stdout",
     "output_type": "stream",
     "text": [
      "Done\n"
     ]
    }
   ],
   "source": [
    "# This order is necessary\n",
    "import cellprofiler\n",
    "import cellprofiler.preferences\n",
    "cellprofiler.preferences.set_awt_headless(True)\n",
    "cellprofiler.preferences.set_headless()\n",
    "import cellprofiler.modules\n",
    "import cellprofiler.utilities\n",
    "import cellprofiler.utilities.cpjvm\n",
    "cellprofiler.utilities.cpjvm.cp_start_vm()\n",
    "import cellprofiler as cp"
   ]
  },
  {
   "cell_type": "code",
   "execution_count": 3,
   "metadata": {},
   "outputs": [],
   "source": [
    "m = cp.modules.exporttodatabase.ExportToDatabase()"
   ]
  },
  {
   "cell_type": "code",
   "execution_count": 6,
   "metadata": {},
   "outputs": [
    {
     "data": {
      "text/plain": [
       "['Never', 'Data only', 'Data and schema']"
      ]
     },
     "execution_count": 6,
     "metadata": {},
     "output_type": "execute_result"
    }
   ],
   "source": [
    "m.allow_overwrite.choices"
   ]
  },
  {
   "cell_type": "code",
   "execution_count": 15,
   "metadata": {},
   "outputs": [
    {
     "data": {
      "text/plain": [
       "<bound method ExportToDatabase.write_properties_file of <cellprofiler.modules.exporttodatabase.ExportToDatabase object at 0x7fd14c05b4d0>>"
      ]
     },
     "execution_count": 15,
     "metadata": {},
     "output_type": "execute_result"
    }
   ],
   "source": [
    "m.write_properties_file"
   ]
  },
  {
   "cell_type": "code",
   "execution_count": 21,
   "metadata": {},
   "outputs": [],
   "source": [
    "#dir(m)"
   ]
  },
  {
   "cell_type": "code",
   "execution_count": 27,
   "metadata": {},
   "outputs": [
    {
     "data": {
      "text/plain": [
       "'Custom folder with metadata'"
      ]
     },
     "execution_count": 27,
     "metadata": {},
     "output_type": "execute_result"
    }
   ],
   "source": [
    "cp.modules.exporttodatabase.DIR_CUSTOM_WITH_METADATA"
   ]
  },
  {
   "cell_type": "code",
   "execution_count": 28,
   "metadata": {},
   "outputs": [
    {
     "data": {
      "text/plain": [
       "'Elsewhere...'"
      ]
     },
     "execution_count": 28,
     "metadata": {},
     "output_type": "execute_result"
    }
   ],
   "source": [
    "cp.modules.exporttospreadsheet.ABSOLUTE_FOLDER_NAME"
   ]
  },
  {
   "cell_type": "code",
   "execution_count": 30,
   "metadata": {},
   "outputs": [],
   "source": [
    "#??cp.modules.exporttospreadsheet"
   ]
  },
  {
   "cell_type": "code",
   "execution_count": 32,
   "metadata": {},
   "outputs": [
    {
     "data": {
      "text/plain": [
       "'DefaultDB'"
      ]
     },
     "execution_count": 32,
     "metadata": {},
     "output_type": "execute_result"
    }
   ],
   "source": [
    "m.db_name.value"
   ]
  },
  {
   "cell_type": "code",
   "execution_count": 25,
   "metadata": {},
   "outputs": [
    {
     "data": {
      "text/plain": [
       "'Default Output Folder|'"
      ]
     },
     "execution_count": 25,
     "metadata": {},
     "output_type": "execute_result"
    }
   ],
   "source": [
    "m.directory.value = cp.preferences.ABSOLUTE_FOLDER_NAME\n",
    "m.directory.custom_path"
   ]
  },
  {
   "cell_type": "code",
   "execution_count": null,
   "metadata": {},
   "outputs": [],
   "source": [
    "m.experiment_name.value = 'Exp'\n",
    "m.table_prefix.value = 'Exp_'\n",
    "m.save_cpa_properties.value = True\n",
    "m.location_object.value = 'Cell'\n",
    "m.directory.value = cp.preferences.ABSOLUTE_FOLDER_NAME\n",
    "m.directory.custom_path = '/path/to/dir'\n",
    "m.db_type.value = cp.modules.exporttodatabase.DB_SQLITE\n",
    "m.allow_overwrite.value = cp.modules.exporttodatabase.OVERWRITE_ALL"
   ]
  },
  {
   "cell_type": "code",
   "execution_count": 113,
   "metadata": {},
   "outputs": [],
   "source": [
    "# os.environ['JAVA_HOME'] = '/usr/lib/jvm/java-8-openjdk-amd64/jre'\n",
    "#os.getenv('JAVA_HOME')"
   ]
  },
  {
   "cell_type": "code",
   "execution_count": 7,
   "metadata": {},
   "outputs": [],
   "source": [
    "import cellprofiler.pipeline\n",
    "\n",
    "# See headless options at: https://github.com/CellProfiler/CellProfiler/blob/master/cellprofiler/__main__.py"
   ]
  },
  {
   "cell_type": "code",
   "execution_count": 75,
   "metadata": {},
   "outputs": [],
   "source": [
    "pipeline = cellprofiler.pipeline.Pipeline()\n",
    "pipeline.load('/lab/repos/cytokit/image-quantification-v2.cppipe')"
   ]
  },
  {
   "cell_type": "code",
   "execution_count": 76,
   "metadata": {},
   "outputs": [
    {
     "data": {
      "text/plain": [
       "[<cellprofiler.modules.images.Images at 0x7fa9c009c250>,\n",
       " <cellprofiler.modules.metadata.Metadata at 0x7fa9c009cc10>,\n",
       " <cellprofiler.modules.namesandtypes.NamesAndTypes at 0x7fa9c009cb50>,\n",
       " <cellprofiler.modules.groups.Groups at 0x7fa9b67f1390>,\n",
       " <cellprofiler.modules.measureobjectintensity.MeasureObjectIntensity at 0x7fa9c009d5d0>,\n",
       " <cellprofiler.modules.measureobjectneighbors.MeasureObjectNeighbors at 0x7fa9b67f1f50>,\n",
       " <cellprofiler.modules.measuretexture.MeasureTexture at 0x7fa9c00a2910>,\n",
       " <cellprofiler.modules.exporttospreadsheet.ExportToSpreadsheet at 0x7fa9b67fefd0>]"
      ]
     },
     "execution_count": 76,
     "metadata": {},
     "output_type": "execute_result"
    }
   ],
   "source": [
    "pipeline.modules()"
   ]
  },
  {
   "cell_type": "code",
   "execution_count": null,
   "metadata": {},
   "outputs": [],
   "source": [
    "pipeline.run()"
   ]
  },
  {
   "cell_type": "code",
   "execution_count": 7,
   "metadata": {},
   "outputs": [],
   "source": [
    "#m = pipeline.modules()[-1]\n",
    "m = pipeline.modules()[2]"
   ]
  },
  {
   "cell_type": "code",
   "execution_count": 8,
   "metadata": {},
   "outputs": [
    {
     "data": {
      "text/plain": [
       "<cellprofiler.modules.namesandtypes.NamesAndTypes at 0x7fa9ce904310>"
      ]
     },
     "execution_count": 8,
     "metadata": {},
     "output_type": "execute_result"
    }
   ],
   "source": [
    "m"
   ]
  },
  {
   "cell_type": "code",
   "execution_count": 11,
   "metadata": {},
   "outputs": [],
   "source": [
    "sg = m.assignments[1]"
   ]
  },
  {
   "cell_type": "code",
   "execution_count": 19,
   "metadata": {},
   "outputs": [
    {
     "data": {
      "text/plain": [
       "u'and (file does contain \"nucleus_mask\")'"
      ]
     },
     "execution_count": 19,
     "metadata": {},
     "output_type": "execute_result"
    }
   ],
   "source": [
    "sg.rule_filter.value #CONTAINS_PREDICATE.display_name"
   ]
  },
  {
   "cell_type": "code",
   "execution_count": 83,
   "metadata": {},
   "outputs": [],
   "source": [
    "#m = cp.modules.exporttospreadsheet.ExportToSpreadsheet()"
   ]
  },
  {
   "cell_type": "code",
   "execution_count": 128,
   "metadata": {},
   "outputs": [],
   "source": [
    "#m.directory.dir_choice = cp.modules.exporttospreadsheet.ABSOLUTE_FOLDER_NAME # \"Elswhere...\"\n",
    "#m.directory.custom_path "
   ]
  },
  {
   "cell_type": "code",
   "execution_count": 135,
   "metadata": {},
   "outputs": [],
   "source": [
    "def get_module_images():\n",
    "    m = cp.modules.images.Images()\n",
    "    m.filter_choice.value = cellprofiler.modules.images.FILTER_CHOICE_IMAGES\n",
    "    return m\n",
    "\n",
    "def get_module_metadata():\n",
    "    m = cp.modules.metadata.Metadata()\n",
    "    return m\n",
    "\n",
    "def get_module_namesandtypes():\n",
    "    # Resources:\n",
    "    # - https://github.com/CellProfiler/CellProfiler/blob/master/tests/modules/test_namesandtypes.py#L960\n",
    "    m = cp.modules.namesandtypes.NamesAndTypes()\n",
    "    m.assignment_method.value = cp.modules.namesandtypes.ASSIGN_RULES\n",
    "    # \"Image set matching\" -- determines how images from different channels are aligned\n",
    "    # ORDER means that the file paths must sort alphabetically in a way that will align them\n",
    "    m.matching_choice.value = cp.modules.namesandtypes.MATCH_BY_ORDER\n",
    "    m.assignments[0].image_name.value = u'Cell'\n",
    "    m.assignments[0].rule_filter.value = u'file does contain \"cell_mask\"'\n",
    "    m.assignments[0].load_as_choice.value = cp.modules.namesandtypes.LOAD_AS_OBJECTS\n",
    "    m.add_assignment()\n",
    "    m.assignments[1].image_name.value = 'Nucleus'\n",
    "    m.assignments[1].rule_filter.value = 'file does contain \"nucleus_mask\"'\n",
    "    m.assignments[1].load_as_choice.value = cp.modules.namesandtypes.LOAD_AS_OBJECTS\n",
    "    m.add_assignment()\n",
    "    m.assignments[2].image_name.value = 'CD3'\n",
    "    m.assignments[2].rule_filter.value = 'file does contain \"CD3.tif\"'\n",
    "    m.assignments[2].load_as_choice.value = cp.modules.namesandtypes.LOAD_AS_GRAYSCALE_IMAGE\n",
    "    m.add_assignment()\n",
    "    m.assignments[3].image_name.value = 'CD8a'\n",
    "    m.assignments[3].rule_filter.value = 'file does contain \"CD8a.tif\"'\n",
    "    m.assignments[3].load_as_choice.value = cp.modules.namesandtypes.LOAD_AS_GRAYSCALE_IMAGE\n",
    "    return m\n",
    "\n",
    "def get_module_measureobjectsizeshape():\n",
    "    m = cp.modules.measureobjectsizeshape.MeasureObjectSizeShape()\n",
    "    m.object_groups[0].name.value = 'Cell'\n",
    "    m.add_object()\n",
    "    m.object_groups[1].name.value = 'Nucleus'\n",
    "    return m\n",
    "\n",
    "def get_module_exporttospreadsheet(output_dir):\n",
    "    m = cp.modules.exporttospreadsheet.ExportToSpreadsheet()\n",
    "    m.directory.dir_choice = cp.modules.exporttospreadsheet.ABSOLUTE_FOLDER_NAME # \"Elswhere...\"\n",
    "    m.directory.custom_path = output_dir\n",
    "    m.prefix.set_is_yes(True)\n",
    "    m.prefix.value = 'cpexport_'\n",
    "    m.delimiter.value = cp.modules.exporttospreadsheet.DELIMITER_TAB\n",
    "    m.add_metadata.value = True\n",
    "    m.wants_overwrite_without_warning.value = True\n",
    "    return m\n",
    "\n",
    "def get_pipeline():\n",
    "    pipeline = cp.pipeline.Pipeline()\n",
    "    \n",
    "    m = get_module_images()\n",
    "    m.module_num = 1\n",
    "    pipeline.add_module(m)\n",
    "    \n",
    "    m = get_module_metadata()\n",
    "    m.module_num = 2\n",
    "    pipeline.add_module(m)\n",
    "    \n",
    "    m = get_module_namesandtypes()\n",
    "    m.module_num = 3\n",
    "    pipeline.add_module(m)\n",
    "    \n",
    "    m = get_module_measureobjectsizeshape()\n",
    "    m.module_num = 4\n",
    "    pipeline.add_module(m)\n",
    "    \n",
    "    m = get_module_exporttospreadsheet('/lab/data/tmp/tile_y00_x00/export')\n",
    "    m.module_num = 5\n",
    "    pipeline.add_module(m)\n",
    "    \n",
    "    return pipeline"
   ]
  },
  {
   "cell_type": "code",
   "execution_count": 136,
   "metadata": {},
   "outputs": [],
   "source": [
    "pl = get_pipeline()"
   ]
  },
  {
   "cell_type": "code",
   "execution_count": 137,
   "metadata": {},
   "outputs": [],
   "source": [
    "#p.add_pathnames_to_file_list(['/lab/data/tmp/tile_y00_x00'])"
   ]
  },
  {
   "cell_type": "code",
   "execution_count": 138,
   "metadata": {},
   "outputs": [
    {
     "data": {
      "text/plain": [
       "['/lab/data/tmp/tile_y00_x00/object_cell_mask.tif',\n",
       " '/lab/data/tmp/tile_y00_x00/object_nucleus_mask.tif',\n",
       " '/lab/data/tmp/tile_y00_x00/expression_CD3.tif',\n",
       " '/lab/data/tmp/tile_y00_x00/expression_CD8a.tif']"
      ]
     },
     "execution_count": 138,
     "metadata": {},
     "output_type": "execute_result"
    }
   ],
   "source": [
    "paths = [\n",
    "    '/lab/data/tmp/tile_y00_x00/object_cell_mask.tif',\n",
    "    '/lab/data/tmp/tile_y00_x00/object_nucleus_mask.tif',\n",
    "    '/lab/data/tmp/tile_y00_x00/expression_CD3.tif',\n",
    "    '/lab/data/tmp/tile_y00_x00/expression_CD8a.tif'\n",
    "]\n",
    "paths"
   ]
  },
  {
   "cell_type": "code",
   "execution_count": 77,
   "metadata": {},
   "outputs": [
    {
     "data": {
      "text/plain": [
       "[<cellprofiler.modules.images.Images at 0x7fa9c009c250>,\n",
       " <cellprofiler.modules.metadata.Metadata at 0x7fa9c009cc10>,\n",
       " <cellprofiler.modules.namesandtypes.NamesAndTypes at 0x7fa9c009cb50>,\n",
       " <cellprofiler.modules.groups.Groups at 0x7fa9b67f1390>,\n",
       " <cellprofiler.modules.measureobjectintensity.MeasureObjectIntensity at 0x7fa9c009d5d0>,\n",
       " <cellprofiler.modules.measureobjectneighbors.MeasureObjectNeighbors at 0x7fa9b67f1f50>,\n",
       " <cellprofiler.modules.measuretexture.MeasureTexture at 0x7fa9c00a2910>,\n",
       " <cellprofiler.modules.exporttospreadsheet.ExportToSpreadsheet at 0x7fa9b67fefd0>]"
      ]
     },
     "execution_count": 77,
     "metadata": {},
     "output_type": "execute_result"
    }
   ],
   "source": [
    "pipeline.modules()"
   ]
  },
  {
   "cell_type": "code",
   "execution_count": 95,
   "metadata": {},
   "outputs": [],
   "source": [
    "m = pipeline.modules()[2]\n",
    "sg = m.assignments[0]"
   ]
  },
  {
   "cell_type": "code",
   "execution_count": 96,
   "metadata": {},
   "outputs": [
    {
     "data": {
      "text/plain": [
       "(u'Cell', u'Cell')"
      ]
     },
     "execution_count": 96,
     "metadata": {},
     "output_type": "execute_result"
    }
   ],
   "source": [
    "sg.object_name.value, sg.image_name.value"
   ]
  },
  {
   "cell_type": "code",
   "execution_count": 92,
   "metadata": {},
   "outputs": [],
   "source": [
    "sg = m.assignments[2]"
   ]
  },
  {
   "cell_type": "code",
   "execution_count": 94,
   "metadata": {},
   "outputs": [
    {
     "data": {
      "text/plain": [
       "(u'Cytoplasm', u'CD3')"
      ]
     },
     "execution_count": 94,
     "metadata": {},
     "output_type": "execute_result"
    }
   ],
   "source": [
    "sg.object_name.value, sg.image_name.value"
   ]
  },
  {
   "cell_type": "code",
   "execution_count": 139,
   "metadata": {},
   "outputs": [],
   "source": [
    "pl.add_urls(['file://' + p for p in paths])"
   ]
  },
  {
   "cell_type": "code",
   "execution_count": 140,
   "metadata": {},
   "outputs": [
    {
     "data": {
      "text/plain": [
       "['file:///lab/data/tmp/tile_y00_x00/expression_CD3.tif',\n",
       " 'file:///lab/data/tmp/tile_y00_x00/expression_CD8a.tif',\n",
       " 'file:///lab/data/tmp/tile_y00_x00/object_cell_mask.tif',\n",
       " 'file:///lab/data/tmp/tile_y00_x00/object_nucleus_mask.tif']"
      ]
     },
     "execution_count": 140,
     "metadata": {},
     "output_type": "execute_result"
    }
   ],
   "source": [
    "pl.file_list"
   ]
  },
  {
   "cell_type": "code",
   "execution_count": 141,
   "metadata": {},
   "outputs": [],
   "source": [
    "measurements = cp.measurement.Measurements()\n",
    "workspace = cp.workspace.Workspace(pl, m, None, None, measurements, None)\n",
    "file_list = pl.get_filtered_file_list(workspace)"
   ]
  },
  {
   "cell_type": "code",
   "execution_count": 142,
   "metadata": {},
   "outputs": [
    {
     "data": {
      "text/plain": [
       "['file:///lab/data/tmp/tile_y00_x00/expression_CD3.tif',\n",
       " 'file:///lab/data/tmp/tile_y00_x00/expression_CD8a.tif',\n",
       " 'file:///lab/data/tmp/tile_y00_x00/object_cell_mask.tif',\n",
       " 'file:///lab/data/tmp/tile_y00_x00/object_nucleus_mask.tif']"
      ]
     },
     "execution_count": 142,
     "metadata": {},
     "output_type": "execute_result"
    }
   ],
   "source": [
    "file_list"
   ]
  },
  {
   "cell_type": "code",
   "execution_count": 143,
   "metadata": {},
   "outputs": [],
   "source": [
    "measurements = pl.run()"
   ]
  },
  {
   "cell_type": "code",
   "execution_count": 144,
   "metadata": {},
   "outputs": [
    {
     "data": {
      "text/plain": [
       "['CD3', 'CD8a']"
      ]
     },
     "execution_count": 144,
     "metadata": {},
     "output_type": "execute_result"
    }
   ],
   "source": [
    "measurements.names"
   ]
  },
  {
   "cell_type": "code",
   "execution_count": 145,
   "metadata": {},
   "outputs": [
    {
     "data": {
      "text/plain": [
       "[u'Cell', u'Experiment', u'Image', u'Nucleus']"
      ]
     },
     "execution_count": 145,
     "metadata": {},
     "output_type": "execute_result"
    }
   ],
   "source": [
    "measurements.object_names"
   ]
  },
  {
   "cell_type": "code",
   "execution_count": 82,
   "metadata": {},
   "outputs": [
    {
     "data": {
      "text/plain": [
       "array([ 477,  566, 2503, 1545, 1331,  910,  366, 1424,  338,  425,  815,\n",
       "       1042,  867,  688, 1258,  372,  221, 1510, 2411, 1922, 3084, 1457,\n",
       "       2308,  410, 1501, 2172, 2042, 1326, 1746, 1467, 2233, 1602,  889,\n",
       "       1114,  529, 2780,  802, 2011, 1424,  733, 1622, 2013, 1390, 2120,\n",
       "        738, 1973, 1766,  605, 2140, 1219, 1266, 2179, 1028,  697, 1164,\n",
       "       1006,  538, 1739,  709,  511,  662,  480, 1733, 1258, 1539, 1441,\n",
       "       1385, 1696, 1670, 1897,  952, 1534, 1442, 1310, 1255, 1269, 1609,\n",
       "        834, 1390, 1220,  867,  930, 1862,  275, 1010,  785,  483,  545,\n",
       "       2438, 1479, 1277, 1067, 1446, 1698,  254,  892, 2083, 1470, 1184,\n",
       "       1385, 1051, 1617, 1264, 1157, 1670, 1248, 1489, 1854, 1188,  574,\n",
       "        841, 1584, 2140, 2043, 1166,  279, 1440,  927, 2112, 1707, 2155,\n",
       "       1319, 1327,  527, 1407, 2758,  665, 1208, 1245, 1326,  880,  542,\n",
       "       1118,  863, 1426, 1300, 1837,  626,  335, 1282, 1888,  689,  409,\n",
       "       1536,  456,  477, 1464, 1204,  482, 2297,  530, 1010, 1051,  532,\n",
       "       1151, 1101, 1098, 1686, 1038,  474, 1218, 1368, 1891,  500, 1385,\n",
       "       1461,  542,  382, 1518,  867, 1166, 2125, 1235,  921, 1513, 1431,\n",
       "        959,  918, 1242,  601, 1847, 2126,  478,  755,  649,  570,  952,\n",
       "       1412, 1892,  464,  791, 1060, 1822,  741,  538,  493, 1129, 1186,\n",
       "        920, 1565,  593,  784, 1129, 1683,  310,  556,  362,  946, 1075,\n",
       "       1754, 1690, 1329, 1608, 1463,  602,  735, 2770,  898, 1569,  477,\n",
       "        720,  450, 1208, 1032,  813, 1935, 1299,  614, 1365, 1081, 1242,\n",
       "       1491,  967, 2239, 1373,  467, 1161, 3083,  714,  911, 1441,  379,\n",
       "       1005, 1128, 1319, 1906, 1511, 1013,  997, 1319,  995, 1163, 1587,\n",
       "       1814, 2180, 1988, 1968, 1200, 1104, 1791,  324,  628, 1054, 2083,\n",
       "       1091, 1078,  963,  966,  696,  421,  672, 1030, 1434, 1975,  594,\n",
       "       1837, 1145, 1209, 1342, 1238, 1123, 1479, 1566,  655, 1375,  534,\n",
       "       1070,  898, 1347, 1290, 2578, 1289,  455, 1010, 1509, 1456, 1445,\n",
       "        427, 1415, 1050, 1855,  712,  955,  374,  888, 1196,  607, 1513,\n",
       "       1247, 1210, 2016, 1758,  478, 1300, 1216, 1173, 1100,  609, 1210,\n",
       "       1628,  973, 1574,  610,  894,  467, 1460,  542,  726,  837,  987,\n",
       "       1790, 1253, 1214,  517, 1149, 1057, 2671, 1216, 1472,  405, 1231,\n",
       "        697, 1168, 1627,  874, 1724,  818, 1003,  994, 1177, 1102, 1590,\n",
       "       2453,  804,  711, 1144, 1882, 1073, 1644,  670,  607, 1689, 2257,\n",
       "        996, 1516, 1183, 1418, 1909, 1018,  948, 1189,  481,  907, 2340,\n",
       "       1638,  801, 1332, 1193, 1070, 1240, 3737, 1959, 1512, 1210, 1147,\n",
       "        510, 1541,  459,  360,  836,  603, 1043,  850, 1009, 1801, 1998,\n",
       "       1445, 1308, 1337, 2022, 1723,  741, 1038, 1140,  801,  398, 1303,\n",
       "       1106, 1395,  867,  738, 1041, 1004,  695,  540,  932,  697, 1333,\n",
       "       1313, 1023, 1023, 1118,  250, 1196,  566, 1123, 1114, 1239,  499,\n",
       "        683,  672, 1188, 1232,  466, 1005,  438,  853, 1546,  631, 1015,\n",
       "       1387, 1740,  950, 1356,  445, 1030, 1240,  324,  895, 1178,  618,\n",
       "       1386, 1080, 1848, 1474,  953,  998,  828,  860, 1684,  766, 1202,\n",
       "       1481,  568, 1289, 1763, 1497, 1298, 1466, 1091,  683,  603, 1221,\n",
       "        843,  699, 1045,  486, 1368,  762,  342, 1617,  423, 1274, 2627,\n",
       "        303, 1021,  363,  519, 1245, 1028, 1001,  557, 1313, 1084, 1078,\n",
       "       2567, 1082,  528,  504, 1162,  973, 1017, 1464, 1127, 1139,  863,\n",
       "       1599, 1394, 1382, 1801, 1113, 1174, 1387, 1399, 2105,  995,  812,\n",
       "       1370, 2195,  768,  826, 2564, 1004, 1148, 1272, 1338, 1206, 1749,\n",
       "        493, 1258, 1094, 1185, 2483, 1228,  427, 1069, 1342, 1654, 1328,\n",
       "        385, 1337, 1466,  738,  923, 1657, 1097, 1517,  517, 1227, 1864,\n",
       "       1771, 1037, 1111, 1477, 1371,  371, 1422, 1135,  608, 2451,  572,\n",
       "       1871, 1994, 1498, 1524, 1458,  669,  630, 1540,  202,  688,  705,\n",
       "       2319,  943, 2343,  711, 1006, 1425, 1232,  827, 1077, 1267,  584,\n",
       "       1476,  861, 1118,  741,  746,  971, 1070, 2306, 1462, 1118, 1369,\n",
       "       1581,  453, 1455, 1342,  226, 1090, 2106, 1746, 1197, 1143, 1445,\n",
       "       1513,  699, 1420, 1235, 1183,  911, 1889,  844, 1204,  130, 1052,\n",
       "        433, 1289,  910,  962,  851,  611,  348,  828, 1012, 1753, 1067,\n",
       "       1436,  910,  957, 1868,  971, 1374, 1789,  837, 1733,  486, 1562,\n",
       "        869,  591, 1238,  358, 1116,  493,  665,  949, 1069, 1212, 1084,\n",
       "       1121, 1832, 1424, 2183,  910, 2083,  612, 1422,  930, 1568,  771,\n",
       "       1277,  728,  956,  864,  898, 1304, 1455,  971,  720,  726, 1124,\n",
       "        943, 1298,  824, 1015, 1544,  868, 1311,  608,  646,  489, 1184,\n",
       "       1149, 1236,  513,  494,  907,  855,  627, 1333, 1637, 1967,  203,\n",
       "       1391, 1326, 2849,  985,  968,  807,  516, 1364, 1395, 1223,  465,\n",
       "       1129,  892, 1642, 1670, 1936, 1405, 1019, 1053, 1136, 1472, 1268,\n",
       "       1076, 1382,  473, 1265, 1014,  511,  940,  855, 1086,  782, 1592,\n",
       "       1347, 1034, 1225,  761, 1082, 1292, 1349,  998, 1212, 1352, 1096,\n",
       "       2026, 1520,  790,  790, 2008,  855, 1779,  765, 1276, 1742, 1119,\n",
       "       1609, 1118, 1047, 2248, 1322, 2935, 1056,  431, 1021,  283, 2598,\n",
       "        449,  182, 2072,  376,  484, 1353,  448,  682,  546,  409, 1163,\n",
       "       1734, 2317, 2527,  858, 1406, 1176, 1054, 1109,  897, 1396, 1283,\n",
       "        582, 1377,  852,  669, 1436,  998, 1628,  257, 1117,  747, 1123,\n",
       "       2079,  977,  387,  625,  948,  440, 1228,  914,  975, 2774,  310,\n",
       "       2134, 1858,  858,  353,  955, 1282, 1107,  543, 1908,  611,  722,\n",
       "        938,  597, 1048, 2175, 1544, 2238, 2211, 1231, 1121, 2960, 1144,\n",
       "       2000, 1215, 1184, 1228,  749, 1734, 1308, 1519, 2809,  328,  859,\n",
       "        312,  553,  993,  545, 1393, 1116,  985,  929, 1517, 1260,  926,\n",
       "        490, 1390,  720, 1287,  889, 2037, 2030,  751,  921,  373, 1572,\n",
       "       1514,  702,  358,  910, 1259, 1604,  507,  896,  851, 2124,  957,\n",
       "        494, 2597, 1524,  868, 1478, 1050,  646, 1514, 1166,  240,  486,\n",
       "       3191, 1074, 2938, 2066,  956,  980, 1009, 1364,  705, 1206, 1599,\n",
       "        353, 1082, 1294, 1241,  723, 1252, 1329, 2129,  892,  888, 1150,\n",
       "        819,  635, 1043,  971, 1552, 1186, 1308, 1577,  389,  757, 1235,\n",
       "        710,  587, 1752, 1427, 1037, 1045,  341, 1462, 1363,  754, 1733,\n",
       "        873, 1232,  574, 1175,  265, 1259, 1113, 1200, 1235,  173, 1610,\n",
       "        946, 2391,  713,  294, 1002,  677,  993, 1311, 1645,  961, 1331,\n",
       "        702,  644, 1196, 1822, 1891, 1171,  711,  523, 1291, 1036,  731,\n",
       "        697,  952,  989, 1162, 1659,  562, 1136,  409, 1543,  716, 1077,\n",
       "        990,  584,  886,  990,  675,  490, 1028,  954,  665,  401,  738,\n",
       "        688,  564,  533,  757,  614,  542,  313,  368,  489,  456,  450,\n",
       "        372,  468,  456,  489,  542,  309,  179,  551,  275,  270])"
      ]
     },
     "execution_count": 82,
     "metadata": {},
     "output_type": "execute_result"
    }
   ],
   "source": [
    "measurements.get_measurement(u'Cell', u'AreaShape_Area')"
   ]
  },
  {
   "cell_type": "code",
   "execution_count": 81,
   "metadata": {},
   "outputs": [
    {
     "name": "stderr",
     "output_type": "stream",
     "text": [
      "/lab/repos/CellProfiler/cellprofiler/measurement.py:1016: FutureWarning: Conversion of the second argument of issubdtype from `float` to `np.floating` is deprecated. In future, it will be treated as `np.float64 == np.dtype(float).type`.\n",
      "  elif np.issubdtype(dtype, float):\n"
     ]
    },
    {
     "data": {
      "text/plain": [
       "[(u'Cell', u'AreaShape_Area', 'integer'),\n",
       " (u'Cell', u'AreaShape_Center_X', 'float'),\n",
       " (u'Cell', u'AreaShape_Center_Y', 'float'),\n",
       " (u'Cell', u'AreaShape_Center_Z', 'float'),\n",
       " (u'Cell', u'AreaShape_Compactness', 'float'),\n",
       " (u'Cell', u'AreaShape_Eccentricity', 'float'),\n",
       " (u'Cell', u'AreaShape_EulerNumber', 'float'),\n",
       " (u'Cell', u'AreaShape_Extent', 'float'),\n",
       " (u'Cell', u'AreaShape_FormFactor', 'float'),\n",
       " (u'Cell', u'AreaShape_MajorAxisLength', 'float'),\n",
       " (u'Cell', u'AreaShape_MaxFeretDiameter', 'float'),\n",
       " (u'Cell', u'AreaShape_MaximumRadius', 'float'),\n",
       " (u'Cell', u'AreaShape_MeanRadius', 'float'),\n",
       " (u'Cell', u'AreaShape_MedianRadius', 'float'),\n",
       " (u'Cell', u'AreaShape_MinFeretDiameter', 'float'),\n",
       " (u'Cell', u'AreaShape_MinorAxisLength', 'float'),\n",
       " (u'Cell', u'AreaShape_Orientation', 'float'),\n",
       " (u'Cell', u'AreaShape_Perimeter', 'float'),\n",
       " (u'Cell', u'AreaShape_Solidity', 'float'),\n",
       " (u'Cell', u'AreaShape_Zernike_0_0', 'float'),\n",
       " (u'Cell', u'AreaShape_Zernike_1_1', 'float'),\n",
       " (u'Cell', u'AreaShape_Zernike_2_0', 'float'),\n",
       " (u'Cell', u'AreaShape_Zernike_2_2', 'float'),\n",
       " (u'Cell', u'AreaShape_Zernike_3_1', 'float'),\n",
       " (u'Cell', u'AreaShape_Zernike_3_3', 'float'),\n",
       " (u'Cell', u'AreaShape_Zernike_4_0', 'float'),\n",
       " (u'Cell', u'AreaShape_Zernike_4_2', 'float'),\n",
       " (u'Cell', u'AreaShape_Zernike_4_4', 'float'),\n",
       " (u'Cell', u'AreaShape_Zernike_5_1', 'float'),\n",
       " (u'Cell', u'AreaShape_Zernike_5_3', 'float'),\n",
       " (u'Cell', u'AreaShape_Zernike_5_5', 'float'),\n",
       " (u'Cell', u'AreaShape_Zernike_6_0', 'float'),\n",
       " (u'Cell', u'AreaShape_Zernike_6_2', 'float'),\n",
       " (u'Cell', u'AreaShape_Zernike_6_4', 'float'),\n",
       " (u'Cell', u'AreaShape_Zernike_6_6', 'float'),\n",
       " (u'Cell', u'AreaShape_Zernike_7_1', 'float'),\n",
       " (u'Cell', u'AreaShape_Zernike_7_3', 'float'),\n",
       " (u'Cell', u'AreaShape_Zernike_7_5', 'float'),\n",
       " (u'Cell', u'AreaShape_Zernike_7_7', 'float'),\n",
       " (u'Cell', u'AreaShape_Zernike_8_0', 'float'),\n",
       " (u'Cell', u'AreaShape_Zernike_8_2', 'float'),\n",
       " (u'Cell', u'AreaShape_Zernike_8_4', 'float'),\n",
       " (u'Cell', u'AreaShape_Zernike_8_6', 'float'),\n",
       " (u'Cell', u'AreaShape_Zernike_8_8', 'float'),\n",
       " (u'Cell', u'AreaShape_Zernike_9_1', 'float'),\n",
       " (u'Cell', u'AreaShape_Zernike_9_3', 'float'),\n",
       " (u'Cell', u'AreaShape_Zernike_9_5', 'float'),\n",
       " (u'Cell', u'AreaShape_Zernike_9_7', 'float'),\n",
       " (u'Cell', u'AreaShape_Zernike_9_9', 'float'),\n",
       " (u'Cell', u'Location_Center_X', 'float'),\n",
       " (u'Cell', u'Location_Center_Y', 'float'),\n",
       " (u'Cell', u'Number_Object_Number', 'integer'),\n",
       " (u'Experiment', u'CellProfiler_Version', 'varchar'),\n",
       " (u'Experiment', u'ChannelType_CD3', 'varchar'),\n",
       " (u'Experiment', u'ChannelType_CD8a', 'varchar'),\n",
       " (u'Experiment', u'ChannelType_Cell', 'varchar'),\n",
       " (u'Experiment', u'ChannelType_Nucleus', 'varchar'),\n",
       " (u'Experiment', u'Exit_Status', 'varchar'),\n",
       " (u'Experiment', u'ImageSet_Zip_Dictionary', 'integer'),\n",
       " (u'Experiment', u'Metadata_Tags', 'varchar'),\n",
       " (u'Experiment', u'Modification_Timestamp', 'varchar'),\n",
       " (u'Experiment', u'Pipeline_Pipeline', 'varchar'),\n",
       " (u'Experiment', u'Run_Timestamp', 'varchar'),\n",
       " (u'Image', u'Channel_CD3', 'integer'),\n",
       " (u'Image', u'Channel_CD8a', 'integer'),\n",
       " (u'Image', u'Count_Cell', 'float'),\n",
       " (u'Image', u'Count_Nucleus', 'float'),\n",
       " (u'Image', u'ExecutionTime_01Images', 'integer'),\n",
       " (u'Image', u'ExecutionTime_02Metadata', 'integer'),\n",
       " (u'Image', u'ExecutionTime_03NamesAndTypes', 'float'),\n",
       " (u'Image', u'ExecutionTime_04MeasureObjectSizeShape', 'float'),\n",
       " (u'Image', u'FileName_CD3', 'varchar'),\n",
       " (u'Image', u'FileName_CD8a', 'varchar'),\n",
       " (u'Image', u'Frame_CD3', 'integer'),\n",
       " (u'Image', u'Frame_CD8a', 'integer'),\n",
       " (u'Image', u'Group_Index', 'integer'),\n",
       " (u'Image', u'Group_Number', 'integer'),\n",
       " (u'Image', u'Height_CD3', 'integer'),\n",
       " (u'Image', u'Height_CD8a', 'integer'),\n",
       " (u'Image', u'Height_Cell', 'integer'),\n",
       " (u'Image', u'Height_Nucleus', 'integer'),\n",
       " (u'Image', u'ImageSet_ImageSet', 'integer'),\n",
       " (u'Image', u'MD5Digest_CD3', 'varchar'),\n",
       " (u'Image', u'MD5Digest_CD8a', 'varchar'),\n",
       " (u'Image', u'MD5Digest_Cell', 'varchar'),\n",
       " (u'Image', u'MD5Digest_Nucleus', 'varchar'),\n",
       " (u'Image', u'Metadata_Frame', 'varchar'),\n",
       " (u'Image', u'Metadata_Series', 'varchar'),\n",
       " (u'Image', u'ModuleError_01Images', 'integer'),\n",
       " (u'Image', u'ModuleError_02Metadata', 'integer'),\n",
       " (u'Image', u'ModuleError_03NamesAndTypes', 'integer'),\n",
       " (u'Image', u'ModuleError_04MeasureObjectSizeShape', 'integer'),\n",
       " (u'Image', u'ObjectsChannel_Cell', 'integer'),\n",
       " (u'Image', u'ObjectsChannel_Nucleus', 'integer'),\n",
       " (u'Image', u'ObjectsFileName_Cell', 'varchar'),\n",
       " (u'Image', u'ObjectsFileName_Nucleus', 'varchar'),\n",
       " (u'Image', u'ObjectsFrame_Cell', 'integer'),\n",
       " (u'Image', u'ObjectsFrame_Nucleus', 'integer'),\n",
       " (u'Image', u'ObjectsPathName_Cell', 'varchar'),\n",
       " (u'Image', u'ObjectsPathName_Nucleus', 'varchar'),\n",
       " (u'Image', u'ObjectsSeries_Cell', 'integer'),\n",
       " (u'Image', u'ObjectsSeries_Nucleus', 'integer'),\n",
       " (u'Image', u'ObjectsURL_Cell', 'varchar'),\n",
       " (u'Image', u'ObjectsURL_Nucleus', 'varchar'),\n",
       " (u'Image', u'PathName_CD3', 'varchar'),\n",
       " (u'Image', u'PathName_CD8a', 'varchar'),\n",
       " (u'Image', u'Scaling_CD3', 'integer'),\n",
       " (u'Image', u'Scaling_CD8a', 'integer'),\n",
       " (u'Image', u'Series_CD3', 'integer'),\n",
       " (u'Image', u'Series_CD8a', 'integer'),\n",
       " (u'Image', u'URL_CD3', 'varchar'),\n",
       " (u'Image', u'URL_CD8a', 'varchar'),\n",
       " (u'Image', u'Width_CD3', 'integer'),\n",
       " (u'Image', u'Width_CD8a', 'integer'),\n",
       " (u'Image', u'Width_Cell', 'integer'),\n",
       " (u'Image', u'Width_Nucleus', 'integer'),\n",
       " (u'Nucleus', u'AreaShape_Area', 'integer'),\n",
       " (u'Nucleus', u'AreaShape_Center_X', 'float'),\n",
       " (u'Nucleus', u'AreaShape_Center_Y', 'float'),\n",
       " (u'Nucleus', u'AreaShape_Center_Z', 'float'),\n",
       " (u'Nucleus', u'AreaShape_Compactness', 'float'),\n",
       " (u'Nucleus', u'AreaShape_Eccentricity', 'float'),\n",
       " (u'Nucleus', u'AreaShape_EulerNumber', 'float'),\n",
       " (u'Nucleus', u'AreaShape_Extent', 'float'),\n",
       " (u'Nucleus', u'AreaShape_FormFactor', 'float'),\n",
       " (u'Nucleus', u'AreaShape_MajorAxisLength', 'float'),\n",
       " (u'Nucleus', u'AreaShape_MaxFeretDiameter', 'float'),\n",
       " (u'Nucleus', u'AreaShape_MaximumRadius', 'float'),\n",
       " (u'Nucleus', u'AreaShape_MeanRadius', 'float'),\n",
       " (u'Nucleus', u'AreaShape_MedianRadius', 'float'),\n",
       " (u'Nucleus', u'AreaShape_MinFeretDiameter', 'float'),\n",
       " (u'Nucleus', u'AreaShape_MinorAxisLength', 'float'),\n",
       " (u'Nucleus', u'AreaShape_Orientation', 'float'),\n",
       " (u'Nucleus', u'AreaShape_Perimeter', 'float'),\n",
       " (u'Nucleus', u'AreaShape_Solidity', 'float'),\n",
       " (u'Nucleus', u'AreaShape_Zernike_0_0', 'float'),\n",
       " (u'Nucleus', u'AreaShape_Zernike_1_1', 'float'),\n",
       " (u'Nucleus', u'AreaShape_Zernike_2_0', 'float'),\n",
       " (u'Nucleus', u'AreaShape_Zernike_2_2', 'float'),\n",
       " (u'Nucleus', u'AreaShape_Zernike_3_1', 'float'),\n",
       " (u'Nucleus', u'AreaShape_Zernike_3_3', 'float'),\n",
       " (u'Nucleus', u'AreaShape_Zernike_4_0', 'float'),\n",
       " (u'Nucleus', u'AreaShape_Zernike_4_2', 'float'),\n",
       " (u'Nucleus', u'AreaShape_Zernike_4_4', 'float'),\n",
       " (u'Nucleus', u'AreaShape_Zernike_5_1', 'float'),\n",
       " (u'Nucleus', u'AreaShape_Zernike_5_3', 'float'),\n",
       " (u'Nucleus', u'AreaShape_Zernike_5_5', 'float'),\n",
       " (u'Nucleus', u'AreaShape_Zernike_6_0', 'float'),\n",
       " (u'Nucleus', u'AreaShape_Zernike_6_2', 'float'),\n",
       " (u'Nucleus', u'AreaShape_Zernike_6_4', 'float'),\n",
       " (u'Nucleus', u'AreaShape_Zernike_6_6', 'float'),\n",
       " (u'Nucleus', u'AreaShape_Zernike_7_1', 'float'),\n",
       " (u'Nucleus', u'AreaShape_Zernike_7_3', 'float'),\n",
       " (u'Nucleus', u'AreaShape_Zernike_7_5', 'float'),\n",
       " (u'Nucleus', u'AreaShape_Zernike_7_7', 'float'),\n",
       " (u'Nucleus', u'AreaShape_Zernike_8_0', 'float'),\n",
       " (u'Nucleus', u'AreaShape_Zernike_8_2', 'float'),\n",
       " (u'Nucleus', u'AreaShape_Zernike_8_4', 'float'),\n",
       " (u'Nucleus', u'AreaShape_Zernike_8_6', 'float'),\n",
       " (u'Nucleus', u'AreaShape_Zernike_8_8', 'float'),\n",
       " (u'Nucleus', u'AreaShape_Zernike_9_1', 'float'),\n",
       " (u'Nucleus', u'AreaShape_Zernike_9_3', 'float'),\n",
       " (u'Nucleus', u'AreaShape_Zernike_9_5', 'float'),\n",
       " (u'Nucleus', u'AreaShape_Zernike_9_7', 'float'),\n",
       " (u'Nucleus', u'AreaShape_Zernike_9_9', 'float'),\n",
       " (u'Nucleus', u'Location_Center_X', 'float'),\n",
       " (u'Nucleus', u'Location_Center_Y', 'float'),\n",
       " (u'Nucleus', u'Number_Object_Number', 'integer')]"
      ]
     },
     "execution_count": 81,
     "metadata": {},
     "output_type": "execute_result"
    }
   ],
   "source": [
    "#measurements.get_measurement_columns()"
   ]
  },
  {
   "cell_type": "code",
   "execution_count": 6,
   "metadata": {},
   "outputs": [],
   "source": [
    "image_pixel_data = np.array([\n",
    "    [0, 0, 0, 0, 0, 0, 0],\n",
    "    [0, 2, 2, 1, 1, 0, 0],\n",
    "    [0, 2, 2, 1, 1, 0, 0],\n",
    "    [0, 2, 2, 1, 1, 0, 0],\n",
    "    [0, 0, 0, 0, 0, 0, 0]], dtype=np.uint8)\n",
    "image_obj_data = np.array([\n",
    "    [0, 0, 0, 0, 0, 0, 0],\n",
    "    [0, 0, 2, 1, 1, 0, 0],\n",
    "    [0, 2, 2, 1, 1, 0, 0],\n",
    "    [0, 0, 2, 1, 1, 0, 0],\n",
    "    [0, 0, 0, 0, 0, 0, 0]], int)"
   ]
  },
  {
   "cell_type": "code",
   "execution_count": 7,
   "metadata": {},
   "outputs": [],
   "source": [
    "IMAGE_NAME = 'TestImage'\n",
    "OBJECT_NAME = 'TestObjects'\n",
    "image = cellprofiler.image.Image(image_pixel_data, convert=False)\n",
    "#image.pixel_data = image_pixel_data\n",
    "image_set_list = cellprofiler.image.ImageSetList()\n",
    "image_set = image_set_list.get_image_set(0)\n",
    "image_set.add(IMAGE_NAME, image)\n",
    "\n",
    "object_set = cellprofiler.object.ObjectSet()\n",
    "objects = cellprofiler.object.Objects()\n",
    "objects.segmented = image_obj_data\n",
    "object_set.add_objects(objects, OBJECT_NAME)\n",
    "\n",
    "module = cellprofiler.modules.measureobjectintensity.MeasureObjectIntensity()\n",
    "module.images[0].name.value = IMAGE_NAME\n",
    "module.objects[0].name.value = OBJECT_NAME\n",
    "\n",
    "measurements = cellprofiler.measurement.Measurements()\n",
    "\n",
    "ws = cellprofiler.workspace.Workspace(\n",
    "    cellprofiler.pipeline.Pipeline(),\n",
    "    module,\n",
    "    image_set,\n",
    "    object_set,\n",
    "    measurements,\n",
    "    image_set_list\n",
    ")"
   ]
  },
  {
   "cell_type": "code",
   "execution_count": 62,
   "metadata": {},
   "outputs": [],
   "source": [
    "ws.file_list.add_files_to_filelist(['file:///tmp/testfile.tif'])"
   ]
  },
  {
   "cell_type": "code",
   "execution_count": 64,
   "metadata": {},
   "outputs": [
    {
     "data": {
      "text/plain": [
       "[u'file:///tmp/testfile.tif']"
      ]
     },
     "execution_count": 64,
     "metadata": {},
     "output_type": "execute_result"
    }
   ],
   "source": [
    "ws.file_list.get_filelist()"
   ]
  },
  {
   "cell_type": "code",
   "execution_count": 8,
   "metadata": {},
   "outputs": [
    {
     "data": {
      "text/plain": [
       "array([[0, 0, 0, 0, 0, 0, 0],\n",
       "       [0, 2, 2, 1, 1, 0, 0],\n",
       "       [0, 2, 2, 1, 1, 0, 0],\n",
       "       [0, 2, 2, 1, 1, 0, 0],\n",
       "       [0, 0, 0, 0, 0, 0, 0]], dtype=uint8)"
      ]
     },
     "execution_count": 8,
     "metadata": {},
     "output_type": "execute_result"
    }
   ],
   "source": [
    "image.pixel_data"
   ]
  },
  {
   "cell_type": "code",
   "execution_count": 9,
   "metadata": {},
   "outputs": [
    {
     "name": "stderr",
     "output_type": "stream",
     "text": [
      "/lab/repos/CellProfiler/cellprofiler/utilities/hdf5_dict.py:539: FutureWarning: Conversion of the second argument of issubdtype from `int` to `np.signedinteger` is deprecated. In future, it will be treated as `np.int64 == np.dtype(int).type`.\n",
      "  np.issubdtype(hdf5_type, int) or\n",
      "/lab/repos/CellProfiler/cellprofiler/utilities/hdf5_dict.py:541: FutureWarning: Conversion of the second argument of issubdtype from `float` to `np.floating` is deprecated. In future, it will be treated as `np.float64 == np.dtype(float).type`.\n",
      "  hdf5_type_is_float = np.issubdtype(hdf5_type, float)\n"
     ]
    }
   ],
   "source": [
    "module.run(ws)"
   ]
  },
  {
   "cell_type": "code",
   "execution_count": 10,
   "metadata": {},
   "outputs": [
    {
     "name": "stdout",
     "output_type": "stream",
     "text": [
      "('Intensity_IntegratedIntensity_TestImage', array([6., 8.]))\n",
      "('Intensity_MeanIntensity_TestImage', array([1., 2.]))\n",
      "('Intensity_StdIntensity_TestImage', array([0., 0.]))\n",
      "('Intensity_MinIntensity_TestImage', array([1., 2.]))\n",
      "('Intensity_MaxIntensity_TestImage', array([1., 2.]))\n",
      "('Intensity_IntegratedIntensityEdge_TestImage', array([6., 8.]))\n",
      "('Intensity_MeanIntensityEdge_TestImage', array([1., 2.]))\n",
      "('Intensity_StdIntensityEdge_TestImage', array([0., 0.]))\n",
      "('Intensity_MinIntensityEdge_TestImage', array([1., 2.]))\n",
      "('Intensity_MaxIntensityEdge_TestImage', array([1., 2.]))\n",
      "('Intensity_MassDisplacement_TestImage', array([0., 0.]))\n",
      "('Intensity_LowerQuartileIntensity_TestImage', array([1., 2.]))\n",
      "('Intensity_MedianIntensity_TestImage', array([1., 2.]))\n",
      "('Intensity_MADIntensity_TestImage', array([0., 0.]))\n",
      "('Intensity_UpperQuartileIntensity_TestImage', array([1., 2.]))\n"
     ]
    }
   ],
   "source": [
    "for feature_name in cellprofiler.modules.measureobjectintensity.ALL_MEASUREMENTS:\n",
    "    feature_name = \"%s_%s_%s\" % (cellprofiler.modules.measureobjectintensity.INTENSITY, feature_name, IMAGE_NAME)\n",
    "    data = measurements.get_current_measurement(OBJECT_NAME, feature_name)\n",
    "    print(feature_name, data)"
   ]
  },
  {
   "cell_type": "code",
   "execution_count": 6,
   "metadata": {},
   "outputs": [
    {
     "data": {
      "text/plain": [
       "[<cellprofiler.modules.images.Images at 0x7f332609c250>,\n",
       " <cellprofiler.modules.metadata.Metadata at 0x7f32f501b410>,\n",
       " <cellprofiler.modules.namesandtypes.NamesAndTypes at 0x7f32f501b2d0>,\n",
       " <cellprofiler.modules.groups.Groups at 0x7f32f500e610>,\n",
       " <cellprofiler.modules.measureobjectintensity.MeasureObjectIntensity at 0x7f32f502e090>,\n",
       " <cellprofiler.modules.measureobjectneighbors.MeasureObjectNeighbors at 0x7f32f502a790>,\n",
       " <cellprofiler.modules.measuretexture.MeasureTexture at 0x7f32f5032250>,\n",
       " <cellprofiler.modules.exporttospreadsheet.ExportToSpreadsheet at 0x7f32f503b8d0>]"
      ]
     },
     "execution_count": 6,
     "metadata": {},
     "output_type": "execute_result"
    }
   ],
   "source": [
    "pipeline.modules()"
   ]
  },
  {
   "cell_type": "code",
   "execution_count": 9,
   "metadata": {},
   "outputs": [],
   "source": [
    "from cellprofiler.modules import measureobjectintensity"
   ]
  },
  {
   "cell_type": "markdown",
   "metadata": {},
   "source": [
    "### CLI Testing"
   ]
  },
  {
   "cell_type": "code",
   "execution_count": 73,
   "metadata": {},
   "outputs": [],
   "source": [
    "#!/opt/conda/envs/cellprofiler/bin/python /lab/repos/cytokit/python/external/cellprofiler/cpcli.py --help"
   ]
  },
  {
   "cell_type": "code",
   "execution_count": null,
   "metadata": {},
   "outputs": [],
   "source": [
    "python /lab/repos/cytokit/python/external/cellprofiler/cpcli.py \\\n",
    "--config-file=/lab/data/20180101_codex_spleen/20180101_codex_mouse_spleen_balbc_slide1/output/v02/config/experiment.yaml \\\n",
    "--output-dir=/lab/data/20180101_codex_spleen/20180101_codex_mouse_spleen_balbc_slide1/output/v02 \\\n",
    "--log-level=DEBUG"
   ]
  },
  {
   "cell_type": "markdown",
   "metadata": {},
   "source": [
    "To symlink locally for CPA:\n",
    "\n",
    "```\n",
    "cd /\n",
    "sudo mkdir /lab\n",
    "sudo chown eczech:staff /lab\n",
    "cd /lab\n",
    "ln -s /Volumes/disk1/ data\n",
    "```"
   ]
  },
  {
   "cell_type": "code",
   "execution_count": null,
   "metadata": {},
   "outputs": [],
   "source": []
  }
 ],
 "metadata": {
  "kernelspec": {
   "display_name": "Python (CP)",
   "language": "python",
   "name": "cellprofiler"
  },
  "language_info": {
   "codemirror_mode": {
    "name": "ipython",
    "version": 2
   },
   "file_extension": ".py",
   "mimetype": "text/x-python",
   "name": "python",
   "nbconvert_exporter": "python",
   "pygments_lexer": "ipython2",
   "version": "2.7.16"
  }
 },
 "nbformat": 4,
 "nbformat_minor": 4
}
