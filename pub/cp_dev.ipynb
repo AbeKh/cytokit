{
 "cells": [
  {
   "cell_type": "code",
   "execution_count": 1,
   "metadata": {},
   "outputs": [],
   "source": [
    "import numpy as np"
   ]
  },
  {
   "cell_type": "code",
   "execution_count": 38,
   "metadata": {},
   "outputs": [],
   "source": [
    "import cellprofiler\n",
    "import cellprofiler as cp\n",
    "import cellprofiler.modules\n",
    "import cellprofiler.utilities\n",
    "import cellprofiler.utilities.cpjvm\n",
    "import glob"
   ]
  },
  {
   "cell_type": "code",
   "execution_count": 3,
   "metadata": {},
   "outputs": [],
   "source": [
    "import os"
   ]
  },
  {
   "cell_type": "code",
   "execution_count": 113,
   "metadata": {},
   "outputs": [],
   "source": [
    "# os.environ['JAVA_HOME'] = '/usr/lib/jvm/java-8-openjdk-amd64/jre'\n",
    "#os.getenv('JAVA_HOME')"
   ]
  },
  {
   "cell_type": "code",
   "execution_count": 7,
   "metadata": {},
   "outputs": [],
   "source": [
    "import cellprofiler.pipeline\n",
    "\n",
    "# See headless options at: https://github.com/CellProfiler/CellProfiler/blob/master/cellprofiler/__main__.py\n",
    "#pipeline = cellprofiler.pipeline.Pipeline()"
   ]
  },
  {
   "cell_type": "code",
   "execution_count": 8,
   "metadata": {},
   "outputs": [],
   "source": [
    "cp.preferences.set_awt_headless(True)\n",
    "cp.preferences.set_headless()\n",
    "cellprofiler.utilities.cpjvm.cp_start_vm()"
   ]
  },
  {
   "cell_type": "code",
   "execution_count": 11,
   "metadata": {},
   "outputs": [],
   "source": [
    "#pipeline.load('/lab/repos/cytokit/image-quantification-v2.cppipe')"
   ]
  },
  {
   "cell_type": "code",
   "execution_count": 12,
   "metadata": {},
   "outputs": [],
   "source": [
    "#pipeline.modules()"
   ]
  },
  {
   "cell_type": "code",
   "execution_count": 19,
   "metadata": {},
   "outputs": [],
   "source": [
    "def get_module_images():\n",
    "    m = cp.modules.images.Images()\n",
    "    m.filter_choice.value = cellprofiler.modules.images.FILTER_CHOICE_IMAGES\n",
    "    return m\n",
    "\n",
    "def get_module_metadata():\n",
    "    m = cp.modules.metadata.Metadata()\n",
    "    return m\n",
    "\n",
    "def get_module_namesandtypes():\n",
    "    # Resources:\n",
    "    # - https://github.com/CellProfiler/CellProfiler/blob/master/tests/modules/test_namesandtypes.py#L960\n",
    "    m = cp.modules.namesandtypes.NamesAndTypes()\n",
    "    m.assignment_method.value = cp.modules.namesandtypes.ASSIGN_RULES\n",
    "    # \"Image set matching\" -- determines how images from different channels are aligned\n",
    "    # ORDER means that the file paths must sort alphabetically in a way that will align them\n",
    "    m.matching_choice.value = cp.modules.namesandtypes.MATCH_BY_ORDER\n",
    "    m.assignments[0].image_name.value = u'Cell'\n",
    "    m.assignments[0].rule_filter.value = u'file does contain \"cell_mask\"'\n",
    "    m.assignments[0].load_as_choice.value = cp.modules.namesandtypes.LOAD_AS_OBJECTS\n",
    "    m.add_assignment()\n",
    "    m.assignments[1].image_name.value = 'Nucleus'\n",
    "    m.assignments[1].rule_filter.value = 'file does contain \"nucleus_mask\"'\n",
    "    m.assignments[1].load_as_choice.value = cp.modules.namesandtypes.LOAD_AS_OBJECTS\n",
    "    m.add_assignment()\n",
    "    m.assignments[2].image_name.value = 'CD3'\n",
    "    m.assignments[2].rule_filter.value = 'file does contain \"CD3.tif\"'\n",
    "    m.assignments[2].load_as_choice.value = cp.modules.namesandtypes.LOAD_AS_GRAYSCALE_IMAGE\n",
    "    m.add_assignment()\n",
    "    m.assignments[3].image_name.value = 'CD8a'\n",
    "    m.assignments[3].rule_filter.value = 'file does contain \"CD8a.tif\"'\n",
    "    m.assignments[3].load_as_choice.value = cp.modules.namesandtypes.LOAD_AS_GRAYSCALE_IMAGE\n",
    "    return m\n",
    "\n",
    "def get_module_measureobjectsizeshape():\n",
    "    m = cp.modules.measureobjectsizeshape.MeasureObjectSizeShape()\n",
    "    m.object_groups[0].name.value = 'Cell'\n",
    "    m.add_object()\n",
    "    m.object_groups[1].name.value = 'Nucleus'\n",
    "    return m\n",
    "\n",
    "def get_pipeline():\n",
    "    pipeline = cp.pipeline.Pipeline()\n",
    "    \n",
    "    m = get_module_images()\n",
    "    m.module_num = 1\n",
    "    pipeline.add_module(m)\n",
    "    \n",
    "    m = get_module_metadata()\n",
    "    m.module_num = 2\n",
    "    pipeline.add_module(m)\n",
    "    \n",
    "    m = get_module_namesandtypes()\n",
    "    m.module_num = 3\n",
    "    pipeline.add_module(m)\n",
    "    \n",
    "    m = get_module_measureobjectsizeshape()\n",
    "    m.module_num = 4\n",
    "    pipeline.add_module(m)\n",
    "    \n",
    "    return pipeline"
   ]
  },
  {
   "cell_type": "code",
   "execution_count": 67,
   "metadata": {},
   "outputs": [],
   "source": [
    "pl = get_pipeline()"
   ]
  },
  {
   "cell_type": "code",
   "execution_count": 102,
   "metadata": {},
   "outputs": [],
   "source": [
    "#p.add_pathnames_to_file_list(['/lab/data/tmp/tile_y00_x00'])"
   ]
  },
  {
   "cell_type": "code",
   "execution_count": 68,
   "metadata": {},
   "outputs": [
    {
     "data": {
      "text/plain": [
       "['/lab/data/tmp/tile_y00_x00/object_cell_mask.tif',\n",
       " '/lab/data/tmp/tile_y00_x00/object_nucleus_mask.tif',\n",
       " '/lab/data/tmp/tile_y00_x00/expression_CD3.tif',\n",
       " '/lab/data/tmp/tile_y00_x00/expression_CD8a.tif']"
      ]
     },
     "execution_count": 68,
     "metadata": {},
     "output_type": "execute_result"
    }
   ],
   "source": [
    "paths = [\n",
    "    '/lab/data/tmp/tile_y00_x00/object_cell_mask.tif',\n",
    "    '/lab/data/tmp/tile_y00_x00/object_nucleus_mask.tif',\n",
    "    '/lab/data/tmp/tile_y00_x00/expression_CD3.tif',\n",
    "    '/lab/data/tmp/tile_y00_x00/expression_CD8a.tif'\n",
    "]\n",
    "paths"
   ]
  },
  {
   "cell_type": "code",
   "execution_count": 69,
   "metadata": {},
   "outputs": [],
   "source": [
    "pl.add_urls(['file://' + p for p in paths])"
   ]
  },
  {
   "cell_type": "code",
   "execution_count": 70,
   "metadata": {},
   "outputs": [
    {
     "data": {
      "text/plain": [
       "['file:///lab/data/tmp/tile_y00_x00/expression_CD3.tif',\n",
       " 'file:///lab/data/tmp/tile_y00_x00/expression_CD8a.tif',\n",
       " 'file:///lab/data/tmp/tile_y00_x00/object_cell_mask.tif',\n",
       " 'file:///lab/data/tmp/tile_y00_x00/object_nucleus_mask.tif']"
      ]
     },
     "execution_count": 70,
     "metadata": {},
     "output_type": "execute_result"
    }
   ],
   "source": [
    "pl.file_list"
   ]
  },
  {
   "cell_type": "code",
   "execution_count": 72,
   "metadata": {},
   "outputs": [
    {
     "data": {
      "text/plain": [
       "<cellprofiler.modules.images.Images at 0x7f953833e450>"
      ]
     },
     "execution_count": 72,
     "metadata": {},
     "output_type": "execute_result"
    }
   ],
   "source": [
    "m = pl.modules()[0]\n",
    "m"
   ]
  },
  {
   "cell_type": "code",
   "execution_count": 73,
   "metadata": {},
   "outputs": [],
   "source": [
    "measurements = cp.measurement.Measurements()\n",
    "workspace = cp.workspace.Workspace(pl, m, None, None, measurements, None)\n",
    "file_list = pl.get_filtered_file_list(workspace)"
   ]
  },
  {
   "cell_type": "code",
   "execution_count": 74,
   "metadata": {},
   "outputs": [
    {
     "data": {
      "text/plain": [
       "['file:///lab/data/tmp/tile_y00_x00/expression_CD3.tif',\n",
       " 'file:///lab/data/tmp/tile_y00_x00/expression_CD8a.tif',\n",
       " 'file:///lab/data/tmp/tile_y00_x00/object_cell_mask.tif',\n",
       " 'file:///lab/data/tmp/tile_y00_x00/object_nucleus_mask.tif']"
      ]
     },
     "execution_count": 74,
     "metadata": {},
     "output_type": "execute_result"
    }
   ],
   "source": [
    "file_list"
   ]
  },
  {
   "cell_type": "code",
   "execution_count": 75,
   "metadata": {},
   "outputs": [
    {
     "name": "stderr",
     "output_type": "stream",
     "text": [
      "/lab/repos/CellProfiler/cellprofiler/utilities/hdf5_dict.py:539: FutureWarning: Conversion of the second argument of issubdtype from `int` to `np.signedinteger` is deprecated. In future, it will be treated as `np.int64 == np.dtype(int).type`.\n",
      "  np.issubdtype(hdf5_type, int) or\n",
      "/lab/repos/CellProfiler/cellprofiler/utilities/hdf5_dict.py:541: FutureWarning: Conversion of the second argument of issubdtype from `float` to `np.floating` is deprecated. In future, it will be treated as `np.float64 == np.dtype(float).type`.\n",
      "  hdf5_type_is_float = np.issubdtype(hdf5_type, float)\n",
      "/opt/conda/envs/cellprofiler/lib/python2.7/site-packages/centrosome/cpmorphology.py:2195: RuntimeWarning: invalid value encountered in true_divide\n",
      "  ic = np.bincount(labels, i * image) / intensity\n",
      "/opt/conda/envs/cellprofiler/lib/python2.7/site-packages/centrosome/cpmorphology.py:2196: RuntimeWarning: invalid value encountered in true_divide\n",
      "  jc = np.bincount(labels, j * image) / intensity\n",
      "/opt/conda/envs/cellprofiler/lib/python2.7/site-packages/centrosome/cpmorphology.py:2209: RuntimeWarning: invalid value encountered in true_divide\n",
      "  a = m[2,0] / m[0,0]\n",
      "/opt/conda/envs/cellprofiler/lib/python2.7/site-packages/centrosome/cpmorphology.py:2210: RuntimeWarning: invalid value encountered in true_divide\n",
      "  b = 2*m[1,1]/m[0,0]\n",
      "/opt/conda/envs/cellprofiler/lib/python2.7/site-packages/centrosome/cpmorphology.py:2211: RuntimeWarning: invalid value encountered in true_divide\n",
      "  c = m[0,2] / m[0,0]\n",
      "/opt/conda/envs/cellprofiler/lib/python2.7/site-packages/centrosome/cpmorphology.py:2535: FutureWarning: Using a non-tuple sequence for multidimensional indexing is deprecated; use `arr[tuple(seq)]` instead of `arr[seq]`. In the future this will be interpreted as an array index, `arr[np.array(seq)]`, which will result either in an error or a different result.\n",
      "  I00[slice_00] = labels\n",
      "/opt/conda/envs/cellprofiler/lib/python2.7/site-packages/centrosome/cpmorphology.py:2536: FutureWarning: Using a non-tuple sequence for multidimensional indexing is deprecated; use `arr[tuple(seq)]` instead of `arr[seq]`. In the future this will be interpreted as an array index, `arr[np.array(seq)]`, which will result either in an error or a different result.\n",
      "  I01[slice_01] = labels\n",
      "/opt/conda/envs/cellprofiler/lib/python2.7/site-packages/centrosome/cpmorphology.py:2537: FutureWarning: Using a non-tuple sequence for multidimensional indexing is deprecated; use `arr[tuple(seq)]` instead of `arr[seq]`. In the future this will be interpreted as an array index, `arr[np.array(seq)]`, which will result either in an error or a different result.\n",
      "  I10[slice_10] = labels\n",
      "/opt/conda/envs/cellprofiler/lib/python2.7/site-packages/centrosome/cpmorphology.py:2538: FutureWarning: Using a non-tuple sequence for multidimensional indexing is deprecated; use `arr[tuple(seq)]` instead of `arr[seq]`. In the future this will be interpreted as an array index, `arr[np.array(seq)]`, which will result either in an error or a different result.\n",
      "  I11[slice_11] = labels\n",
      "/opt/conda/envs/cellprofiler/lib/python2.7/site-packages/centrosome/cpmorphology.py:2560: FutureWarning: Using a non-tuple sequence for multidimensional indexing is deprecated; use `arr[tuple(seq)]` instead of `arr[seq]`. In the future this will be interpreted as an array index, `arr[np.array(seq)]`, which will result either in an error or a different result.\n",
      "  Q1_condition[slice_00] += (NE01_00 & NE01_10 & NE01_11)[slice_01]\n",
      "/opt/conda/envs/cellprofiler/lib/python2.7/site-packages/centrosome/cpmorphology.py:2563: FutureWarning: Using a non-tuple sequence for multidimensional indexing is deprecated; use `arr[tuple(seq)]` instead of `arr[seq]`. In the future this will be interpreted as an array index, `arr[np.array(seq)]`, which will result either in an error or a different result.\n",
      "  Q1_condition[slice_00] += (NE10_00 & NE10_01 & NE10_11)[slice_10]\n",
      "/opt/conda/envs/cellprofiler/lib/python2.7/site-packages/centrosome/cpmorphology.py:2566: FutureWarning: Using a non-tuple sequence for multidimensional indexing is deprecated; use `arr[tuple(seq)]` instead of `arr[seq]`. In the future this will be interpreted as an array index, `arr[np.array(seq)]`, which will result either in an error or a different result.\n",
      "  Q1_condition[slice_00] += (NE11_00 & NE11_01 & NE11_10)[slice_11]\n",
      "/opt/conda/envs/cellprofiler/lib/python2.7/site-packages/centrosome/cpmorphology.py:2574: FutureWarning: Using a non-tuple sequence for multidimensional indexing is deprecated; use `arr[tuple(seq)]` instead of `arr[seq]`. In the future this will be interpreted as an array index, `arr[np.array(seq)]`, which will result either in an error or a different result.\n",
      "  Q3_condition[slice_00] += (NE11_00 & EQ11_10 & EQ11_01)[slice_11]\n",
      "/opt/conda/envs/cellprofiler/lib/python2.7/site-packages/centrosome/cpmorphology.py:2587: FutureWarning: Using a non-tuple sequence for multidimensional indexing is deprecated; use `arr[tuple(seq)]` instead of `arr[seq]`. In the future this will be interpreted as an array index, `arr[np.array(seq)]`, which will result either in an error or a different result.\n",
      "  QD_condition[slice_00] += (NE01_00 & NE01_11 & EQ01_10)[slice_01]\n"
     ]
    }
   ],
   "source": [
    "measurements = pl.run()"
   ]
  },
  {
   "cell_type": "code",
   "execution_count": 78,
   "metadata": {},
   "outputs": [
    {
     "data": {
      "text/plain": [
       "['CD3', 'CD8a']"
      ]
     },
     "execution_count": 78,
     "metadata": {},
     "output_type": "execute_result"
    }
   ],
   "source": [
    "measurements.names"
   ]
  },
  {
   "cell_type": "code",
   "execution_count": 79,
   "metadata": {},
   "outputs": [
    {
     "data": {
      "text/plain": [
       "[u'Cell', u'Experiment', u'Image', u'Nucleus']"
      ]
     },
     "execution_count": 79,
     "metadata": {},
     "output_type": "execute_result"
    }
   ],
   "source": [
    "measurements.object_names"
   ]
  },
  {
   "cell_type": "code",
   "execution_count": null,
   "metadata": {},
   "outputs": [],
   "source": [
    "m"
   ]
  },
  {
   "cell_type": "code",
   "execution_count": 6,
   "metadata": {},
   "outputs": [],
   "source": [
    "image_pixel_data = np.array([\n",
    "    [0, 0, 0, 0, 0, 0, 0],\n",
    "    [0, 2, 2, 1, 1, 0, 0],\n",
    "    [0, 2, 2, 1, 1, 0, 0],\n",
    "    [0, 2, 2, 1, 1, 0, 0],\n",
    "    [0, 0, 0, 0, 0, 0, 0]], dtype=np.uint8)\n",
    "image_obj_data = np.array([\n",
    "    [0, 0, 0, 0, 0, 0, 0],\n",
    "    [0, 0, 2, 1, 1, 0, 0],\n",
    "    [0, 2, 2, 1, 1, 0, 0],\n",
    "    [0, 0, 2, 1, 1, 0, 0],\n",
    "    [0, 0, 0, 0, 0, 0, 0]], int)"
   ]
  },
  {
   "cell_type": "code",
   "execution_count": 7,
   "metadata": {},
   "outputs": [],
   "source": [
    "IMAGE_NAME = 'TestImage'\n",
    "OBJECT_NAME = 'TestObjects'\n",
    "image = cellprofiler.image.Image(image_pixel_data, convert=False)\n",
    "#image.pixel_data = image_pixel_data\n",
    "image_set_list = cellprofiler.image.ImageSetList()\n",
    "image_set = image_set_list.get_image_set(0)\n",
    "image_set.add(IMAGE_NAME, image)\n",
    "\n",
    "object_set = cellprofiler.object.ObjectSet()\n",
    "objects = cellprofiler.object.Objects()\n",
    "objects.segmented = image_obj_data\n",
    "object_set.add_objects(objects, OBJECT_NAME)\n",
    "\n",
    "module = cellprofiler.modules.measureobjectintensity.MeasureObjectIntensity()\n",
    "module.images[0].name.value = IMAGE_NAME\n",
    "module.objects[0].name.value = OBJECT_NAME\n",
    "\n",
    "measurements = cellprofiler.measurement.Measurements()\n",
    "\n",
    "ws = cellprofiler.workspace.Workspace(\n",
    "    cellprofiler.pipeline.Pipeline(),\n",
    "    module,\n",
    "    image_set,\n",
    "    object_set,\n",
    "    measurements,\n",
    "    image_set_list\n",
    ")"
   ]
  },
  {
   "cell_type": "code",
   "execution_count": 62,
   "metadata": {},
   "outputs": [],
   "source": [
    "ws.file_list.add_files_to_filelist(['file:///tmp/testfile.tif'])"
   ]
  },
  {
   "cell_type": "code",
   "execution_count": 64,
   "metadata": {},
   "outputs": [
    {
     "data": {
      "text/plain": [
       "[u'file:///tmp/testfile.tif']"
      ]
     },
     "execution_count": 64,
     "metadata": {},
     "output_type": "execute_result"
    }
   ],
   "source": [
    "ws.file_list.get_filelist()"
   ]
  },
  {
   "cell_type": "code",
   "execution_count": 8,
   "metadata": {},
   "outputs": [
    {
     "data": {
      "text/plain": [
       "array([[0, 0, 0, 0, 0, 0, 0],\n",
       "       [0, 2, 2, 1, 1, 0, 0],\n",
       "       [0, 2, 2, 1, 1, 0, 0],\n",
       "       [0, 2, 2, 1, 1, 0, 0],\n",
       "       [0, 0, 0, 0, 0, 0, 0]], dtype=uint8)"
      ]
     },
     "execution_count": 8,
     "metadata": {},
     "output_type": "execute_result"
    }
   ],
   "source": [
    "image.pixel_data"
   ]
  },
  {
   "cell_type": "code",
   "execution_count": 9,
   "metadata": {},
   "outputs": [
    {
     "name": "stderr",
     "output_type": "stream",
     "text": [
      "/lab/repos/CellProfiler/cellprofiler/utilities/hdf5_dict.py:539: FutureWarning: Conversion of the second argument of issubdtype from `int` to `np.signedinteger` is deprecated. In future, it will be treated as `np.int64 == np.dtype(int).type`.\n",
      "  np.issubdtype(hdf5_type, int) or\n",
      "/lab/repos/CellProfiler/cellprofiler/utilities/hdf5_dict.py:541: FutureWarning: Conversion of the second argument of issubdtype from `float` to `np.floating` is deprecated. In future, it will be treated as `np.float64 == np.dtype(float).type`.\n",
      "  hdf5_type_is_float = np.issubdtype(hdf5_type, float)\n"
     ]
    }
   ],
   "source": [
    "module.run(ws)"
   ]
  },
  {
   "cell_type": "code",
   "execution_count": 10,
   "metadata": {},
   "outputs": [
    {
     "name": "stdout",
     "output_type": "stream",
     "text": [
      "('Intensity_IntegratedIntensity_TestImage', array([6., 8.]))\n",
      "('Intensity_MeanIntensity_TestImage', array([1., 2.]))\n",
      "('Intensity_StdIntensity_TestImage', array([0., 0.]))\n",
      "('Intensity_MinIntensity_TestImage', array([1., 2.]))\n",
      "('Intensity_MaxIntensity_TestImage', array([1., 2.]))\n",
      "('Intensity_IntegratedIntensityEdge_TestImage', array([6., 8.]))\n",
      "('Intensity_MeanIntensityEdge_TestImage', array([1., 2.]))\n",
      "('Intensity_StdIntensityEdge_TestImage', array([0., 0.]))\n",
      "('Intensity_MinIntensityEdge_TestImage', array([1., 2.]))\n",
      "('Intensity_MaxIntensityEdge_TestImage', array([1., 2.]))\n",
      "('Intensity_MassDisplacement_TestImage', array([0., 0.]))\n",
      "('Intensity_LowerQuartileIntensity_TestImage', array([1., 2.]))\n",
      "('Intensity_MedianIntensity_TestImage', array([1., 2.]))\n",
      "('Intensity_MADIntensity_TestImage', array([0., 0.]))\n",
      "('Intensity_UpperQuartileIntensity_TestImage', array([1., 2.]))\n"
     ]
    }
   ],
   "source": [
    "for feature_name in cellprofiler.modules.measureobjectintensity.ALL_MEASUREMENTS:\n",
    "    feature_name = \"%s_%s_%s\" % (cellprofiler.modules.measureobjectintensity.INTENSITY, feature_name, IMAGE_NAME)\n",
    "    data = measurements.get_current_measurement(OBJECT_NAME, feature_name)\n",
    "    print(feature_name, data)"
   ]
  },
  {
   "cell_type": "code",
   "execution_count": 6,
   "metadata": {},
   "outputs": [
    {
     "data": {
      "text/plain": [
       "[<cellprofiler.modules.images.Images at 0x7f332609c250>,\n",
       " <cellprofiler.modules.metadata.Metadata at 0x7f32f501b410>,\n",
       " <cellprofiler.modules.namesandtypes.NamesAndTypes at 0x7f32f501b2d0>,\n",
       " <cellprofiler.modules.groups.Groups at 0x7f32f500e610>,\n",
       " <cellprofiler.modules.measureobjectintensity.MeasureObjectIntensity at 0x7f32f502e090>,\n",
       " <cellprofiler.modules.measureobjectneighbors.MeasureObjectNeighbors at 0x7f32f502a790>,\n",
       " <cellprofiler.modules.measuretexture.MeasureTexture at 0x7f32f5032250>,\n",
       " <cellprofiler.modules.exporttospreadsheet.ExportToSpreadsheet at 0x7f32f503b8d0>]"
      ]
     },
     "execution_count": 6,
     "metadata": {},
     "output_type": "execute_result"
    }
   ],
   "source": [
    "pipeline.modules()"
   ]
  },
  {
   "cell_type": "code",
   "execution_count": 9,
   "metadata": {},
   "outputs": [],
   "source": [
    "from cellprofiler.modules import measureobjectintensity"
   ]
  },
  {
   "cell_type": "code",
   "execution_count": null,
   "metadata": {},
   "outputs": [],
   "source": [
    "measureobjectintensity.MeasureObjectIntensity()"
   ]
  },
  {
   "cell_type": "code",
   "execution_count": 7,
   "metadata": {},
   "outputs": [],
   "source": [
    "pipeline.savetxt('/tmp/test.cppipe')"
   ]
  },
  {
   "cell_type": "code",
   "execution_count": 8,
   "metadata": {},
   "outputs": [
    {
     "name": "stdout",
     "output_type": "stream",
     "text": [
      "CellProfiler Pipeline: http://www.cellprofiler.org\n",
      "Version:4\n",
      "DateRevision:318\n",
      "GitHash:\n",
      "ModuleCount:8\n",
      "HasImagePlaneDetails:False\n",
      "\n",
      "Images:[module_num:1|svn_version:\\'Unknown\\'|variable_revision_number:2|show_window:False|notes:\\x5B\\'To begin creating your project, use the Images module to compile a list of files and/or folders that you want to analyze. You can also specify a set of rules to include only the desired files in your selected folders.\\'\\x5D|batch_state:array(\\x5B\\x5D, dtype=uint8)|enabled:True|wants_pause:False]\n",
      "    :\\xff\\xfe\n",
      "    Filter images?:\\xff\\xfeI\\x00m\\x00a\\x00g\\x00e\\x00s\\x00 \\x00o\\x00n\\x00l\\x00y\\x00\n",
      "    Select the rule criteria:\\xff\\xfea\\x00n\\x00d\\x00 \\x00(\\x00e\\x00x\\x00t\\x00e\\x00n\\x00s\\x00i\\x00o\\x00n\\x00 \\x00d\\x00o\\x00e\\x00s\\x00 \\x00i\\x00s\\x00i\\x00m\\x00a\\x00g\\x00e\\x00)\\x00 \\x00(\\x00d\\x00i\\x00r\\x00e\\x00c\\x00t\\x00o\\x00r\\x00y\\x00 \\x00d\\x00o\\x00e\\x00s\\x00n\\x00o\\x00t\\x00 \\x00c\\x00o\\x00n\\x00t\\x00a\\x00i\\x00n\\x00r\\x00e\\x00g\\x00e\\x00x\\x00p\\x00 \\x00\"\\x00\\x5B\\x00\\\\\\x00\\\\\\x00\\\\\\x00\\\\\\x00/\\x00\\x5D\\x00\\\\\\x00\\\\\\x00.\\x00\"\\x00)\\x00\n",
      "\n",
      "Metadata:[module_num:2|svn_version:\\'Unknown\\'|variable_revision_number:5|show_window:False|notes:\\x5B\\'The Metadata module optionally allows you to extract information describing your images (i.e, metadata) which will be stored along with your measurements. This information can be contained in the file name and/or location, or in an external file.\\'\\x5D|batch_state:array(\\x5B\\x5D, dtype=uint8)|enabled:True|wants_pause:False]\n",
      "    Extract metadata?:\\xff\\xfeY\\x00e\\x00s\\x00\n",
      "    Metadata data type:\\xff\\xfeT\\x00e\\x00x\\x00t\\x00\n",
      "    Metadata types:\\xff\\xfe{\\x00}\\x00\n",
      "    Extraction method count:\\xff\\xfe1\\x00\n",
      "    Metadata extraction method:\\xff\\xfeE\\x00x\\x00t\\x00r\\x00a\\x00c\\x00t\\x00 \\x00f\\x00r\\x00o\\x00m\\x00 \\x00f\\x00i\\x00l\\x00e\\x00/\\x00f\\x00o\\x00l\\x00d\\x00e\\x00r\\x00 \\x00n\\x00a\\x00m\\x00e\\x00s\\x00\n",
      "    Metadata source:\\xff\\xfeF\\x00i\\x00l\\x00e\\x00 \\x00n\\x00a\\x00m\\x00e\\x00\n",
      "    Regular expression to extract from file name:\\xff\\xfe^\\x00(\\x00?\\x00P\\x00<\\x00I\\x00m\\x00a\\x00g\\x00e\\x00T\\x00y\\x00p\\x00e\\x00>\\x00\\\\\\x00w\\x00+\\x00?\\x00)\\x00_\\x00(\\x00?\\x00P\\x00<\\x00C\\x00h\\x00N\\x00m\\x00>\\x00\\\\\\x00w\\x00+\\x00?\\x00)\\x00.\\x00t\\x00i\\x00f\\x00\n",
      "    Regular expression to extract from folder name:\\xff\\xfe(\\x00?\\x00P\\x00<\\x00D\\x00a\\x00t\\x00e\\x00>\\x00\\x5B\\x000\\x00-\\x009\\x00\\x5D\\x00{\\x004\\x00}\\x00_\\x00\\x5B\\x000\\x00-\\x009\\x00\\x5D\\x00{\\x002\\x00}\\x00_\\x00\\x5B\\x000\\x00-\\x009\\x00\\x5D\\x00{\\x002\\x00}\\x00)\\x00$\\x00\n",
      "    Extract metadata from:\\xff\\xfeA\\x00l\\x00l\\x00 \\x00i\\x00m\\x00a\\x00g\\x00e\\x00s\\x00\n",
      "    Select the filtering criteria:\\xff\\xfea\\x00n\\x00d\\x00 \\x00(\\x00f\\x00i\\x00l\\x00e\\x00 \\x00d\\x00o\\x00e\\x00s\\x00 \\x00c\\x00o\\x00n\\x00t\\x00a\\x00i\\x00n\\x00 \\x00\"\\x00\"\\x00)\\x00\n",
      "    Metadata file location:\\xff\\xfeE\\x00l\\x00s\\x00e\\x00w\\x00h\\x00e\\x00r\\x00e\\x00.\\x00.\\x00.\\x00\\x7C\\x00\n",
      "    Match file and image metadata:\\xff\\xfe\\x5B\\x00\\x5D\\x00\n",
      "    Use case insensitive matching?:\\xff\\xfeN\\x00o\\x00\n",
      "    Metadata file name:\\xff\\xfe\n",
      "\n",
      "NamesAndTypes:[module_num:3|svn_version:\\'Unknown\\'|variable_revision_number:8|show_window:False|notes:\\x5B\\'The NamesAndTypes module allows you to assign a meaningful name to each image by which other modules will refer to it.\\'\\x5D|batch_state:array(\\x5B\\x5D, dtype=uint8)|enabled:True|wants_pause:False]\n",
      "    Assign a name to:\\xff\\xfeI\\x00m\\x00a\\x00g\\x00e\\x00s\\x00 \\x00m\\x00a\\x00t\\x00c\\x00h\\x00i\\x00n\\x00g\\x00 \\x00r\\x00u\\x00l\\x00e\\x00s\\x00\n",
      "    Select the image type:\\xff\\xfeG\\x00r\\x00a\\x00y\\x00s\\x00c\\x00a\\x00l\\x00e\\x00 \\x00i\\x00m\\x00a\\x00g\\x00e\\x00\n",
      "    Name to assign these images:\\xff\\xfeD\\x00N\\x00A\\x00\n",
      "    Match metadata:\\xff\\xfe\\x5B\\x00\\x5D\\x00\n",
      "    Image set matching method:\\xff\\xfeO\\x00r\\x00d\\x00e\\x00r\\x00\n",
      "    Set intensity range from:\\xff\\xfeI\\x00m\\x00a\\x00g\\x00e\\x00 \\x00m\\x00e\\x00t\\x00a\\x00d\\x00a\\x00t\\x00a\\x00\n",
      "    Assignments count:\\xff\\xfe4\\x00\n",
      "    Single images count:\\xff\\xfe0\\x00\n",
      "    Maximum intensity:\\xff\\xfe2\\x005\\x005\\x00.\\x000\\x00\n",
      "    Process as 3D?:\\xff\\xfeN\\x00o\\x00\n",
      "    Relative pixel spacing in X:\\xff\\xfe1\\x00.\\x000\\x00\n",
      "    Relative pixel spacing in Y:\\xff\\xfe1\\x00.\\x000\\x00\n",
      "    Relative pixel spacing in Z:\\xff\\xfe1\\x00.\\x000\\x00\n",
      "    Select the rule criteria:\\xff\\xfea\\x00n\\x00d\\x00 \\x00(\\x00f\\x00i\\x00l\\x00e\\x00 \\x00d\\x00o\\x00e\\x00s\\x00 \\x00c\\x00o\\x00n\\x00t\\x00a\\x00i\\x00n\\x00 \\x00\"\\x00c\\x00e\\x00l\\x00l\\x00_\\x00m\\x00a\\x00s\\x00k\\x00\"\\x00)\\x00\n",
      "    Name to assign these images:\\xff\\xfeC\\x00e\\x00l\\x00l\\x00\n",
      "    Name to assign these objects:\\xff\\xfeC\\x00e\\x00l\\x00l\\x00\n",
      "    Select the image type:\\xff\\xfeO\\x00b\\x00j\\x00e\\x00c\\x00t\\x00s\\x00\n",
      "    Set intensity range from:\\xff\\xfeI\\x00m\\x00a\\x00g\\x00e\\x00 \\x00m\\x00e\\x00t\\x00a\\x00d\\x00a\\x00t\\x00a\\x00\n",
      "    Maximum intensity:\\xff\\xfe2\\x005\\x005\\x00.\\x000\\x00\n",
      "    Select the rule criteria:\\xff\\xfea\\x00n\\x00d\\x00 \\x00(\\x00f\\x00i\\x00l\\x00e\\x00 \\x00d\\x00o\\x00e\\x00s\\x00 \\x00c\\x00o\\x00n\\x00t\\x00a\\x00i\\x00n\\x00 \\x00\"\\x00n\\x00u\\x00c\\x00l\\x00e\\x00u\\x00s\\x00_\\x00m\\x00a\\x00s\\x00k\\x00\"\\x00)\\x00\n",
      "    Name to assign these images:\\xff\\xfeN\\x00u\\x00c\\x00l\\x00e\\x00u\\x00s\\x00\n",
      "    Name to assign these objects:\\xff\\xfeN\\x00u\\x00c\\x00l\\x00e\\x00u\\x00s\\x00\n",
      "    Select the image type:\\xff\\xfeO\\x00b\\x00j\\x00e\\x00c\\x00t\\x00s\\x00\n",
      "    Set intensity range from:\\xff\\xfeI\\x00m\\x00a\\x00g\\x00e\\x00 \\x00m\\x00e\\x00t\\x00a\\x00d\\x00a\\x00t\\x00a\\x00\n",
      "    Maximum intensity:\\xff\\xfe2\\x005\\x005\\x00.\\x000\\x00\n",
      "    Select the rule criteria:\\xff\\xfea\\x00n\\x00d\\x00 \\x00(\\x00f\\x00i\\x00l\\x00e\\x00 \\x00d\\x00o\\x00e\\x00s\\x00 \\x00c\\x00o\\x00n\\x00t\\x00a\\x00i\\x00n\\x00 \\x00\"\\x00C\\x00D\\x003\\x00.\\x00t\\x00i\\x00f\\x00\"\\x00)\\x00\n",
      "    Name to assign these images:\\xff\\xfeC\\x00D\\x003\\x00\n",
      "    Name to assign these objects:\\xff\\xfeC\\x00y\\x00t\\x00o\\x00p\\x00l\\x00a\\x00s\\x00m\\x00\n",
      "    Select the image type:\\xff\\xfeG\\x00r\\x00a\\x00y\\x00s\\x00c\\x00a\\x00l\\x00e\\x00 \\x00i\\x00m\\x00a\\x00g\\x00e\\x00\n",
      "    Set intensity range from:\\xff\\xfeI\\x00m\\x00a\\x00g\\x00e\\x00 \\x00m\\x00e\\x00t\\x00a\\x00d\\x00a\\x00t\\x00a\\x00\n",
      "    Maximum intensity:\\xff\\xfe2\\x005\\x005\\x00.\\x000\\x00\n",
      "    Select the rule criteria:\\xff\\xfea\\x00n\\x00d\\x00 \\x00(\\x00f\\x00i\\x00l\\x00e\\x00 \\x00d\\x00o\\x00e\\x00s\\x00 \\x00c\\x00o\\x00n\\x00t\\x00a\\x00i\\x00n\\x00 \\x00\"\\x00C\\x00D\\x008\\x00a\\x00.\\x00t\\x00i\\x00f\\x00\"\\x00)\\x00\n",
      "    Name to assign these images:\\xff\\xfeC\\x00D\\x008\\x00a\\x00\n",
      "    Name to assign these objects:\\xff\\xfeS\\x00p\\x00e\\x00c\\x00k\\x00l\\x00e\\x00\n",
      "    Select the image type:\\xff\\xfeG\\x00r\\x00a\\x00y\\x00s\\x00c\\x00a\\x00l\\x00e\\x00 \\x00i\\x00m\\x00a\\x00g\\x00e\\x00\n",
      "    Set intensity range from:\\xff\\xfeI\\x00m\\x00a\\x00g\\x00e\\x00 \\x00m\\x00e\\x00t\\x00a\\x00d\\x00a\\x00t\\x00a\\x00\n",
      "    Maximum intensity:\\xff\\xfe2\\x005\\x005\\x00.\\x000\\x00\n",
      "\n",
      "Groups:[module_num:4|svn_version:\\'Unknown\\'|variable_revision_number:2|show_window:False|notes:\\x5B\\'The Groups module optionally allows you to split your list of images into image subsets (groups) which will be processed independently of each other. Examples of groupings include screening batches, microtiter plates, time-lapse movies, etc.\\'\\x5D|batch_state:array(\\x5B\\x5D, dtype=uint8)|enabled:True|wants_pause:False]\n",
      "    Do you want to group your images?:\\xff\\xfeN\\x00o\\x00\n",
      "    grouping metadata count:\\xff\\xfe1\\x00\n",
      "    Metadata category:\\xff\\xfeN\\x00o\\x00n\\x00e\\x00\n",
      "\n",
      "MeasureObjectIntensity:[module_num:5|svn_version:\\'Unknown\\'|variable_revision_number:3|show_window:True|notes:\\x5B\\x5D|batch_state:array(\\x5B\\x5D, dtype=uint8)|enabled:True|wants_pause:False]\n",
      "    Hidden:\\xff\\xfe2\\x00\n",
      "    Select an image to measure:\\xff\\xfeC\\x00D\\x008\\x00a\\x00\n",
      "    Select an image to measure:\\xff\\xfeC\\x00D\\x003\\x00\n",
      "    Select objects to measure:\\xff\\xfeC\\x00e\\x00l\\x00l\\x00\n",
      "    Select objects to measure:\\xff\\xfeN\\x00u\\x00c\\x00l\\x00e\\x00u\\x00s\\x00\n",
      "\n",
      "MeasureObjectNeighbors:[module_num:6|svn_version:\\'Unknown\\'|variable_revision_number:2|show_window:True|notes:\\x5B\\x5D|batch_state:array(\\x5B\\x5D, dtype=uint8)|enabled:True|wants_pause:False]\n",
      "    Select objects to measure:\\xff\\xfeC\\x00e\\x00l\\x00l\\x00\n",
      "    Select neighboring objects to measure:\\xff\\xfeC\\x00e\\x00l\\x00l\\x00\n",
      "    Method to determine neighbors:\\xff\\xfeA\\x00d\\x00j\\x00a\\x00c\\x00e\\x00n\\x00t\\x00\n",
      "    Neighbor distance:\\xff\\xfe5\\x00\n",
      "    Retain the image of objects colored by numbers of neighbors?:\\xff\\xfeN\\x00o\\x00\n",
      "    Name the output image:\\xff\\xfeO\\x00b\\x00j\\x00e\\x00c\\x00t\\x00N\\x00e\\x00i\\x00g\\x00h\\x00b\\x00o\\x00r\\x00C\\x00o\\x00u\\x00n\\x00t\\x00\n",
      "    Select colormap:\\xff\\xfeD\\x00e\\x00f\\x00a\\x00u\\x00l\\x00t\\x00\n",
      "    Retain the image of objects colored by percent of touching pixels?:\\xff\\xfeN\\x00o\\x00\n",
      "    Name the output image:\\xff\\xfeP\\x00e\\x00r\\x00c\\x00e\\x00n\\x00t\\x00T\\x00o\\x00u\\x00c\\x00h\\x00i\\x00n\\x00g\\x00\n",
      "    Select colormap:\\xff\\xfeD\\x00e\\x00f\\x00a\\x00u\\x00l\\x00t\\x00\n",
      "\n",
      "MeasureTexture:[module_num:7|svn_version:\\'Unknown\\'|variable_revision_number:5|show_window:True|notes:\\x5B\\x5D|batch_state:array(\\x5B\\x5D, dtype=uint8)|enabled:True|wants_pause:False]\n",
      "    Hidden:\\xff\\xfe2\\x00\n",
      "    Hidden:\\xff\\xfe1\\x00\n",
      "    Hidden:\\xff\\xfe1\\x00\n",
      "    Select an image to measure:\\xff\\xfeC\\x00D\\x003\\x00\n",
      "    Select an image to measure:\\xff\\xfeC\\x00D\\x008\\x00a\\x00\n",
      "    Select objects to measure:\\xff\\xfeC\\x00e\\x00l\\x00l\\x00\n",
      "    Texture scale to measure:\\xff\\xfe3\\x00\n",
      "    Measure images or objects?:\\xff\\xfeB\\x00o\\x00t\\x00h\\x00\n",
      "\n",
      "ExportToSpreadsheet:[module_num:8|svn_version:\\'Unknown\\'|variable_revision_number:12|show_window:True|notes:\\x5B\\x5D|batch_state:array(\\x5B\\x5D, dtype=uint8)|enabled:True|wants_pause:False]\n",
      "    Select the column delimiter:\\xff\\xfeC\\x00o\\x00m\\x00m\\x00a\\x00 \\x00(\\x00\"\\x00,\\x00\"\\x00)\\x00\n",
      "    Add image metadata columns to your object data file?:\\xff\\xfeY\\x00e\\x00s\\x00\n",
      "    Select the measurements to export:\\xff\\xfeN\\x00o\\x00\n",
      "    Calculate the per-image mean values for object measurements?:\\xff\\xfeN\\x00o\\x00\n",
      "    Calculate the per-image median values for object measurements?:\\xff\\xfeN\\x00o\\x00\n",
      "    Calculate the per-image standard deviation values for object measurements?:\\xff\\xfeN\\x00o\\x00\n",
      "    Output file location:\\xff\\xfeD\\x00e\\x00f\\x00a\\x00u\\x00l\\x00t\\x00 \\x00O\\x00u\\x00t\\x00p\\x00u\\x00t\\x00 \\x00F\\x00o\\x00l\\x00d\\x00e\\x00r\\x00\\x7C\\x00\n",
      "    Create a GenePattern GCT file?:\\xff\\xfeN\\x00o\\x00\n",
      "    Select source of sample row name:\\xff\\xfeM\\x00e\\x00t\\x00a\\x00d\\x00a\\x00t\\x00a\\x00\n",
      "    Select the image to use as the identifier:\\xff\\xfeN\\x00o\\x00n\\x00e\\x00\n",
      "    Select the metadata to use as the identifier:\\xff\\xfeN\\x00o\\x00n\\x00e\\x00\n",
      "    Export all measurement types?:\\xff\\xfeY\\x00e\\x00s\\x00\n",
      "    Press button to select measurements:\\xff\\xfe\n",
      "    Representation of Nan/Inf:\\xff\\xfeN\\x00a\\x00N\\x00\n",
      "    Add a prefix to file names?:\\xff\\xfeY\\x00e\\x00s\\x00\n",
      "    Filename prefix:\\xff\\xfee\\x00x\\x00p\\x00o\\x00r\\x00t\\x00_\\x00\n",
      "    Overwrite existing files without warning?:\\xff\\xfeY\\x00e\\x00s\\x00\n",
      "    Data to export:\\xff\\xfeD\\x00o\\x00 \\x00n\\x00o\\x00t\\x00 \\x00u\\x00s\\x00e\\x00\n",
      "    Combine these object measurements with those of the previous object?:\\xff\\xfeN\\x00o\\x00\n",
      "    File name:\\xff\\xfeD\\x00A\\x00T\\x00A\\x00.\\x00c\\x00s\\x00v\\x00\n",
      "    Use the object name for the file name?:\\xff\\xfeY\\x00e\\x00s\\x00\n"
     ]
    }
   ],
   "source": [
    "!cat /tmp/test.cppipe"
   ]
  },
  {
   "cell_type": "code",
   "execution_count": null,
   "metadata": {},
   "outputs": [],
   "source": [
    "pipeline.add_module()"
   ]
  }
 ],
 "metadata": {
  "kernelspec": {
   "display_name": "Python (CP)",
   "language": "python",
   "name": "cellprofiler"
  },
  "language_info": {
   "codemirror_mode": {
    "name": "ipython",
    "version": 2
   },
   "file_extension": ".py",
   "mimetype": "text/x-python",
   "name": "python",
   "nbconvert_exporter": "python",
   "pygments_lexer": "ipython2",
   "version": "2.7.16"
  }
 },
 "nbformat": 4,
 "nbformat_minor": 4
}
