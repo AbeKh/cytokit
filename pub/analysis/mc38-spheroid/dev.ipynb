{
 "cells": [
  {
   "cell_type": "markdown",
   "metadata": {},
   "source": [
    "## Custom Segmentation Algorithm Dev\n",
    "\n",
    "Notebook to build segmentation implementation ([spheroid_cytometer.py](spheroid_cytometer.py))."
   ]
  },
  {
   "cell_type": "code",
   "execution_count": 1,
   "metadata": {},
   "outputs": [],
   "source": [
    "import os\n",
    "import os.path as osp\n",
    "import numpy as np\n",
    "import matplotlib.pyplot as plt\n",
    "from skimage import feature\n",
    "from scipy import ndimage\n",
    "from skimage import feature\n",
    "from scipy import ndimage as ndi\n",
    "from skimage import morphology\n",
    "from skimage import filters\n",
    "from skimage import img_as_float32\n",
    "from cytokit.ops import cytometry as cytometer_op\n",
    "from cytokit.ops import tile_generator, tile_crop\n",
    "from cytokit import math as ck_math\n",
    "from cytokit import config as ck_config\n",
    "from itkwidgets import view\n",
    "%matplotlib inline\n",
    "%run spheroid_cytometer.py\n",
    "%run scripts/logging.py"
   ]
  },
  {
   "cell_type": "code",
   "execution_count": 2,
   "metadata": {},
   "outputs": [],
   "source": [
    "exp_name = '20190215-mc38-dmso-control'\n",
    "#exp_dir, tile_index = 'XY07', 0\n",
    "#exp_dir, tile_index = 'XY02', 0 # Example of ambiguous clump \n",
    "#exp_dir, tile_index = 'XY02', 4 # Very large clump\n",
    "#exp_dir, tile_index = 'XY02', 1\n",
    "exp_dir, tile_index = 'XY03', 2 # 4 clumps together\n",
    "# exp_dir, tile_index = 'XY03', 5 # A great example of a cell and two clumps all at different elevations\n",
    "#exp_dir, tile_index = 'XY03', 4 # 3 somewhat close spheroids\n",
    "data_dir = osp.join(os.environ['CYTOKIT_DATA_DIR'], 'cytokit', 'mc38-spheroid', exp_name, exp_dir, 'raw')\n",
    "config_dir = osp.join(os.environ['CYTOKIT_REPO_DIR'], 'pub', 'config', 'mc38-spheroid')\n",
    "config = ck_config.load(config_dir)\n",
    "os.environ['CYTOKIT_PATH_FORMATS'] = 'get_default_path_formats(\"1_' + exp_dir + '_{tile:05d}_Z{z:03d}_CH{channel:d}.tif\")'\n",
    "config.register_environment()"
   ]
  },
  {
   "cell_type": "code",
   "execution_count": 3,
   "metadata": {},
   "outputs": [],
   "source": [
    "tile_gen = tile_generator.CytokitTileGenerator(config, data_dir, 0, tile_index)\n",
    "tile_cropper = tile_crop.CytokitTileCrop(config)"
   ]
  },
  {
   "cell_type": "code",
   "execution_count": 4,
   "metadata": {},
   "outputs": [
    {
     "data": {
      "text/plain": [
       "((1, 26, 3, 1008, 1344), dtype('uint16'))"
      ]
     },
     "execution_count": 4,
     "metadata": {},
     "output_type": "execute_result"
    }
   ],
   "source": [
    "tile = tile_cropper.run(tile_gen.run())\n",
    "#tile = tile_gen.run()\n",
    "tile.shape, tile.dtype"
   ]
  },
  {
   "cell_type": "code",
   "execution_count": 5,
   "metadata": {},
   "outputs": [
    {
     "data": {
      "text/plain": [
       "((26, 504, 672), dtype('uint16'))"
      ]
     },
     "execution_count": 5,
     "metadata": {},
     "output_type": "execute_result"
    }
   ],
   "source": [
    "from skimage import transform\n",
    "img_lg = tile[0, :, 0]\n",
    "img = transform.rescale(img_lg, (1, .5, .5), multichannel=False, preserve_range=True, anti_aliasing=True, mode='reflect').astype(img_lg.dtype)\n",
    "img.shape, img.dtype"
   ]
  },
  {
   "cell_type": "markdown",
   "metadata": {},
   "source": [
    "### Debugging"
   ]
  },
  {
   "cell_type": "code",
   "execution_count": 51,
   "metadata": {},
   "outputs": [],
   "source": [
    "#view(img)"
   ]
  },
  {
   "cell_type": "code",
   "execution_count": 12,
   "metadata": {},
   "outputs": [],
   "source": [
    "\n",
    "# def flat_ball(r, rz):\n",
    "#     return np.stack([\n",
    "#         np.pad(morphology.disk(rz), r-rz, 'constant'),\n",
    "#         morphology.disk(r),\n",
    "#         np.pad(morphology.disk(rz), r-rz, 'constant'),\n",
    "#     ]).astype(bool)\n",
    "\n",
    "# def flat_cross(r, rz):\n",
    "#     return np.stack([\n",
    "#         np.pad(morphology.disk(rz), r-rz, 'constant'),\n",
    "#         morphology.disk(r),\n",
    "#         np.pad(morphology.disk(rz), r-rz, 'constant'),\n",
    "#     ]).astype(bool)\n",
    "\n",
    "# def prep(img):\n",
    "#     img = ndimage.median_filter(img, size=(1, 3, 3))\n",
    "#     img = img_as_float(img)\n",
    "#     return img\n",
    "\n",
    "# def segment(img):\n",
    "#     # Run small XY median filter to remove outliers (and convert to float)\n",
    "#     img = ndi.median_filter(img, size=(1, 3, 3))\n",
    "#     img = img_as_float(img)\n",
    "\n",
    "#     scalings = np.array([1./26.494136847515644, 1.0, 1.0])\n",
    "#     img1 = img - ndi.gaussian_filter(img, sigma=scalings*3, mode='reflect')\n",
    "#     img2 = ndi.grey_opening(img1, structure=flat_ball(15, 4))\n",
    "#     return img2\n",
    "#img_res = segment(img)"
   ]
  },
  {
   "cell_type": "code",
   "execution_count": 14,
   "metadata": {},
   "outputs": [],
   "source": [
    "#view(img_res.astype(np.float32))"
   ]
  },
  {
   "cell_type": "code",
   "execution_count": 28,
   "metadata": {},
   "outputs": [
    {
     "name": "stderr",
     "output_type": "stream",
     "text": [
      "2019-02-25 11:11:28,813:DEBUG:__main__: Cytometer initialized with sampling rates (26.494136847515644, 1.0, 1.0)\n",
      "2019-02-25 11:11:28,815:DEBUG:__main__: Rescaling sigma values with sampling factors = (0.0377442, 1.0, 1.0), resize factors = (1, 0.5, 0.5)\n",
      "2019-02-25 11:11:28,817:DEBUG:__main__: Reducing image XY dimensions by factor (1, 0.5, 0.5)\n",
      "2019-02-25 11:11:32,101:DEBUG:__main__: Running high pass filter (sigma = (0.0377442, 0.5, 0.5))\n",
      "2019-02-25 11:11:32,426:DEBUG:__main__: Computing gradients (sigma = (0.11323259999999999, 1.5, 1.5))\n",
      "2019-02-25 11:11:33,649:DEBUG:__main__: Computing gradient mask (threshold = 0.142578125)\n",
      "2019-02-25 11:11:33,659:DEBUG:__main__: Applying morphological smoothings to mask\n",
      "2019-02-25 11:11:39,983:DEBUG:__main__: Computing mask distance transform (sigma = (0.0754884, 1.0, 1.0), sampling = (26.494136847515644, 1.0, 1.0))\n",
      "2019-02-25 11:11:42,244:DEBUG:__main__: Finding local maxima (min peak dist = 75, max peaks = 75)\n",
      "2019-02-25 11:11:43,965:DEBUG:__main__: Running watershed transform (sampling = (26.494136847515644, 1.0, 1.0), num peaks = 6)\n",
      "2019-02-25 11:11:45,723:DEBUG:__main__: Rescaling results from shape (504, 672, 26, 9) back to (1008, 1344, 26, 9)\n"
     ]
    }
   ],
   "source": [
    "%run spheroid_cytometer.py\n",
    "\n",
    "zfac = 26.4941368475\n",
    "#ctm = SpheroidCytometer(config=None, sampling=(zfac, 1, 1))\n",
    "ctm = SpheroidCytometer(config=config)\n",
    "img_seg = ctm.segment(img_lg, include_intermediate_results=True, \n",
    "    rescaling=.5, sigmas=(1, 3, 2), min_peak_dist=75, basin_type='dist')"
   ]
  },
  {
   "cell_type": "code",
   "execution_count": 26,
   "metadata": {},
   "outputs": [],
   "source": [
    "# img_grad = img_seg[:, 4].copy().astype(np.float32)\n",
    "# img_grad = ndi.gaussian_filter(img_grad, sigma=np.array([1/26.494136847515644, 1., 1.])*24)\n",
    "# img_grad = (img_grad > filters.threshold_otsu(img_grad)).astype(np.float32)\n",
    "# view(img_grad)"
   ]
  },
  {
   "cell_type": "code",
   "execution_count": 29,
   "metadata": {},
   "outputs": [
    {
     "data": {
      "application/vnd.jupyter.widget-view+json": {
       "model_id": "960291fcac974790aeee954e5c3b8ace",
       "version_major": 2,
       "version_minor": 0
      },
      "text/plain": [
       "Viewer(gradient_opacity=0.22, rendered_image=<itkImagePython.itkImageF3; proxy of <Swig Object of type 'itkIma…"
      ]
     },
     "metadata": {},
     "output_type": "display_data"
    }
   ],
   "source": [
    "img0 = exposure.rescale_intensity(img_as_float(img_lg), out_range='float')\n",
    "img1 = exposure.rescale_intensity(img_as_float(img_seg[:, 2]), out_range='float')\n",
    "view(\n",
    "    (img0 + np.where(img1 > 0, 1.2 + .8*img1, 0)).astype(np.float32),\n",
    "    size_limit_3d=[1024, 1024, 1024]\n",
    ")"
   ]
  },
  {
   "cell_type": "code",
   "execution_count": null,
   "metadata": {},
   "outputs": [],
   "source": [
    "feature.peak_local_max()"
   ]
  },
  {
   "cell_type": "code",
   "execution_count": 8,
   "metadata": {},
   "outputs": [
    {
     "data": {
      "application/vnd.jupyter.widget-view+json": {
       "model_id": "231f80f756e940a29030ed57d456c0c7",
       "version_major": 2,
       "version_minor": 0
      },
      "text/plain": [
       "Viewer(gradient_opacity=0.22, rendered_image=<itkImagePython.itkImageF3; proxy of <Swig Object of type 'itkIma…"
      ]
     },
     "metadata": {},
     "output_type": "display_data"
    }
   ],
   "source": [
    "# Basin\n",
    "view(\n",
    "    img_seg[:, -3].astype(np.float32).copy(),\n",
    "    size_limit_3d=[1024, 1024, 1024]\n",
    ")"
   ]
  },
  {
   "cell_type": "code",
   "execution_count": 348,
   "metadata": {},
   "outputs": [
    {
     "data": {
      "application/vnd.jupyter.widget-view+json": {
       "model_id": "bcb70fd02b244f489cbcea09af569be6",
       "version_major": 2,
       "version_minor": 0
      },
      "text/plain": [
       "Viewer(gradient_opacity=0.22, rendered_image=<itkImagePython.itkImageF3; proxy of <Swig Object of type 'itkIma…"
      ]
     },
     "metadata": {},
     "output_type": "display_data"
    }
   ],
   "source": [
    "view(\n",
    "    img_seg[:, 0].astype(np.float32).copy(),\n",
    "    size_limit_3d=[1024, 1024, 1024]\n",
    ")"
   ]
  },
  {
   "cell_type": "code",
   "execution_count": 9,
   "metadata": {},
   "outputs": [
    {
     "name": "stderr",
     "output_type": "stream",
     "text": [
      "2019-02-24 12:43:43,714:DEBUG:__main__: Computing LoG image on channel \"BF\" (sigma = (0.0377442, 1.0, 1.0))\n",
      "2019-02-24 12:43:47,689:DEBUG:__main__: Appending LoG image and running quantification\n"
     ]
    },
    {
     "name": "stdout",
     "output_type": "stream",
     "text": [
      "<class 'pandas.core.frame.DataFrame'>\n",
      "RangeIndex: 48 entries, 0 to 47\n",
      "Data columns (total 18 columns):\n",
      "id                48 non-null int64\n",
      "x                 48 non-null float64\n",
      "y                 48 non-null float64\n",
      "z                 48 non-null int64\n",
      "cm:size           48 non-null int64\n",
      "cm:diameter       48 non-null float64\n",
      "cm:perimeter      48 non-null float64\n",
      "cm:solidity       48 non-null float64\n",
      "cm:circularity    48 non-null float64\n",
      "nm:size           48 non-null int64\n",
      "nm:diameter       48 non-null float64\n",
      "nm:perimeter      48 non-null float64\n",
      "nm:solidity       48 non-null float64\n",
      "nm:circularity    48 non-null float64\n",
      "ci:000:mean       48 non-null float64\n",
      "ci:001:mean       48 non-null float64\n",
      "ci:002:mean       48 non-null float64\n",
      "ci:003:mean       48 non-null float64\n",
      "dtypes: float64(14), int64(4)\n",
      "memory usage: 6.8 KB\n"
     ]
    }
   ],
   "source": [
    "df = ctm.quantify(tile, img_seg)\n",
    "df.info()"
   ]
  },
  {
   "cell_type": "code",
   "execution_count": 9,
   "metadata": {},
   "outputs": [],
   "source": [
    "# plt.imshow((img_bound.astype(np.float32) * .5 + img_as_float(img).astype(np.float32))[13])\n",
    "# plt.gcf().set_size_inches(24, 24)"
   ]
  },
  {
   "cell_type": "markdown",
   "metadata": {},
   "source": [
    "### Pipeline Dev"
   ]
  },
  {
   "cell_type": "code",
   "execution_count": 10,
   "metadata": {},
   "outputs": [],
   "source": [
    "op = cytometer_op.Cytometry2D(config)"
   ]
  },
  {
   "cell_type": "code",
   "execution_count": 11,
   "metadata": {},
   "outputs": [
    {
     "name": "stderr",
     "output_type": "stream",
     "text": [
      "2019-02-24 12:44:44,883:DEBUG:spheroid_cytometer: Cytometer initialized with sampling rates (26.494136847515644, 1.0, 1.0)\n"
     ]
    },
    {
     "data": {
      "text/plain": [
       "<cytokit.ops.cytometry.Cytometry2D at 0x7fb6c981b978>"
      ]
     },
     "execution_count": 11,
     "metadata": {},
     "output_type": "execute_result"
    }
   ],
   "source": [
    "op.initialize()"
   ]
  },
  {
   "cell_type": "code",
   "execution_count": 7,
   "metadata": {},
   "outputs": [],
   "source": [
    "# %%time\n",
    "# img_seg = op.cytometer.segment(tile[0, :, 0], rescale_factor=None, min_object_size=1024, min_peak_dist=200)\n",
    "# img_seg.shape"
   ]
  },
  {
   "cell_type": "code",
   "execution_count": 8,
   "metadata": {},
   "outputs": [
    {
     "name": "stdout",
     "output_type": "stream",
     "text": [
      "CPU times: user 1min 6s, sys: 11.7 s, total: 1min 17s\n",
      "Wall time: 1min 17s\n"
     ]
    }
   ],
   "source": [
    "%%time\n",
    "img_seg = op.cytometer.segment(tile[0, :, 0], rescale_factor=.5, min_object_size=512, min_peak_dist=75)\n",
    "img_seg.shape"
   ]
  },
  {
   "cell_type": "code",
   "execution_count": 9,
   "metadata": {},
   "outputs": [],
   "source": [
    "#view(img_seg[:, 5].astype(np.float32).copy())"
   ]
  },
  {
   "cell_type": "code",
   "execution_count": 10,
   "metadata": {},
   "outputs": [
    {
     "name": "stdout",
     "output_type": "stream",
     "text": [
      "CPU times: user 4min 4s, sys: 3.28 s, total: 4min 7s\n",
      "Wall time: 4min 7s\n"
     ]
    }
   ],
   "source": [
    "%%time\n",
    "stats = op.cytometer.quantify(tile, img_seg, sigma=(.1, 1, 1), channel_names=config.channel_names, \n",
    "                              cell_graph=True, morphology_features=False, \n",
    "                              cell_intensity=['mean', 'sum'])"
   ]
  },
  {
   "cell_type": "code",
   "execution_count": 11,
   "metadata": {},
   "outputs": [
    {
     "name": "stdout",
     "output_type": "stream",
     "text": [
      "<class 'pandas.core.frame.DataFrame'>\n",
      "RangeIndex: 371 entries, 0 to 370\n",
      "Data columns (total 26 columns):\n",
      "id                     371 non-null int64\n",
      "x                      371 non-null float64\n",
      "y                      371 non-null float64\n",
      "z                      371 non-null int64\n",
      "cm:size                371 non-null int64\n",
      "cm:diameter            371 non-null float64\n",
      "cm:perimeter           371 non-null float64\n",
      "cm:solidity            371 non-null float64\n",
      "cm:circularity         371 non-null float64\n",
      "nm:size                371 non-null int64\n",
      "nm:diameter            371 non-null float64\n",
      "nm:perimeter           371 non-null float64\n",
      "nm:solidity            371 non-null float64\n",
      "nm:circularity         371 non-null float64\n",
      "cg:n_neighbors         371 non-null int64\n",
      "cg:neighbor_ids        371 non-null object\n",
      "cg:adj_neighbor_pct    371 non-null object\n",
      "cg:adj_bg_pct          371 non-null object\n",
      "ci:BF:mean             371 non-null float64\n",
      "ci:LIVE:mean           371 non-null float64\n",
      "ci:DEAD:mean           371 non-null float64\n",
      "ci:laplofgauss:mean    371 non-null float64\n",
      "ci:BF:sum              371 non-null int64\n",
      "ci:LIVE:sum            371 non-null int64\n",
      "ci:DEAD:sum            371 non-null int64\n",
      "ci:laplofgauss:sum     371 non-null int64\n",
      "dtypes: float64(14), int64(9), object(3)\n",
      "memory usage: 75.4+ KB\n"
     ]
    }
   ],
   "source": [
    "stats.info()"
   ]
  },
  {
   "cell_type": "code",
   "execution_count": 12,
   "metadata": {},
   "outputs": [
    {
     "data": {
      "text/plain": [
       "23"
      ]
     },
     "execution_count": 12,
     "metadata": {},
     "output_type": "execute_result"
    }
   ],
   "source": [
    "stats['id'].nunique()"
   ]
  }
 ],
 "metadata": {
  "kernelspec": {
   "display_name": "Python 3",
   "language": "python",
   "name": "python3"
  },
  "language_info": {
   "codemirror_mode": {
    "name": "ipython",
    "version": 3
   },
   "file_extension": ".py",
   "mimetype": "text/x-python",
   "name": "python",
   "nbconvert_exporter": "python",
   "pygments_lexer": "ipython3",
   "version": "3.5.2"
  }
 },
 "nbformat": 4,
 "nbformat_minor": 2
}
