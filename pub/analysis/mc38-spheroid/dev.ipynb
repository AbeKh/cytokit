{
 "cells": [
  {
   "cell_type": "markdown",
   "metadata": {},
   "source": [
    "## Custom Segmentation Algorithm Dev\n",
    "\n",
    "Notebook to build segmentation implementation ([spheroid_cytometer.py](spheroid_cytometer.py))."
   ]
  },
  {
   "cell_type": "code",
   "execution_count": 1,
   "metadata": {},
   "outputs": [],
   "source": [
    "import os\n",
    "import os.path as osp\n",
    "import numpy as np\n",
    "import matplotlib.pyplot as plt\n",
    "from skimage import feature\n",
    "from scipy import ndimage\n",
    "from skimage import feature\n",
    "from scipy import ndimage\n",
    "from skimage import morphology\n",
    "from skimage import filters\n",
    "from skimage import img_as_float32\n",
    "from cytokit.ops import cytometry as cytometer_op\n",
    "from cytokit.ops import tile_generator, tile_crop\n",
    "from cytokit import math as ck_math\n",
    "from cytokit import config as ck_config\n",
    "from itkwidgets import view\n",
    "%matplotlib inline\n",
    "%run spheroid_cytometer.py\n",
    "%run logging.py"
   ]
  },
  {
   "cell_type": "code",
   "execution_count": 324,
   "metadata": {},
   "outputs": [],
   "source": [
    "exp_name = '20190215-mc38-dmso-control'\n",
    "#exp_dir, tile_index = 'XY07', 0\n",
    "#exp_dir, tile_index = 'XY02', 0\n",
    "#exp_dir, tile_index = 'XY03', 2 # 4 clumps together\n",
    "exp_dir, tile_index = 'XY03', 5 # A great example of a cell and two clumps all at different elevations\n",
    "#exp_dir, tile_index = 'XY03', 4 # 3 somewhat close spheroids\n",
    "data_dir = osp.join(os.environ['CYTOKIT_DATA_DIR'], 'cytokit', 'mc38-spheroid', exp_name, exp_dir, 'raw')\n",
    "config_dir = osp.join(os.environ['CYTOKIT_REPO_DIR'], 'pub', 'config', 'mc38-spheroid')\n",
    "config = ck_config.load(config_dir)\n",
    "os.environ['CYTOKIT_PATH_FORMATS'] = 'get_default_path_formats(\"1_' + exp_dir + '_{tile:05d}_Z{z:03d}_CH{channel:d}.tif\")'\n",
    "config.register_environment()"
   ]
  },
  {
   "cell_type": "code",
   "execution_count": 325,
   "metadata": {},
   "outputs": [],
   "source": [
    "tile_gen = tile_generator.CytokitTileGenerator(config, data_dir, 0, tile_index)\n",
    "tile_cropper = tile_crop.CytokitTileCrop(config)"
   ]
  },
  {
   "cell_type": "code",
   "execution_count": null,
   "metadata": {},
   "outputs": [],
   "source": [
    "tile = tile_cropper.run(tile_gen.run())\n",
    "#tile = tile_gen.run()\n",
    "tile.shape, tile.dtype"
   ]
  },
  {
   "cell_type": "code",
   "execution_count": null,
   "metadata": {},
   "outputs": [],
   "source": [
    "from skimage import transform\n",
    "img_lg = tile[0, :, 0]\n",
    "img = transform.rescale(img_lg, (1, .5, .5), multichannel=False, preserve_range=True, anti_aliasing=True, mode='reflect').astype(img_lg.dtype)\n",
    "img.shape, img.dtype"
   ]
  },
  {
   "cell_type": "markdown",
   "metadata": {},
   "source": [
    "### Debugging"
   ]
  },
  {
   "cell_type": "code",
   "execution_count": 292,
   "metadata": {},
   "outputs": [],
   "source": [
    "#view(img)"
   ]
  },
  {
   "cell_type": "code",
   "execution_count": 293,
   "metadata": {},
   "outputs": [],
   "source": [
    "\n",
    "# def flat_ball(r, rz):\n",
    "#     return np.stack([\n",
    "#         np.pad(morphology.disk(rz), r-rz, 'constant'),\n",
    "#         morphology.disk(r),\n",
    "#         np.pad(morphology.disk(rz), r-rz, 'constant'),\n",
    "#     ])\n",
    "\n",
    "# def prep(img):\n",
    "#     img = ndimage.median_filter(img, size=(1, 3, 3))\n",
    "#     img = img_as_float(img)\n",
    "#     return img\n",
    "\n",
    "# #gimage = standardize(img_prep, 16)\n",
    "# #gimage = exposure.rescale_intensity(gimage, out_range=(0, 1))\n",
    "# gimage = prep(img)\n",
    "\n",
    "# gimage = gimage - ndimage.gaussian_filter(gimage, sigma=(.1, 1, 1), mode='reflect')\n",
    "# #gimage = gimage - ndimage.gaussian_filter(gimage, sigma=(0, 16, 16), mode='reflect')\n",
    "# gimage = exposure.rescale_intensity(gimage, out_range=(0, 1))\n",
    "# gimage = ndimage.generic_gradient_magnitude(gimage, ndimage.sobel)\n",
    "# print(gimage.min(), gimage.max(), len(np.unique(gimage)))\n",
    "# gimage = ndimage.gaussian_filter(gimage, sigma=(.2, 2, 2), mode='constant')\n",
    "# #gimage = np.stack([filters.sobel(gimage[i]) for i in range(gimage.shape[0])])\n",
    "# gimage = exposure.rescale_intensity(gimage, out_range=(0, 1))\n",
    "# print(gimage.min(), gimage.max(), len(np.unique(gimage)))\n",
    "\n",
    "# #mimage = gimage > filters.threshold_otsu(gimage)\n",
    "# mimage = gimage > filters.threshold_li(gimage)\n",
    "\n",
    "# selem = ndimage.generate_binary_structure(3, 1)\n",
    "# selem[0] = False\n",
    "# selem[2] = False\n",
    "# mimage = ndimage.binary_closing(mimage, structure=selem, iterations=1)\n",
    "# #mimage = ndimage.binary_closing(mimage, structure=ndimage.generate_binary_structure(3, 3), iterations=3)\n",
    "# #mimage = np.stack([morphology.binary_closing(mimage[i]) for i in range(mimage.shape[0])])\n",
    "# mimage = ndimage.binary_fill_holes(mimage, structure=selem)\n",
    "# mimage = morphology.remove_small_objects(mimage, min_size=512)\n",
    "# limage, nlabel = ndimage.label(mimage)\n",
    "# print('Num objects:', nlabel)\n",
    "\n",
    "# dimage = ndimage.distance_transform_edt(mimage, sampling=(10, 1, 1))\n",
    "# dimage = ndimage.gaussian_filter(dimage, sigma=(.5, 5, 5), mode='constant')\n",
    "\n",
    "# pimage = feature.peak_local_max(dimage, exclude_border=False, min_distance=100, indices=False, labels=limage)\n",
    "# pimage = ndimage.label(pimage)[0]\n",
    "# #pimage = ndimage.binary_dilation(pimage, iterations=3)\n",
    "\n",
    "# simage = segmentation.watershed(-dimage, pimage, mask=mimage)\n"
   ]
  },
  {
   "cell_type": "code",
   "execution_count": null,
   "metadata": {},
   "outputs": [],
   "source": [
    "%run spheroid_cytometer.py\n",
    "# img_seg = SpheroidCytometer.segment(None, img_lg, include_intermediate_results=True, \n",
    "#     rescale_factor=None, sigmas=(1, 2, 5), z_sample_factor=.1, min_object_size=1024, min_peak_dist=100)\n",
    "img_seg = SpheroidCytometer.segment(None, img_lg, include_intermediate_results=True, \n",
    "    rescale_factor=.5, sigmas=(.5, 1.5, 1), z_sample_factor=.01, min_object_size=int(1024/8), min_peak_dist=50)\n",
    "# img_seg = SpheroidCytometer.segment(None, img_lg, include_intermediate_results=True, \n",
    "#                                     rescale_factor=.5, sigmas=(1, 8, 4), z_sample_factor=.01, min_object_size=1024, min_peak_dist=25)\n",
    "#img_seg = SpheroidCytometer.segment(None, img_lg, rescale_factor=None, sigmas=(1, 1, 16), z_sample_factor=.1, min_object_size=1024, min_peak_dist=150)\n",
    "simage = img_seg[:, 0]\n",
    "simage.shape, simage.dtype"
   ]
  },
  {
   "cell_type": "code",
   "execution_count": 322,
   "metadata": {},
   "outputs": [
    {
     "data": {
      "application/vnd.jupyter.widget-view+json": {
       "model_id": "12621764dcba4b0ba7854209c219dd9b",
       "version_major": 2,
       "version_minor": 0
      },
      "text/plain": [
       "Viewer(gradient_opacity=0.22, rendered_image=<itkImagePython.itkImageF3; proxy of <Swig Object of type 'itkIma…"
      ]
     },
     "metadata": {},
     "output_type": "display_data"
    }
   ],
   "source": [
    "view(img_seg[:, -1].astype(np.float32).copy())"
   ]
  },
  {
   "cell_type": "code",
   "execution_count": 279,
   "metadata": {},
   "outputs": [
    {
     "data": {
      "application/vnd.jupyter.widget-view+json": {
       "model_id": "4b1273fe4e3d4a198a0d6b64de9f0aa7",
       "version_major": 2,
       "version_minor": 0
      },
      "text/plain": [
       "Viewer(gradient_opacity=0.22, rendered_image=<itkImagePython.itkImageF3; proxy of <Swig Object of type 'itkIma…"
      ]
     },
     "metadata": {},
     "output_type": "display_data"
    }
   ],
   "source": [
    "view(\n",
    "    img_as_float32(simage.copy()),\n",
    "    size_limit_3d=[1024, 1024, 1024],\n",
    "    #size_limit_2d=[1024, 1024]\n",
    ")"
   ]
  },
  {
   "cell_type": "code",
   "execution_count": null,
   "metadata": {},
   "outputs": [],
   "source": [
    "img0 = img_lg\n",
    "img1 = np.stack([segmentation.find_boundaries(img_seg[i, 0], mode='inner') for i in range(img_seg.shape[0])])\n",
    "img2 = np.stack([segmentation.find_boundaries(img_seg[i, 1], mode='inner') for i in range(img_seg.shape[0])])\n",
    "\n",
    "view(\n",
    "    (img_as_float(img0) + (1+img_as_float(img1)) + (5+img_as_float(img2))).astype(np.float32),\n",
    "    size_limit_3d=[1024, 1024, 1024],\n",
    "    #size_limit_2d=[1024, 1024]\n",
    ")"
   ]
  },
  {
   "cell_type": "code",
   "execution_count": 206,
   "metadata": {},
   "outputs": [
    {
     "ename": "NameError",
     "evalue": "name 'img_bound' is not defined",
     "output_type": "error",
     "traceback": [
      "\u001b[0;31m---------------------------------------------------------------------------\u001b[0m",
      "\u001b[0;31mNameError\u001b[0m                                 Traceback (most recent call last)",
      "\u001b[0;32m<ipython-input-206-8968b4887b7f>\u001b[0m in \u001b[0;36m<module>\u001b[0;34m()\u001b[0m\n\u001b[0;32m----> 1\u001b[0;31m \u001b[0mplt\u001b[0m\u001b[0;34m.\u001b[0m\u001b[0mimshow\u001b[0m\u001b[0;34m(\u001b[0m\u001b[0;34m(\u001b[0m\u001b[0mimg_bound\u001b[0m\u001b[0;34m.\u001b[0m\u001b[0mastype\u001b[0m\u001b[0;34m(\u001b[0m\u001b[0mnp\u001b[0m\u001b[0;34m.\u001b[0m\u001b[0mfloat32\u001b[0m\u001b[0;34m)\u001b[0m \u001b[0;34m*\u001b[0m \u001b[0;36m.5\u001b[0m \u001b[0;34m+\u001b[0m \u001b[0mimg_as_float\u001b[0m\u001b[0;34m(\u001b[0m\u001b[0mimg\u001b[0m\u001b[0;34m)\u001b[0m\u001b[0;34m.\u001b[0m\u001b[0mastype\u001b[0m\u001b[0;34m(\u001b[0m\u001b[0mnp\u001b[0m\u001b[0;34m.\u001b[0m\u001b[0mfloat32\u001b[0m\u001b[0;34m)\u001b[0m\u001b[0;34m)\u001b[0m\u001b[0;34m[\u001b[0m\u001b[0;36m13\u001b[0m\u001b[0;34m]\u001b[0m\u001b[0;34m)\u001b[0m\u001b[0;34m\u001b[0m\u001b[0m\n\u001b[0m\u001b[1;32m      2\u001b[0m \u001b[0mplt\u001b[0m\u001b[0;34m.\u001b[0m\u001b[0mgcf\u001b[0m\u001b[0;34m(\u001b[0m\u001b[0;34m)\u001b[0m\u001b[0;34m.\u001b[0m\u001b[0mset_size_inches\u001b[0m\u001b[0;34m(\u001b[0m\u001b[0;36m24\u001b[0m\u001b[0;34m,\u001b[0m \u001b[0;36m24\u001b[0m\u001b[0;34m)\u001b[0m\u001b[0;34m\u001b[0m\u001b[0m\n",
      "\u001b[0;31mNameError\u001b[0m: name 'img_bound' is not defined"
     ]
    }
   ],
   "source": [
    "plt.imshow((img_bound.astype(np.float32) * .5 + img_as_float(img).astype(np.float32))[13])\n",
    "plt.gcf().set_size_inches(24, 24)"
   ]
  },
  {
   "cell_type": "markdown",
   "metadata": {},
   "source": [
    "### Pipeline Dev"
   ]
  },
  {
   "cell_type": "code",
   "execution_count": 5,
   "metadata": {},
   "outputs": [],
   "source": [
    "op = cytometer_op.Cytometry2D(config)"
   ]
  },
  {
   "cell_type": "code",
   "execution_count": 6,
   "metadata": {},
   "outputs": [
    {
     "data": {
      "text/plain": [
       "<cytokit.ops.cytometry.Cytometry2D at 0x7f2947803908>"
      ]
     },
     "execution_count": 6,
     "metadata": {},
     "output_type": "execute_result"
    }
   ],
   "source": [
    "op.initialize()"
   ]
  },
  {
   "cell_type": "code",
   "execution_count": 7,
   "metadata": {},
   "outputs": [],
   "source": [
    "# %%time\n",
    "# img_seg = op.cytometer.segment(tile[0, :, 0], rescale_factor=None, min_object_size=1024, min_peak_dist=200)\n",
    "# img_seg.shape"
   ]
  },
  {
   "cell_type": "code",
   "execution_count": 8,
   "metadata": {},
   "outputs": [
    {
     "name": "stdout",
     "output_type": "stream",
     "text": [
      "CPU times: user 1min 6s, sys: 11.7 s, total: 1min 17s\n",
      "Wall time: 1min 17s\n"
     ]
    }
   ],
   "source": [
    "%%time\n",
    "img_seg = op.cytometer.segment(tile[0, :, 0], rescale_factor=.5, min_object_size=512, min_peak_dist=75)\n",
    "img_seg.shape"
   ]
  },
  {
   "cell_type": "code",
   "execution_count": 9,
   "metadata": {},
   "outputs": [],
   "source": [
    "#view(img_seg[:, 5].astype(np.float32).copy())"
   ]
  },
  {
   "cell_type": "code",
   "execution_count": 10,
   "metadata": {},
   "outputs": [
    {
     "name": "stdout",
     "output_type": "stream",
     "text": [
      "CPU times: user 4min 4s, sys: 3.28 s, total: 4min 7s\n",
      "Wall time: 4min 7s\n"
     ]
    }
   ],
   "source": [
    "%%time\n",
    "stats = op.cytometer.quantify(tile, img_seg, sigma=(.1, 1, 1), channel_names=config.channel_names, \n",
    "                              cell_graph=True, morphology_features=False, \n",
    "                              cell_intensity=['mean', 'sum'])"
   ]
  },
  {
   "cell_type": "code",
   "execution_count": 11,
   "metadata": {},
   "outputs": [
    {
     "name": "stdout",
     "output_type": "stream",
     "text": [
      "<class 'pandas.core.frame.DataFrame'>\n",
      "RangeIndex: 371 entries, 0 to 370\n",
      "Data columns (total 26 columns):\n",
      "id                     371 non-null int64\n",
      "x                      371 non-null float64\n",
      "y                      371 non-null float64\n",
      "z                      371 non-null int64\n",
      "cm:size                371 non-null int64\n",
      "cm:diameter            371 non-null float64\n",
      "cm:perimeter           371 non-null float64\n",
      "cm:solidity            371 non-null float64\n",
      "cm:circularity         371 non-null float64\n",
      "nm:size                371 non-null int64\n",
      "nm:diameter            371 non-null float64\n",
      "nm:perimeter           371 non-null float64\n",
      "nm:solidity            371 non-null float64\n",
      "nm:circularity         371 non-null float64\n",
      "cg:n_neighbors         371 non-null int64\n",
      "cg:neighbor_ids        371 non-null object\n",
      "cg:adj_neighbor_pct    371 non-null object\n",
      "cg:adj_bg_pct          371 non-null object\n",
      "ci:BF:mean             371 non-null float64\n",
      "ci:LIVE:mean           371 non-null float64\n",
      "ci:DEAD:mean           371 non-null float64\n",
      "ci:laplofgauss:mean    371 non-null float64\n",
      "ci:BF:sum              371 non-null int64\n",
      "ci:LIVE:sum            371 non-null int64\n",
      "ci:DEAD:sum            371 non-null int64\n",
      "ci:laplofgauss:sum     371 non-null int64\n",
      "dtypes: float64(14), int64(9), object(3)\n",
      "memory usage: 75.4+ KB\n"
     ]
    }
   ],
   "source": [
    "stats.info()"
   ]
  },
  {
   "cell_type": "code",
   "execution_count": 12,
   "metadata": {},
   "outputs": [
    {
     "data": {
      "text/plain": [
       "23"
      ]
     },
     "execution_count": 12,
     "metadata": {},
     "output_type": "execute_result"
    }
   ],
   "source": [
    "stats['id'].nunique()"
   ]
  }
 ],
 "metadata": {
  "kernelspec": {
   "display_name": "Python 3",
   "language": "python",
   "name": "python3"
  },
  "language_info": {
   "codemirror_mode": {
    "name": "ipython",
    "version": 3
   },
   "file_extension": ".py",
   "mimetype": "text/x-python",
   "name": "python",
   "nbconvert_exporter": "python",
   "pygments_lexer": "ipython3",
   "version": "3.5.2"
  }
 },
 "nbformat": 4,
 "nbformat_minor": 2
}
