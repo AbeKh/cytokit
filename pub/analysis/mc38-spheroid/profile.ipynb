{
 "cells": [
  {
   "cell_type": "markdown",
   "metadata": {},
   "source": [
    "## Custom Segmentation Algorithm Profling\n",
    "\n",
    "Notebook to profile segmentation implementation ([spheroid_cytometer.py](spheroid_cytometer.py)) for performance deficiencies."
   ]
  },
  {
   "cell_type": "code",
   "execution_count": 1,
   "metadata": {},
   "outputs": [],
   "source": [
    "%matplotlib inline\n",
    "%run spheroid_cytometer.py\n",
    "import os\n",
    "import os.path as osp\n",
    "import numpy as np\n",
    "import matplotlib.pyplot as plt\n",
    "from skimage import feature\n",
    "from scipy import ndimage\n",
    "from skimage import feature\n",
    "from scipy import ndimage\n",
    "from skimage import morphology\n",
    "from skimage import filters\n",
    "from cytokit.ops import cytometry as cytometer_op\n",
    "from cytokit.ops import tile_generator\n",
    "from cytokit import math as ck_math\n",
    "from cytokit import config as ck_config\n",
    "from itkwidgets import view"
   ]
  },
  {
   "cell_type": "code",
   "execution_count": 2,
   "metadata": {},
   "outputs": [],
   "source": [
    "exp_name = '20190215-mc38-dmso-control'\n",
    "exp_dir = 'XY07'\n",
    "data_dir = osp.join(os.environ['CYTOKIT_DATA_DIR'], 'cytokit', 'mc38-spheroid', exp_name, exp_dir, 'raw')\n",
    "config_dir = osp.join(os.environ['CYTOKIT_REPO_DIR'], 'pub', 'config', 'mc38-spheroid')\n",
    "config = ck_config.load(config_dir)\n",
    "os.environ['CYTOKIT_PATH_FORMATS'] = 'get_default_path_formats(\"1_' + exp_dir + '_{tile:05d}_Z{z:03d}_CH{channel:d}.tif\")'\n",
    "config.register_environment()"
   ]
  },
  {
   "cell_type": "code",
   "execution_count": 3,
   "metadata": {},
   "outputs": [],
   "source": [
    "tile_gen = tile_generator.CytokitTileGenerator(config, data_dir, 0, 4)"
   ]
  },
  {
   "cell_type": "code",
   "execution_count": null,
   "metadata": {},
   "outputs": [],
   "source": [
    "tile = tile_gen.run()\n",
    "tile.shape"
   ]
  },
  {
   "cell_type": "code",
   "execution_count": 19,
   "metadata": {},
   "outputs": [
    {
     "data": {
      "text/plain": [
       "((26, 1440, 1920), dtype('uint16'))"
      ]
     },
     "execution_count": 19,
     "metadata": {},
     "output_type": "execute_result"
    }
   ],
   "source": [
    "from skimage import transform\n",
    "img = tile[0, :, 0]\n",
    "#img = transform.rescale(img, (1, .5, .5), multichannel=False, preserve_range=True, anti_aliasing=True, mode='reflect').astype(img.dtype)\n",
    "img.shape, img.dtype"
   ]
  },
  {
   "cell_type": "markdown",
   "metadata": {},
   "source": [
    "### Debugging"
   ]
  },
  {
   "cell_type": "code",
   "execution_count": 20,
   "metadata": {},
   "outputs": [
    {
     "data": {
      "application/vnd.jupyter.widget-view+json": {
       "model_id": "156777e84e4e49ecb79475fd4e9a572b",
       "version_major": 2,
       "version_minor": 0
      },
      "text/plain": [
       "Viewer(gradient_opacity=0.22, rendered_image=<itkImagePython.itkImageUS3; proxy of <Swig Object of type 'itkIm…"
      ]
     },
     "metadata": {},
     "output_type": "display_data"
    }
   ],
   "source": [
    "view(img)"
   ]
  },
  {
   "cell_type": "code",
   "execution_count": 777,
   "metadata": {},
   "outputs": [
    {
     "name": "stdout",
     "output_type": "stream",
     "text": [
      "0.00025709607953490157 7.499200406210606 17971200\n",
      "0.0 1.0 17971200\n",
      "Num objects: 33\n"
     ]
    }
   ],
   "source": [
    "\n",
    "def flat_ball(r, rz):\n",
    "    return np.stack([\n",
    "        np.pad(morphology.disk(rz), r-rz, 'constant'),\n",
    "        morphology.disk(r),\n",
    "        np.pad(morphology.disk(rz), r-rz, 'constant'),\n",
    "    ])\n",
    "\n",
    "def prep(img):\n",
    "    img = ndimage.median_filter(img, size=(1, 3, 3))\n",
    "    img = img_as_float(img)\n",
    "    return img\n",
    "\n",
    "#gimage = standardize(img_prep, 16)\n",
    "#gimage = exposure.rescale_intensity(gimage, out_range=(0, 1))\n",
    "gimage = prep(img)\n",
    "\n",
    "gimage = gimage - ndimage.gaussian_filter(gimage, sigma=(.1, 1, 1), mode='reflect')\n",
    "#gimage = gimage - ndimage.gaussian_filter(gimage, sigma=(0, 16, 16), mode='reflect')\n",
    "gimage = exposure.rescale_intensity(gimage, out_range=(0, 1))\n",
    "gimage = ndimage.generic_gradient_magnitude(gimage, ndimage.sobel)\n",
    "print(gimage.min(), gimage.max(), len(np.unique(gimage)))\n",
    "gimage = ndimage.gaussian_filter(gimage, sigma=(.2, 2, 2), mode='constant')\n",
    "#gimage = np.stack([filters.sobel(gimage[i]) for i in range(gimage.shape[0])])\n",
    "gimage = exposure.rescale_intensity(gimage, out_range=(0, 1))\n",
    "print(gimage.min(), gimage.max(), len(np.unique(gimage)))\n",
    "mimage = gimage > filters.threshold_otsu(gimage)\n",
    "\n",
    "selem = ndimage.generate_binary_structure(3, 1)\n",
    "selem[0] = False\n",
    "selem[2] = False\n",
    "mimage = ndimage.binary_closing(mimage, structure=selem, iterations=1)\n",
    "mimage = ndimage.binary_fill_holes(mimage, structure=selem)\n",
    "mimage = morphology.remove_small_objects(mimage, min_size=512)\n",
    "limage, nlabel = ndimage.label(mimage)\n",
    "print('Num objects:', nlabel)\n",
    "\n",
    "dimage = ndimage.distance_transform_edt(mimage, sampling=(10, 1, 1))\n",
    "dimage = ndimage.gaussian_filter(dimage, sigma=(.5, 5, 5), mode='constant')\n",
    "\n",
    "pimage = feature.peak_local_max(dimage, exclude_border=False, min_distance=100, indices=False, labels=limage)\n",
    "pimage = ndimage.label(pimage)[0]\n",
    "#pimage = ndimage.binary_dilation(pimage, iterations=3)\n",
    "\n",
    "simage = segmentation.watershed(-dimage, pimage, mask=mimage)\n"
   ]
  },
  {
   "cell_type": "code",
   "execution_count": 778,
   "metadata": {},
   "outputs": [
    {
     "data": {
      "text/plain": [
       "33"
      ]
     },
     "execution_count": 778,
     "metadata": {},
     "output_type": "execute_result"
    }
   ],
   "source": [
    "nlabel"
   ]
  },
  {
   "cell_type": "code",
   "execution_count": 779,
   "metadata": {},
   "outputs": [
    {
     "data": {
      "text/plain": [
       "(0.0, 1.0, 17971200)"
      ]
     },
     "execution_count": 779,
     "metadata": {},
     "output_type": "execute_result"
    }
   ],
   "source": [
    "#gimage = exposure.rescale_intensity(gimage.astype(np.float32), (0, 1))\n",
    "gimage.min(), gimage.max(), len(np.unique(gimage))"
   ]
  },
  {
   "cell_type": "code",
   "execution_count": 780,
   "metadata": {},
   "outputs": [
    {
     "data": {
      "text/plain": [
       "(0, 33)"
      ]
     },
     "execution_count": 780,
     "metadata": {},
     "output_type": "execute_result"
    }
   ],
   "source": [
    "simage.min(), simage.max()"
   ]
  },
  {
   "cell_type": "code",
   "execution_count": 781,
   "metadata": {},
   "outputs": [
    {
     "data": {
      "application/vnd.jupyter.widget-view+json": {
       "model_id": "1f72d4977cfe4a3ab5034e842226f9e9",
       "version_major": 2,
       "version_minor": 0
      },
      "text/plain": [
       "Viewer(gradient_opacity=0.22, rendered_image=<itkImagePython.itkImageF3; proxy of <Swig Object of type 'itkIma…"
      ]
     },
     "metadata": {},
     "output_type": "display_data"
    }
   ],
   "source": [
    "#view(dimage.astype(np.float32))\n",
    "view(simage.astype(np.float32))"
   ]
  },
  {
   "cell_type": "code",
   "execution_count": 604,
   "metadata": {},
   "outputs": [
    {
     "data": {
      "application/vnd.jupyter.widget-view+json": {
       "model_id": "88773be04c5e4edeaedff06c10bc4afa",
       "version_major": 2,
       "version_minor": 0
      },
      "text/plain": [
       "Viewer(gradient_opacity=0.22, rendered_image=<itkImagePython.itkImageF3; proxy of <Swig Object of type 'itkIma…"
      ]
     },
     "metadata": {},
     "output_type": "display_data"
    }
   ],
   "source": [
    "img_bound = np.stack([segmentation.find_boundaries(gimage[i]) for i in range(gimage.shape[0])])\n",
    "view(img_bound.astype(np.float32) * .5 + img_as_float(img).astype(np.float32))"
   ]
  },
  {
   "cell_type": "markdown",
   "metadata": {},
   "source": [
    "### Profiling"
   ]
  },
  {
   "cell_type": "code",
   "execution_count": null,
   "metadata": {},
   "outputs": [],
   "source": [
    "op = cytometer_op.Cytometry2D(config)"
   ]
  },
  {
   "cell_type": "code",
   "execution_count": null,
   "metadata": {},
   "outputs": [],
   "source": [
    "op.initialize()"
   ]
  },
  {
   "cell_type": "code",
   "execution_count": null,
   "metadata": {},
   "outputs": [],
   "source": [
    "# %%time\n",
    "# img_seg = op.cytometer.segment(tile[0, :, 0], rescale_factor=None, min_object_size=1024, min_peak_dist=200)\n",
    "# img_seg.shape"
   ]
  },
  {
   "cell_type": "code",
   "execution_count": null,
   "metadata": {},
   "outputs": [],
   "source": [
    "%%time\n",
    "img_seg = op.cytometer.segment(tile[0, :, 0], rescale_factor=.5, min_object_size=512, min_peak_dist=75)\n",
    "img_seg.shape"
   ]
  },
  {
   "cell_type": "code",
   "execution_count": 8,
   "metadata": {},
   "outputs": [],
   "source": [
    "#view(img_seg[:, 5].astype(np.float32).copy())"
   ]
  },
  {
   "cell_type": "code",
   "execution_count": 10,
   "metadata": {},
   "outputs": [
    {
     "name": "stdout",
     "output_type": "stream",
     "text": [
      "CPU times: user 4min 23s, sys: 1.87 s, total: 4min 25s\n",
      "Wall time: 4min 25s\n"
     ]
    }
   ],
   "source": [
    "%%time\n",
    "stats = op.cytometer.quantify(tile, img_seg, channel_names=config.channel_names, \n",
    "                              cell_graph=True, morphology_features=False, \n",
    "                              cell_intensity=['mean', 'sum'])"
   ]
  },
  {
   "cell_type": "code",
   "execution_count": 11,
   "metadata": {},
   "outputs": [
    {
     "name": "stdout",
     "output_type": "stream",
     "text": [
      "<class 'pandas.core.frame.DataFrame'>\n",
      "RangeIndex: 371 entries, 0 to 370\n",
      "Data columns (total 26 columns):\n",
      "id                     371 non-null int64\n",
      "x                      371 non-null float64\n",
      "y                      371 non-null float64\n",
      "z                      371 non-null int64\n",
      "cm:size                371 non-null int64\n",
      "cm:diameter            371 non-null float64\n",
      "cm:perimeter           371 non-null float64\n",
      "cm:solidity            371 non-null float64\n",
      "cm:circularity         371 non-null float64\n",
      "nm:size                371 non-null int64\n",
      "nm:diameter            371 non-null float64\n",
      "nm:perimeter           371 non-null float64\n",
      "nm:solidity            371 non-null float64\n",
      "nm:circularity         371 non-null float64\n",
      "cg:n_neighbors         371 non-null int64\n",
      "cg:neighbor_ids        371 non-null object\n",
      "cg:adj_neighbor_pct    371 non-null object\n",
      "cg:adj_bg_pct          371 non-null object\n",
      "ci:BF:mean             371 non-null float64\n",
      "ci:LIVE:mean           371 non-null float64\n",
      "ci:DEAD:mean           371 non-null float64\n",
      "ci:laplofgauss:mean    371 non-null float64\n",
      "ci:BF:sum              371 non-null int64\n",
      "ci:LIVE:sum            371 non-null int64\n",
      "ci:DEAD:sum            371 non-null int64\n",
      "ci:laplofgauss:sum     371 non-null int64\n",
      "dtypes: float64(14), int64(9), object(3)\n",
      "memory usage: 75.4+ KB\n"
     ]
    }
   ],
   "source": [
    "stats.info()"
   ]
  },
  {
   "cell_type": "code",
   "execution_count": 12,
   "metadata": {},
   "outputs": [
    {
     "data": {
      "text/plain": [
       "23"
      ]
     },
     "execution_count": 12,
     "metadata": {},
     "output_type": "execute_result"
    }
   ],
   "source": [
    "stats['id'].nunique()"
   ]
  },
  {
   "cell_type": "code",
   "execution_count": 15,
   "metadata": {},
   "outputs": [],
   "source": [
    "#!pip install line_profiler\n",
    "%load_ext line_profiler"
   ]
  },
  {
   "cell_type": "code",
   "execution_count": 18,
   "metadata": {},
   "outputs": [
    {
     "data": {
      "text/plain": [
       "Timer unit: 1e-06 s\n",
       "\n",
       "Total time: 265.727 s\n",
       "File: /lab/repos/cytokit/pub/analysis/mc38-spheroid/spheroid_cytometer.py\n",
       "Function: quantify at line 131\n",
       "\n",
       "Line #      Hits         Time  Per Hit   % Time  Line Contents\n",
       "==============================================================\n",
       "   131"
      ]
     },
     "metadata": {},
     "output_type": "display_data"
    }
   ],
   "source": [
    "%lprun -f op.cytometer.quantify stats = op.cytometer.quantify(tile, img_seg, channel_names=config.channel_names, cell_graph=True, morphology_features=False, cell_intensity=['mean', 'sum'])\n",
    "#%lprun -f op.cytometer.segment img_seg = op.cytometer.segment(tile[0, :, 0])"
   ]
  }
 ],
 "metadata": {
  "kernelspec": {
   "display_name": "Python 3",
   "language": "python",
   "name": "python3"
  },
  "language_info": {
   "codemirror_mode": {
    "name": "ipython",
    "version": 3
   },
   "file_extension": ".py",
   "mimetype": "text/x-python",
   "name": "python",
   "nbconvert_exporter": "python",
   "pygments_lexer": "ipython3",
   "version": "3.5.2"
  }
 },
 "nbformat": 4,
 "nbformat_minor": 2
}
