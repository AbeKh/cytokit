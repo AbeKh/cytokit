{
 "cells": [
  {
   "cell_type": "markdown",
   "metadata": {},
   "source": [
    "## Custom Segmentation Algorithm Profling\n",
    "\n",
    "Notebook to profile segmentation implementation ([spheroid_cytometer.py](spheroid_cytometer.py)) for performance deficiencies."
   ]
  },
  {
   "cell_type": "code",
   "execution_count": 1,
   "metadata": {},
   "outputs": [],
   "source": [
    "%matplotlib inline\n",
    "%run spheroid_cytometer.py\n",
    "import os\n",
    "import os.path as osp\n",
    "import numpy as np\n",
    "import matplotlib.pyplot as plt\n",
    "from skimage import feature\n",
    "from scipy import ndimage\n",
    "from skimage import feature\n",
    "from scipy import ndimage\n",
    "from skimage import morphology\n",
    "from skimage import filters\n",
    "from cytokit.ops import cytometry as cytometer_op\n",
    "from cytokit.ops import tile_generator\n",
    "from cytokit import math as ck_math\n",
    "from cytokit import config as ck_config\n",
    "from itkwidgets import view"
   ]
  },
  {
   "cell_type": "code",
   "execution_count": 2,
   "metadata": {},
   "outputs": [],
   "source": [
    "exp_name = '20190215-mc38-dmso-control'\n",
    "exp_dir = 'XY07'\n",
    "data_dir = osp.join(os.environ['CYTOKIT_DATA_DIR'], 'cytokit', 'mc38-spheroid', exp_name, exp_dir, 'raw')\n",
    "config_dir = osp.join(os.environ['CYTOKIT_REPO_DIR'], 'pub', 'config', 'mc38-spheroid')\n",
    "config = ck_config.load(config_dir)\n",
    "os.environ['CYTOKIT_PATH_FORMATS'] = 'get_default_path_formats(\"1_' + exp_dir + '_{tile:05d}_Z{z:03d}_CH{channel:d}.tif\")'\n",
    "config.register_environment()"
   ]
  },
  {
   "cell_type": "code",
   "execution_count": 3,
   "metadata": {},
   "outputs": [],
   "source": [
    "tile_gen = tile_generator.CytokitTileGenerator(config, data_dir, 0, 4)"
   ]
  },
  {
   "cell_type": "code",
   "execution_count": 4,
   "metadata": {},
   "outputs": [
    {
     "data": {
      "text/plain": [
       "(1, 26, 3, 1440, 1920)"
      ]
     },
     "execution_count": 4,
     "metadata": {},
     "output_type": "execute_result"
    }
   ],
   "source": [
    "tile = tile_gen.run()\n",
    "tile.shape"
   ]
  },
  {
   "cell_type": "code",
   "execution_count": 5,
   "metadata": {},
   "outputs": [],
   "source": [
    "op = cytometer_op.Cytometry2D(config)"
   ]
  },
  {
   "cell_type": "code",
   "execution_count": 6,
   "metadata": {},
   "outputs": [
    {
     "data": {
      "text/plain": [
       "<cytokit.ops.cytometry.Cytometry2D at 0x7f2947803908>"
      ]
     },
     "execution_count": 6,
     "metadata": {},
     "output_type": "execute_result"
    }
   ],
   "source": [
    "op.initialize()"
   ]
  },
  {
   "cell_type": "code",
   "execution_count": 7,
   "metadata": {},
   "outputs": [],
   "source": [
    "# %%time\n",
    "# img_seg = op.cytometer.segment(tile[0, :, 0], rescale_factor=None, min_object_size=1024, min_peak_dist=200)\n",
    "# img_seg.shape"
   ]
  },
  {
   "cell_type": "code",
   "execution_count": 8,
   "metadata": {},
   "outputs": [
    {
     "name": "stdout",
     "output_type": "stream",
     "text": [
      "CPU times: user 1min 6s, sys: 11.7 s, total: 1min 17s\n",
      "Wall time: 1min 17s\n"
     ]
    }
   ],
   "source": [
    "%%time\n",
    "img_seg = op.cytometer.segment(tile[0, :, 0], rescale_factor=.5, min_object_size=512, min_peak_dist=75)\n",
    "img_seg.shape"
   ]
  },
  {
   "cell_type": "code",
   "execution_count": 9,
   "metadata": {},
   "outputs": [],
   "source": [
    "#view(img_seg[:, 5].astype(np.float32).copy())"
   ]
  },
  {
   "cell_type": "code",
   "execution_count": 10,
   "metadata": {},
   "outputs": [
    {
     "name": "stdout",
     "output_type": "stream",
     "text": [
      "CPU times: user 4min 4s, sys: 3.28 s, total: 4min 7s\n",
      "Wall time: 4min 7s\n"
     ]
    }
   ],
   "source": [
    "%%time\n",
    "stats = op.cytometer.quantify(tile, img_seg, sigma=(.1, 1, 1), channel_names=config.channel_names, \n",
    "                              cell_graph=True, morphology_features=False, \n",
    "                              cell_intensity=['mean', 'sum'])"
   ]
  },
  {
   "cell_type": "code",
   "execution_count": 11,
   "metadata": {},
   "outputs": [
    {
     "name": "stdout",
     "output_type": "stream",
     "text": [
      "<class 'pandas.core.frame.DataFrame'>\n",
      "RangeIndex: 371 entries, 0 to 370\n",
      "Data columns (total 26 columns):\n",
      "id                     371 non-null int64\n",
      "x                      371 non-null float64\n",
      "y                      371 non-null float64\n",
      "z                      371 non-null int64\n",
      "cm:size                371 non-null int64\n",
      "cm:diameter            371 non-null float64\n",
      "cm:perimeter           371 non-null float64\n",
      "cm:solidity            371 non-null float64\n",
      "cm:circularity         371 non-null float64\n",
      "nm:size                371 non-null int64\n",
      "nm:diameter            371 non-null float64\n",
      "nm:perimeter           371 non-null float64\n",
      "nm:solidity            371 non-null float64\n",
      "nm:circularity         371 non-null float64\n",
      "cg:n_neighbors         371 non-null int64\n",
      "cg:neighbor_ids        371 non-null object\n",
      "cg:adj_neighbor_pct    371 non-null object\n",
      "cg:adj_bg_pct          371 non-null object\n",
      "ci:BF:mean             371 non-null float64\n",
      "ci:LIVE:mean           371 non-null float64\n",
      "ci:DEAD:mean           371 non-null float64\n",
      "ci:laplofgauss:mean    371 non-null float64\n",
      "ci:BF:sum              371 non-null int64\n",
      "ci:LIVE:sum            371 non-null int64\n",
      "ci:DEAD:sum            371 non-null int64\n",
      "ci:laplofgauss:sum     371 non-null int64\n",
      "dtypes: float64(14), int64(9), object(3)\n",
      "memory usage: 75.4+ KB\n"
     ]
    }
   ],
   "source": [
    "stats.info()"
   ]
  },
  {
   "cell_type": "code",
   "execution_count": 12,
   "metadata": {},
   "outputs": [
    {
     "data": {
      "text/plain": [
       "23"
      ]
     },
     "execution_count": 12,
     "metadata": {},
     "output_type": "execute_result"
    }
   ],
   "source": [
    "stats['id'].nunique()"
   ]
  },
  {
   "cell_type": "code",
   "execution_count": 15,
   "metadata": {},
   "outputs": [],
   "source": [
    "#!pip install line_profiler\n",
    "%load_ext line_profiler"
   ]
  },
  {
   "cell_type": "code",
   "execution_count": 18,
   "metadata": {},
   "outputs": [
    {
     "data": {
      "text/plain": [
       "Timer unit: 1e-06 s\n",
       "\n",
       "Total time: 265.727 s\n",
       "File: /lab/repos/cytokit/pub/analysis/mc38-spheroid/spheroid_cytometer.py\n",
       "Function: quantify at line 131\n",
       "\n",
       "Line #      Hits         Time  Per Hit   % Time  Line Contents\n",
       "==============================================================\n",
       "   131"
      ]
     },
     "metadata": {},
     "output_type": "display_data"
    }
   ],
   "source": [
    "%lprun -f op.cytometer.quantify stats = op.cytometer.quantify(tile, img_seg, channel_names=config.channel_names, cell_graph=True, morphology_features=False, cell_intensity=['mean', 'sum'])\n",
    "#%lprun -f op.cytometer.segment img_seg = op.cytometer.segment(tile[0, :, 0])"
   ]
  }
 ],
 "metadata": {
  "kernelspec": {
   "display_name": "Python 3",
   "language": "python",
   "name": "python3"
  },
  "language_info": {
   "codemirror_mode": {
    "name": "ipython",
    "version": 3
   },
   "file_extension": ".py",
   "mimetype": "text/x-python",
   "name": "python",
   "nbconvert_exporter": "python",
   "pygments_lexer": "ipython3",
   "version": "3.5.2"
  }
 },
 "nbformat": 4,
 "nbformat_minor": 2
}
