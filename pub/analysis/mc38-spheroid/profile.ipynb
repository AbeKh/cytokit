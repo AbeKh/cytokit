{
 "cells": [
  {
   "cell_type": "markdown",
   "metadata": {},
   "source": [
    "## Custom Segmentation Algorithm Profling\n",
    "\n",
    "Notebook to profile segmentation implementation ([spheroid_cytometer.py](spheroid_cytometer.py)) for performance deficiencies."
   ]
  },
  {
   "cell_type": "code",
   "execution_count": 1,
   "metadata": {},
   "outputs": [],
   "source": [
    "%matplotlib inline\n",
    "%run spheroid_cytometer.py\n",
    "import os\n",
    "import os.path as osp\n",
    "import numpy as np\n",
    "import matplotlib.pyplot as plt\n",
    "from skimage import feature\n",
    "from scipy import ndimage\n",
    "from skimage import feature\n",
    "from scipy import ndimage\n",
    "from skimage import morphology\n",
    "from skimage import filters\n",
    "from cytokit.ops import cytometry as cytometer_op\n",
    "from cytokit.ops import tile_generator\n",
    "from cytokit import math as ck_math\n",
    "from cytokit import config as ck_config"
   ]
  },
  {
   "cell_type": "code",
   "execution_count": 2,
   "metadata": {},
   "outputs": [],
   "source": [
    "from itkwidgets import view"
   ]
  },
  {
   "cell_type": "code",
   "execution_count": 3,
   "metadata": {},
   "outputs": [],
   "source": [
    "exp_name = '20190215-mc38-dmso-control'\n",
    "exp_dir = 'XY03'\n",
    "data_dir = osp.join(os.environ['CYTOKIT_DATA_DIR'], 'cytokit', 'mc38-spheroid', exp_name, exp_dir, 'raw')\n",
    "config_dir = osp.join(os.environ['CYTOKIT_REPO_DIR'], 'pub', 'config', 'mc38-spheroid')\n",
    "config = ck_config.load(config_dir)\n",
    "os.environ['CYTOKIT_PATH_FORMATS'] = 'get_default_path_formats(\"1_' + exp_dir + '_{tile:05d}_Z{z:03d}_CH{channel:d}.tif\")'\n",
    "config.register_environment()"
   ]
  },
  {
   "cell_type": "code",
   "execution_count": 4,
   "metadata": {},
   "outputs": [],
   "source": [
    "tile_gen = tile_generator.CytokitTileGenerator(config, data_dir, 0, 2)"
   ]
  },
  {
   "cell_type": "code",
   "execution_count": 5,
   "metadata": {},
   "outputs": [
    {
     "data": {
      "text/plain": [
       "(1, 26, 3, 1440, 1920)"
      ]
     },
     "execution_count": 5,
     "metadata": {},
     "output_type": "execute_result"
    }
   ],
   "source": [
    "tile = tile_gen.run()\n",
    "tile.shape"
   ]
  },
  {
   "cell_type": "code",
   "execution_count": 493,
   "metadata": {},
   "outputs": [
    {
     "data": {
      "text/plain": [
       "((26, 1440, 1920), dtype('uint16'))"
      ]
     },
     "execution_count": 493,
     "metadata": {},
     "output_type": "execute_result"
    }
   ],
   "source": [
    "from skimage import transform\n",
    "img = tile[0, :, 0]\n",
    "img = transform.rescale(img, (1, 1, 1), multichannel=False, preserve_range=True, anti_aliasing=True, mode='reflect').astype(img.dtype)\n",
    "img.shape, img.dtype"
   ]
  },
  {
   "cell_type": "code",
   "execution_count": 494,
   "metadata": {},
   "outputs": [
    {
     "data": {
      "application/vnd.jupyter.widget-view+json": {
       "model_id": "8efdeb41fa4d4a8fa0c2ff35f9942d59",
       "version_major": 2,
       "version_minor": 0
      },
      "text/plain": [
       "Viewer(gradient_opacity=0.22, rendered_image=<itkImagePython.itkImageUS3; proxy of <Swig Object of type 'itkIm…"
      ]
     },
     "metadata": {},
     "output_type": "display_data"
    }
   ],
   "source": [
    "view(img)"
   ]
  },
  {
   "cell_type": "code",
   "execution_count": 495,
   "metadata": {},
   "outputs": [],
   "source": [
    "\n",
    "def preprocess_slice(img):\n",
    "     # Verify 8 or 16 bit type before forcing to 8 bit (for median filtering)\n",
    "    assert img.dtype in [np.uint8, np.uint16], 'Expecting 8 or 16 bit image but got type %s' % img.dtype\n",
    "    if img.dtype == np.uint16:\n",
    "        img = exposure.rescale_intensity(img, out_range='uint8').astype(np.uint8)\n",
    "    assert img.dtype == np.uint8\n",
    "    \n",
    "    # Preprocess to remove outliers and blur\n",
    "    img = filters.median(img, selem=morphology.disk(3))\n",
    "    #img = filters.gaussian(img, sigma=1)\n",
    "\n",
    "    # Median requires 8 or 16 bit images (or a warning is thrown) but gaussian filter\n",
    "    # will convert result per img_as_float conventions leaving 0-1 image (verify that\n",
    "    # and stretch to 0-1)\n",
    "#     assert img.min() >= 0 and img.max() <= 1, \\\n",
    "#         'Expecting 0-1 image but got range %s - %s' % (img.min(), img.max())\n",
    "    img = exposure.rescale_intensity(img.astype(float), out_range=(0, 1)).astype(np.float32)\n",
    "    assert len(np.unique(img)) > 2\n",
    "    assert img.min() == 0 and img.max() == 1\n",
    "\n",
    "    # Run open-close morphological reconstruction\n",
    "#     img_seed = morphology.erosion(img, selem=morphology.disk(3))\n",
    "#     img = morphology.reconstruction(img_seed, img, method='dilation')\n",
    "#     img_seed = morphology.dilation(img, selem=morphology.disk(3))\n",
    "#     img = morphology.reconstruction(img_seed, img, method='erosion')\n",
    "    return img\n",
    "\n",
    "def preprocess(img):\n",
    "    if img.ndim not in [2, 3]:\n",
    "        raise ValueError('Expecting 2 or 3D grayscale image, not shape {}'.format(img.shape))\n",
    "    if img.ndim == 2:\n",
    "        img = img[np.newaxis]\n",
    "    return np.stack([preprocess_slice(img[i]) for i in range(img.shape[0])])\n"
   ]
  },
  {
   "cell_type": "code",
   "execution_count": 9,
   "metadata": {},
   "outputs": [
    {
     "data": {
      "text/plain": [
       "(0.0, 1.0)"
      ]
     },
     "execution_count": 9,
     "metadata": {},
     "output_type": "execute_result"
    }
   ],
   "source": [
    "img_prep = preprocess(img)\n",
    "img_prep.min(), img_prep.max()"
   ]
  },
  {
   "cell_type": "code",
   "execution_count": 76,
   "metadata": {},
   "outputs": [],
   "source": [
    "# view(np.stack([\n",
    "#     ndimage.gaussian_filter(img_prep[13], (s, s))\n",
    "#     for s in [4, 8, 16, 32, 65]\n",
    "# ]))"
   ]
  },
  {
   "cell_type": "code",
   "execution_count": 520,
   "metadata": {},
   "outputs": [
    {
     "name": "stdout",
     "output_type": "stream",
     "text": [
      "0.0 1.0 71884800\n"
     ]
    }
   ],
   "source": [
    "\n",
    "def flat_ball(r, rz):\n",
    "    return np.stack([\n",
    "        np.pad(morphology.disk(rz), r-rz, 'constant'),\n",
    "        morphology.disk(r),\n",
    "        np.pad(morphology.disk(rz), r-rz, 'constant'),\n",
    "    ])\n",
    "\n",
    "def prep(img):\n",
    "    #img = img - ndimage.gaussian_filter(img, sigma=(0, s, s))\n",
    "    img = ndimage.median_filter(img, size=(1, 3, 3))\n",
    "    img = img_as_float(img)\n",
    "    return img\n",
    "\n",
    "#gimage = standardize(img_prep, 16)\n",
    "gimage = prep(img)\n",
    "\n",
    "gimage = gimage - ndimage.gaussian_filter(gimage, sigma=(0, 16, 16), mode='reflect')\n",
    "#gimage = gimage - ndimage.gaussian_filter(gimage, sigma=(0, 16, 16), mode='reflect')\n",
    "gimage = exposure.rescale_intensity(gimage, out_range=(0, 1))\n",
    "gimage = ndimage.generic_gradient_magnitude(gimage, ndimage.sobel)\n",
    "#gimage = np.stack([filters.sobel(gimage[i]) for i in range(gimage.shape[0])])\n",
    "gimage = exposure.rescale_intensity(gimage, out_range=(0, 1))\n",
    "print(gimage.min(), gimage.max(), len(np.unique(gimage)))\n",
    "gimage = gimage > filters.threshold_li(gimage)\n",
    "#gimage = ndimage.binary_closing(gimage, structure=flat_ball(3, 1))\n",
    "\n",
    "#gimage = ndimage.binary_opening(gimage, structure=ndimage.morphology.generate_binary_structure(3, 2))\n",
    "#gimage = morphology.remove_small_objects(gimage, min_size=32)\n",
    "\n",
    "#gimage = np.abs(gimage)\n"
   ]
  },
  {
   "cell_type": "code",
   "execution_count": 521,
   "metadata": {},
   "outputs": [
    {
     "data": {
      "text/plain": [
       "(False, True, 2)"
      ]
     },
     "execution_count": 521,
     "metadata": {},
     "output_type": "execute_result"
    }
   ],
   "source": [
    "#gimage = exposure.rescale_intensity(gimage.astype(np.float32), (0, 1))\n",
    "gimage.min(), gimage.max(), len(np.unique(gimage))"
   ]
  },
  {
   "cell_type": "code",
   "execution_count": 522,
   "metadata": {},
   "outputs": [
    {
     "data": {
      "application/vnd.jupyter.widget-view+json": {
       "model_id": "655fe9eeb5984dc288b13da18db91660",
       "version_major": 2,
       "version_minor": 0
      },
      "text/plain": [
       "Viewer(gradient_opacity=0.22, rendered_image=<itkImagePython.itkImageF3; proxy of <Swig Object of type 'itkIma…"
      ]
     },
     "metadata": {},
     "output_type": "display_data"
    }
   ],
   "source": [
    "view(gimage.astype(np.float32))"
   ]
  },
  {
   "cell_type": "code",
   "execution_count": 490,
   "metadata": {},
   "outputs": [
    {
     "data": {
      "text/plain": [
       "0.9999847409781033"
      ]
     },
     "execution_count": 490,
     "metadata": {},
     "output_type": "execute_result"
    }
   ],
   "source": [
    "from skimage import img_as_float\n",
    "img_as_float(img).max()"
   ]
  },
  {
   "cell_type": "code",
   "execution_count": 492,
   "metadata": {},
   "outputs": [
    {
     "data": {
      "application/vnd.jupyter.widget-view+json": {
       "model_id": "89346ecbf64745d8b91e332877ff8ec0",
       "version_major": 2,
       "version_minor": 0
      },
      "text/plain": [
       "Viewer(gradient_opacity=0.22, rendered_image=<itkImagePython.itkImageF3; proxy of <Swig Object of type 'itkIma…"
      ]
     },
     "metadata": {},
     "output_type": "display_data"
    }
   ],
   "source": [
    "img_bound = np.stack([segmentation.find_boundaries(gimage[i]) for i in range(gimage.shape[0])])\n",
    "view(img_bound.astype(np.float32) * .5 + img_as_float(img).astype(np.float32))"
   ]
  },
  {
   "cell_type": "code",
   "execution_count": 158,
   "metadata": {},
   "outputs": [],
   "source": [
    "#img_si = feature.shape_index(img, sigma=10)\n",
    "#img_gd = ndimage.gaussian_gradient_magnitude(img, 2)\n",
    "from cytokit import io as ck_io\n",
    "#ck_io.save_image('/lab/data/tmp/test.tif', img_gd.astype(np.float32)[np.newaxis, :, np.newaxis])\n",
    "ck_io.save_image('/lab/data/tmp/test_true.tif', img.astype(np.float32)[np.newaxis, :, np.newaxis])\n",
    "ck_io.save_image('/lab/data/tmp/test_prep.tif', img_prep.astype(np.float32)[np.newaxis, :, np.newaxis])"
   ]
  },
  {
   "cell_type": "code",
   "execution_count": 380,
   "metadata": {},
   "outputs": [],
   "source": [
    "# def ball(r, nr, nc, nz):\n",
    "#     res = transform.resize(morphology.ball(r), (nz, nr, nc), mode='constant', anti_aliasing=False, preserve_range=True, clip=True)\n",
    "#     return (res > 0).astype(int)\n",
    "# imgball = ball(15, 21, 21, 3)\n",
    "# plt.imshow((imgball * np.arange(imgball.shape[0])[:, np.newaxis, np.newaxis]).max(axis=0))\n",
    "# plt.colorbar()"
   ]
  },
  {
   "cell_type": "code",
   "execution_count": 176,
   "metadata": {},
   "outputs": [],
   "source": [
    "from skimage.segmentation import morphological_geodesic_active_contour, inverse_gaussian_gradient\n",
    "from cytokit import io as ck_io\n",
    "\n",
    "import cv2\n",
    "\n",
    "def winVar(img, wlen):\n",
    "    wmean, wsqrmean = (cv2.boxFilter(x, -1, (wlen, wlen),\n",
    "        borderType=cv2.BORDER_REFLECT) for x in (img, img*img))\n",
    "    return wsqrmean - wmean*wmean\n",
    "\n",
    "\n",
    "\n",
    "def local_var(img, shape):\n",
    "    kernel = shape / shape.sum()\n",
    "    img_mean = ndimage.convolve(img, kernel)\n",
    "    return (img - img_mean)**2\n",
    "\n",
    "\n",
    "#     win_mean = ndimage.uniform_filter(img**2,shape)\n",
    "#     win_sqr_mean = ndimage.uniform_filter(img**2,shape)\n",
    "#     return win_sqr_mean - win_mean**2\n",
    "#     return ndimage.generic_filter(img, np.var, footprint=shape)\n",
    "\n",
    "\n",
    "#gimage = ndimage.median_filter(img, footprint=morphology.ball(3))\n",
    "#print(gimage.min(), gimage.max())\n",
    "\n",
    "gimage = exposure.rescale_intensity(img_prep.astype(float), out_range=(0, 1))\n",
    "#gimage = exposure.rescale_intensity(img.astype(float), out_range=(0, 1))\n",
    "#gimage = ndimage.gaussian_laplace(gimage, sigma=(.1, 1, 1))\n",
    "gimage = ndimage.generic_gradient_magnitude(gimage, ndimage.sobel)\n",
    "# High band-pass\n",
    "gimage = np.abs(gimage - ndimage.gaussian_filter(gimage, sigma=(.1, 5, 5)))\n",
    "gimage = exposure.rescale_intensity(gimage, out_range=(0, 1)).astype(np.float32)\n",
    "\n",
    "gimage = gimage > filters.threshold_otsu(gimage)\n",
    "gimage = ndimage.binary_closing(gimage, structure=ball(8, 17, 17, 3))\n",
    "#gimage = local_var(gimage.astype(float), flat_ball().astype(float))"
   ]
  },
  {
   "cell_type": "code",
   "execution_count": 177,
   "metadata": {},
   "outputs": [
    {
     "data": {
      "text/plain": [
       "<matplotlib.image.AxesImage at 0x7fb68b2f5940>"
      ]
     },
     "execution_count": 177,
     "metadata": {},
     "output_type": "execute_result"
    },
    {
     "data": {
      "image/png": "[encoded data removed]",
      "text/plain": [
       "<Figure size 432x288 with 1 Axes>"
      ]
     },
     "metadata": {},
     "output_type": "display_data"
    }
   ],
   "source": [
    "plt.imshow(gimage[8])"
   ]
  },
  {
   "cell_type": "code",
   "execution_count": 178,
   "metadata": {},
   "outputs": [],
   "source": [
    "ck_io.save_image('/lab/data/tmp/test_gimage.tif', np.stack([\n",
    "    gimage.astype(np.float32),\n",
    "    img.astype(np.float32)\n",
    "], 1)[np.newaxis])"
   ]
  },
  {
   "cell_type": "code",
   "execution_count": 64,
   "metadata": {},
   "outputs": [
    {
     "data": {
      "text/plain": [
       "(1.4491810533713392e-17, 0.7199063168027905)"
      ]
     },
     "execution_count": 64,
     "metadata": {},
     "output_type": "execute_result"
    }
   ],
   "source": [
    "gimage.min(), gimage.max()"
   ]
  },
  {
   "cell_type": "code",
   "execution_count": null,
   "metadata": {},
   "outputs": [],
   "source": [
    "plt.imshow(img_si[z_idx])"
   ]
  },
  {
   "cell_type": "code",
   "execution_count": 19,
   "metadata": {},
   "outputs": [],
   "source": [
    "op = cytometer_op.Cytometry2D(config)"
   ]
  },
  {
   "cell_type": "code",
   "execution_count": 6,
   "metadata": {},
   "outputs": [
    {
     "data": {
      "text/plain": [
       "<cytokit.ops.cytometry.Cytometry2D at 0x7f819c6b62b0>"
      ]
     },
     "execution_count": 6,
     "metadata": {},
     "output_type": "execute_result"
    }
   ],
   "source": [
    "op.initialize()"
   ]
  },
  {
   "cell_type": "code",
   "execution_count": 7,
   "metadata": {},
   "outputs": [],
   "source": [
    "# !pip install line_profiler\n",
    "%load_ext line_profiler"
   ]
  },
  {
   "cell_type": "code",
   "execution_count": 12,
   "metadata": {},
   "outputs": [
    {
     "data": {
      "text/plain": [
       "(26, 6, 1440, 1920)"
      ]
     },
     "execution_count": 12,
     "metadata": {},
     "output_type": "execute_result"
    }
   ],
   "source": [
    "img_seg = op.cytometer.segment(tile[0, :, 0])\n",
    "img_seg.shape"
   ]
  },
  {
   "cell_type": "code",
   "execution_count": 13,
   "metadata": {},
   "outputs": [],
   "source": [
    "stats = op.cytometer.quantify(tile, img_seg, channel_names=config.channel_names, morphology_features=True, nucleus_intensity=['mean', 'sum'])"
   ]
  },
  {
   "cell_type": "code",
   "execution_count": 14,
   "metadata": {},
   "outputs": [
    {
     "name": "stdout",
     "output_type": "stream",
     "text": [
      "<class 'pandas.core.frame.DataFrame'>\n",
      "RangeIndex: 1014 entries, 0 to 1013\n",
      "Data columns (total 33 columns):\n",
      "id                            1014 non-null int64\n",
      "x                             1014 non-null float64\n",
      "y                             1014 non-null float64\n",
      "z                             1014 non-null int64\n",
      "cm:size                       1014 non-null int64\n",
      "cm:diameter                   1014 non-null float64\n",
      "cm:perimeter                  1014 non-null float64\n",
      "cm:solidity                   1014 non-null float64\n",
      "nm:size                       1014 non-null int64\n",
      "nm:diameter                   1014 non-null float64\n",
      "nm:perimeter                  1014 non-null float64\n",
      "nm:solidity                   1014 non-null float64\n",
      "ci:BF:mean                    1014 non-null float64\n",
      "ci:LIVE:mean                  1014 non-null float64\n",
      "ci:DEAD:mean                  1014 non-null float64\n",
      "ni:BF:mean                    1014 non-null float64\n",
      "ni:LIVE:mean                  1014 non-null float64\n",
      "ni:DEAD:mean                  1014 non-null float64\n",
      "ni:BF:sum                     1014 non-null int64\n",
      "ni:LIVE:sum                   1014 non-null int64\n",
      "ni:DEAD:sum                   1014 non-null int64\n",
      "cm:BF:glcm:correlation        1014 non-null float64\n",
      "cm:BF:glcm:dissimilarity      1014 non-null float64\n",
      "cm:LIVE:glcm:correlation      1014 non-null float64\n",
      "cm:LIVE:glcm:dissimilarity    1014 non-null float64\n",
      "cm:DEAD:glcm:correlation      1014 non-null float64\n",
      "cm:DEAD:glcm:dissimilarity    1014 non-null float64\n",
      "nm:BF:glcm:correlation        1014 non-null float64\n",
      "nm:BF:glcm:dissimilarity      1014 non-null float64\n",
      "nm:LIVE:glcm:correlation      1014 non-null float64\n",
      "nm:LIVE:glcm:dissimilarity    1014 non-null float64\n",
      "nm:DEAD:glcm:correlation      1014 non-null float64\n",
      "nm:DEAD:glcm:dissimilarity    1014 non-null float64\n",
      "dtypes: float64(26), int64(7)\n",
      "memory usage: 261.5 KB\n"
     ]
    }
   ],
   "source": [
    "stats.info()"
   ]
  },
  {
   "cell_type": "code",
   "execution_count": 21,
   "metadata": {},
   "outputs": [
    {
     "data": {
      "text/plain": [
       "Timer unit: 1e-06 s\n",
       "\n",
       "Total time: 9.36233 s\n",
       "File: /lab/repos/cell-image-analysis/analysis/experiments/spheroid/20190215-mc38-dmso-control/spheroid_cytometer.py\n",
       "Function: segment at line 21\n",
       "\n",
       "Line #      Hits         Time  Per Hit   % Time  Line Contents\n",
       "==============================================================\n",
       "    21                                               def segment(self, img, **kwargs):\n",
       "    22         1         11.0     11.0      0.0          assert img.ndim == 3, 'Expecting 3D image, got shape %s' % img.shape\n",
       "    23                                                   \n",
       "    24                                                   # Run max-z projection to create single 2D image (but record initial number of z planes)\n",
       "    25         1          6.0      6.0      0.0          nz = img.shape[0]\n",
       "    26         1     137033.0 137033.0      1.5          img = img.max(axis=0)\n",
       "    27                                                   \n",
       "    28                                                   # Verify 8 or 16 bit type before forcing to 8 bit (for median filtering)\n",
       "    29         1         16.0     16.0      0.0          assert img.dtype in [np.uint8, np.uint16], 'Expecting 8 or 16 bit image but got type %s' % img.dtype\n",
       "    30         1          2.0      2.0      0.0          if img.dtype == np.uint16:\n",
       "    31         1      55424.0  55424.0      0.6              img = exposure.rescale_intensity(img, out_range='uint8').astype(np.uint8)\n",
       "    32         1          5.0      5.0      0.0          assert img.dtype == np.uint8\n",
       "    33         1          1.0      1.0      0.0          img_raw = img\n",
       "    34                                                   \n",
       "    35                                                   # Preprocess to remove outliers and blur\n",
       "    36         1     517221.0 517221.0      5.5          img = filters.median(img, selem=morphology.square(3))\n",
       "    37         1     116339.0 116339.0      1.2          img = filters.gaussian(img, sigma=3)\n",
       "    38                                                   \n",
       "    39                                                   # Median requires 8 or 16 bit images (or a warning is thrown) but gaussian filter\n",
       "    40                                                   # will convert result per img_as_float conventions leaving 0-1 image (verify that\n",
       "    41                                                   # and stretch to 0-1)\n",
       "    42         1       3062.0   3062.0      0.0          assert img.min() >= 0 and img.max() <= 1, \\\n",
       "    43                                                       'Expecting 0-1 image but got range %s - %s' % (img.min(), img.max())\n",
       "    44         1      30597.0  30597.0      0.3          img = exposure.rescale_intensity(img, out_range=(0, 1))\n",
       "    45         1       2966.0   2966.0      0.0          assert img.min() == 0 and img.max() == 1\n",
       "    46                                           \n",
       "    47                                                   # Run open-close morphological reconstruction\n",
       "    48         1     586317.0 586317.0      6.3          img_seed = morphology.erosion(img, selem=morphology.disk(8))\n",
       "    49         1    2179520.0 2179520.0     23.3          img = morphology.reconstruction(img_seed, img, method='dilation')\n",
       "    50         1     585683.0 585683.0      6.3          img_seed = morphology.dilation(img, selem=morphology.disk(8))\n",
       "    51         1    1878431.0 1878431.0     20.1          img = morphology.reconstruction(img_seed, img, method='erosion')\n",
       "    52                                           \n",
       "    53                                                   # Compute gradient, blur, and threshold to give reasonable outlines of objects\n",
       "    54         1      89024.0  89024.0      1.0          img_grad = filters.sobel(img)\n",
       "    55         1      57898.0  57898.0      0.6          img_grad = filters.gaussian(img_grad, sigma=1)\n",
       "    56         1      79568.0  79568.0      0.8          img_grad_bin = img_grad > filters.threshold_li(img_grad)\n",
       "    57                                           \n",
       "    58                                                   # Fill in outlines by performing large radius closing\n",
       "    59         1      43263.0  43263.0      0.5          img_mask = morphology.remove_small_objects(img_grad_bin, min_size=64)\n",
       "    60         1    1614051.0 1614051.0     17.2          img_mask = morphology.binary_closing(img_mask, selem=morphology.disk(15))\n",
       "    61         1      44595.0  44595.0      0.5          img_mask = morphology.remove_small_holes(img_mask, area_threshold=2048)\n",
       "    62                                           \n",
       "    63                                                   # Determine seed for primary object segmentation as peak local max in mask dist\n",
       "    64         1     253103.0 253103.0      2.7          img_mask_dist = distance_transform_edt(img_mask)\n",
       "    65         1     131616.0 131616.0      1.4          img_mask_dist = filters.gaussian(img_mask_dist, sigma=5) # Large sigma helps join nearby peaks\n",
       "    66         1      68459.0  68459.0      0.7          img_markers = feature.peak_local_max(img_mask_dist, indices=False, exclude_border=False, min_distance=128)\n",
       "    67         1       4085.0   4085.0      0.0          img_basin = -img_mask_dist\n",
       "    68                                           \n",
       "    69                                                   # Segment larger objects (i.e. spheroids)\n",
       "    70         1     204788.0 204788.0      2.2          img_seg = segmentation.watershed(img_basin, measure.label(img_markers), mask=img_mask).astype(np.uint16)\n",
       "    71                                           \n",
       "    72                                                   # Convert (h, w) -> required (z, (cell, nucleus, ...[others]), h, w) format \n",
       "    73         1          2.0      2.0      0.0          img_seg = np.stack([\n",
       "    74         1          1.0      1.0      0.0              img_seg, img_seg,\n",
       "    75         1      29481.0  29481.0      0.3              exposure.rescale_intensity(img, out_range='uint16').astype(np.uint16),\n",
       "    76         1      23922.0  23922.0      0.3              exposure.rescale_intensity(img_grad, out_range='uint16').astype(np.uint16),\n",
       "    77         1      24361.0  24361.0      0.3              exposure.rescale_intensity(img_basin, out_range='uint16').astype(np.uint16),\n",
       "    78         1        781.0    781.0      0.0              img_markers.astype(np.uint16),\n",
       "    79         1      23031.0  23031.0      0.2              img_mask.astype(np.uint16)\n",
       "    80                                                   ])\n",
       "    81         1     577671.0 577671.0      6.2          return np.stack([img_seg]*nz)"
      ]
     },
     "metadata": {},
     "output_type": "display_data"
    }
   ],
   "source": [
    "%lprun -f op.cytometer.segment img_seg = op.cytometer.segment(tile[0, :, 0])"
   ]
  }
 ],
 "metadata": {
  "kernelspec": {
   "display_name": "Python 3",
   "language": "python",
   "name": "python3"
  },
  "language_info": {
   "codemirror_mode": {
    "name": "ipython",
    "version": 3
   },
   "file_extension": ".py",
   "mimetype": "text/x-python",
   "name": "python",
   "nbconvert_exporter": "python",
   "pygments_lexer": "ipython3",
   "version": "3.5.2"
  }
 },
 "nbformat": 4,
 "nbformat_minor": 2
}
