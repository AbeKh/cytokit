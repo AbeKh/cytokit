{
 "cells": [
  {
   "cell_type": "code",
   "execution_count": 3,
   "metadata": {},
   "outputs": [],
   "source": [
    "from tifffile import imread, imsave, TiffFile\n",
    "#file = '/lab/data/20180101_codex_spleen/balbc/slide1/raw/BALBc-1_X01_Y01.tif'\n",
    "file = '/lab/data/20180101_codex_spleen/balbc/slide1/raw/BALBc-1_X05_Y05.tif'\n",
    "with TiffFile(file) as tif:\n",
    "    tags = dict(tif.imagej_metadata)"
   ]
  },
  {
   "cell_type": "code",
   "execution_count": 4,
   "metadata": {},
   "outputs": [
    {
     "data": {
      "text/plain": [
       "{'ImageJ': '1.50g',\n",
       " 'Ranges': (787.0, 28535.0, 787.0, 28535.0, 787.0, 28535.0),\n",
       " 'channels': 3,\n",
       " 'frames': 18,\n",
       " 'hyperstack': True,\n",
       " 'images': 810,\n",
       " 'loop': False,\n",
       " 'max': 28535.0,\n",
       " 'min': 787.0,\n",
       " 'mode': 'composite',\n",
       " 'slices': 15}"
      ]
     },
     "execution_count": 4,
     "metadata": {},
     "output_type": "execute_result"
    }
   ],
   "source": [
    "tags"
   ]
  },
  {
   "cell_type": "code",
   "execution_count": 5,
   "metadata": {},
   "outputs": [],
   "source": [
    "from cytokit import io as ckio"
   ]
  },
  {
   "cell_type": "code",
   "execution_count": 6,
   "metadata": {},
   "outputs": [
    {
     "name": "stderr",
     "output_type": "stream",
     "text": [
      "/lab/repos/cytokit/python/pipeline/cytokit/io.py:131: UserWarning: ImageJ tags do not contain \"axes\" property (file = /lab/data/20180101_codex_spleen/balbc/slide1/raw/BALBc-1_X05_Y05.tif, tags = {'channels': 3, 'slices': 15, 'Ranges': (787.0, 28535.0, 787.0, 28535.0, 787.0, 28535.0), 'max': 28535.0, 'frames': 18, 'mode': 'composite', 'images': 810, 'hyperstack': True, 'ImageJ': '1.50g', 'min': 787.0, 'loop': False})\n",
      "  warnings.warn('ImageJ tags do not contain \"axes\" property (file = {}, tags = {})'.format(file, tags))\n"
     ]
    },
    {
     "data": {
      "text/plain": [
       "(18, 15, 3, 1008, 1344)"
      ]
     },
     "execution_count": 6,
     "metadata": {},
     "output_type": "execute_result"
    }
   ],
   "source": [
    "tile = ckio.read_tile(file)\n",
    "tile.shape"
   ]
  },
  {
   "cell_type": "code",
   "execution_count": null,
   "metadata": {},
   "outputs": [],
   "source": []
  }
 ],
 "metadata": {
  "kernelspec": {
   "display_name": "Python 3",
   "language": "python",
   "name": "python3"
  },
  "language_info": {
   "codemirror_mode": {
    "name": "ipython",
    "version": 3
   },
   "file_extension": ".py",
   "mimetype": "text/x-python",
   "name": "python",
   "nbconvert_exporter": "python",
   "pygments_lexer": "ipython3",
   "version": "3.5.2"
  }
 },
 "nbformat": 4,
 "nbformat_minor": 2
}
